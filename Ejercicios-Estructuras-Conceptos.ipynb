{
 "cells": [
  {
   "cell_type": "code",
   "execution_count": 11,
   "source": [
    "valores = [1, -42, 44, 29, 12, -56, 15, -67, 22, -15, 2]\r\n",
    "valores2 = list(filter(lambda x: x > 0 and x % 2 == 0, valores))\r\n",
    "valores3 = list(x for x in valores if x > 0 and x % 2 == 0)\r\n",
    "print(valores)\r\n",
    "print(valores2)\r\n",
    "print(valores3)"
   ],
   "outputs": [
    {
     "output_type": "stream",
     "name": "stdout",
     "text": [
      "[1, -42, 44, 29, 12, -56, 15, -67, 22, -15, 2]\n",
      "[44, 12, 22, 2]\n",
      "[44, 12, 22, 2]\n"
     ]
    }
   ],
   "metadata": {}
  },
  {
   "cell_type": "code",
   "execution_count": 15,
   "source": [
    "min1, max1, sum1, len1, prom1 = min(valores), max(valores), sum(valores), len(valores), sum(valores)/len(valores)\r\n",
    "min2, max2, sum2, len2, prom2 = min(valores2), max(valores2), sum(valores2), len(valores2), sum(valores2)/len(valores2)\r\n",
    "print('Minimo: ', min1, ' - Maximo: ', max1, ' - Suma: ', sum1, ' - Cantidad: ', len1, ' - Promedio: ', prom1)\r\n",
    "print('Minimo: ', min2, ' - Maximo: ', max2, ' - Suma: ', sum2, ' - Cantidad: ', len2, ' - Promedio: ', prom2)"
   ],
   "outputs": [
    {
     "output_type": "stream",
     "name": "stdout",
     "text": [
      "Minimo:  -67  - Maximo:  44  - Suma:  -55  - Cantidad:  11  - Promedio:  -5.0\n",
      "Minimo:  2  - Maximo:  44  - Suma:  80  - Cantidad:  4  - Promedio:  20.0\n"
     ]
    }
   ],
   "metadata": {}
  },
  {
   "cell_type": "code",
   "execution_count": 22,
   "source": [
    "nombres = 'Janay,Luisa,Antonia,Alida,Jacquie,Matha,Wilford,Altagracia'\r\n",
    "lista_nombres = nombres.split(',')\r\n",
    "print(lista_nombres)\r\n",
    "print(sorted(lista_nombres))\r\n",
    "print(lista_nombres)\r\n",
    "lista_nombres.sort()\r\n",
    "print(lista_nombres)"
   ],
   "outputs": [
    {
     "output_type": "stream",
     "name": "stdout",
     "text": [
      "['Janay', 'Luisa', 'Antonia', 'Alida', 'Jacquie', 'Matha', 'Wilford', 'Altagracia']\n",
      "['Alida', 'Altagracia', 'Antonia', 'Jacquie', 'Janay', 'Luisa', 'Matha', 'Wilford']\n",
      "['Janay', 'Luisa', 'Antonia', 'Alida', 'Jacquie', 'Matha', 'Wilford', 'Altagracia']\n",
      "['Alida', 'Altagracia', 'Antonia', 'Jacquie', 'Janay', 'Luisa', 'Matha', 'Wilford']\n"
     ]
    }
   ],
   "metadata": {}
  },
  {
   "cell_type": "code",
   "execution_count": 40,
   "source": [
    "def enteros_decimales(lista_numeros: list):\r\n",
    "    for numero in lista_numeros:\r\n",
    "        if type(numero) != int and type(numero) != float:\r\n",
    "            return False\r\n",
    "    return True\r\n",
    "\r\n",
    "def Multiplicar(lista_numeros: list):\r\n",
    "    #print(lista[::2])\r\n",
    "    multiplica = 1\r\n",
    "    if type(lista_numeros) == list and enteros_decimales(lista_numeros):\r\n",
    "        #print(lista_numeros[::2])\r\n",
    "        for numero in lista_numeros[::2]:\r\n",
    "            multiplica *= numero\r\n",
    "        print(multiplica)\r\n",
    "    else:\r\n",
    "        print('No es una lista de enteros o decimales')\r\n",
    "\r\n",
    "Multiplicar([1, 2, 3, 4, 5, 6, 7, 8])\r\n",
    "Multiplicar([1, 2, 3])\r\n",
    "Multiplicar([4, 5, 6])\r\n",
    "Multiplicar('hola')"
   ],
   "outputs": [
    {
     "output_type": "stream",
     "name": "stdout",
     "text": [
      "105\n",
      "3\n",
      "24\n",
      "No es una lista de enteros o decimales\n"
     ]
    }
   ],
   "metadata": {}
  },
  {
   "cell_type": "code",
   "execution_count": 42,
   "source": [
    "una_tupla = tuple(lista_nombres)\r\n",
    "print(una_tupla[::-1])"
   ],
   "outputs": [
    {
     "output_type": "stream",
     "name": "stdout",
     "text": [
      "('Wilford', 'Matha', 'Luisa', 'Janay', 'Jacquie', 'Antonia', 'Altagracia', 'Alida')\n"
     ]
    }
   ],
   "metadata": {}
  },
  {
   "cell_type": "code",
   "execution_count": 3,
   "source": [
    "def Calcular(ancho: int, alto: int):\r\n",
    "    return (ancho*alto, ancho*2+alto*2)\r\n",
    "\r\n",
    "superficie, perimetro = Calcular(2, 3)\r\n",
    "print('Superficie: ', superficie, ' - Perimetro: ', perimetro)\r\n",
    "#print(type(Calcular(2, 3)))"
   ],
   "outputs": [
    {
     "output_type": "stream",
     "name": "stdout",
     "text": [
      "Superficie:  6  - Perimetro:  10\n"
     ]
    }
   ],
   "metadata": {}
  },
  {
   "cell_type": "code",
   "execution_count": 4,
   "source": [
    "a = 1\r\n",
    "b = 2\r\n",
    "print('A: ', a, ' - B: ', b)\r\n",
    "a, b = b, a\r\n",
    "print('A: ', a, ' - B: ', b)"
   ],
   "outputs": [
    {
     "output_type": "stream",
     "name": "stdout",
     "text": [
      "A:  1  - B:  2\n",
      "A:  2  - B:  1\n"
     ]
    }
   ],
   "metadata": {}
  },
  {
   "cell_type": "code",
   "execution_count": 16,
   "source": [
    "def Calcular_Monto(compra_realizada: dict):\r\n",
    "    precios = {\r\n",
    "      'Fideos': 188,\r\n",
    "      'Azucar': 83,\r\n",
    "      'Sal': 71,\r\n",
    "      'Huevos': 111,\r\n",
    "      'Crema': 179,\r\n",
    "      'Gaseosa': 193,\r\n",
    "      'Pan': 93,\r\n",
    "      'Salsa': 123\r\n",
    "    }\r\n",
    "    for compra in compra_realizada:\r\n",
    "        print(f'Producto: {compra} - Cantidad: {compra_realizada[compra]} - Valor: {precios[compra]} - Total: {compra_realizada[compra] * precios[compra]}')\r\n",
    "\r\n",
    "Calcular_Monto({\r\n",
    "      'Fideos': 2,\r\n",
    "      'Azucar': 2,\r\n",
    "      'Sal': 2,\r\n",
    "      'Huevos': 2,\r\n",
    "      'Crema': 2,\r\n",
    "      'Gaseosa': 2,\r\n",
    "      'Pan': 2,\r\n",
    "      'Salsa': 2\r\n",
    "    })\r\n"
   ],
   "outputs": [
    {
     "output_type": "stream",
     "name": "stdout",
     "text": [
      "Producto: Fideos - Cantidad: 2 - Valor: 188 - Total: 376\n",
      "Producto: Azucar - Cantidad: 2 - Valor: 83 - Total: 166\n",
      "Producto: Sal - Cantidad: 2 - Valor: 71 - Total: 142\n",
      "Producto: Huevos - Cantidad: 2 - Valor: 111 - Total: 222\n",
      "Producto: Crema - Cantidad: 2 - Valor: 179 - Total: 358\n",
      "Producto: Gaseosa - Cantidad: 2 - Valor: 193 - Total: 386\n",
      "Producto: Pan - Cantidad: 2 - Valor: 93 - Total: 186\n",
      "Producto: Salsa - Cantidad: 2 - Valor: 123 - Total: 246\n"
     ]
    }
   ],
   "metadata": {}
  },
  {
   "cell_type": "code",
   "execution_count": 18,
   "source": [
    "def Calcular_Freceuencia(texto: object):\r\n",
    "    lista_frecuencia: dict\r\n",
    "    lista_palabras: list\r\n",
    "    lista_palabras = texto.split(' ')\r\n",
    "    print(lista_palabras)\r\n",
    "\r\n",
    "    lista_frecuencia['hola'] = 2\r\n",
    "\r\n",
    "Calcular_Freceuencia('hola esta es una prueba')"
   ],
   "outputs": [
    {
     "output_type": "stream",
     "name": "stdout",
     "text": [
      "['hola', 'esta', 'es', 'una', 'prueba']\n"
     ]
    },
    {
     "output_type": "error",
     "ename": "UnboundLocalError",
     "evalue": "local variable 'lista_frecuencia' referenced before assignment",
     "traceback": [
      "\u001b[1;31m---------------------------------------------------------------------------\u001b[0m",
      "\u001b[1;31mUnboundLocalError\u001b[0m                         Traceback (most recent call last)",
      "\u001b[1;32m~\\AppData\\Local\\Temp/ipykernel_18736/2430594698.py\u001b[0m in \u001b[0;36m<module>\u001b[1;34m\u001b[0m\n\u001b[0;32m      7\u001b[0m     \u001b[0mlista_frecuencia\u001b[0m\u001b[1;33m[\u001b[0m\u001b[1;34m'hola'\u001b[0m\u001b[1;33m]\u001b[0m \u001b[1;33m=\u001b[0m \u001b[1;36m2\u001b[0m\u001b[1;33m\u001b[0m\u001b[1;33m\u001b[0m\u001b[0m\n\u001b[0;32m      8\u001b[0m \u001b[1;33m\u001b[0m\u001b[0m\n\u001b[1;32m----> 9\u001b[1;33m \u001b[0mCalcular_Freceuencia\u001b[0m\u001b[1;33m(\u001b[0m\u001b[1;34m'hola esta es una prueba'\u001b[0m\u001b[1;33m)\u001b[0m\u001b[1;33m\u001b[0m\u001b[1;33m\u001b[0m\u001b[0m\n\u001b[0m",
      "\u001b[1;32m~\\AppData\\Local\\Temp/ipykernel_18736/2430594698.py\u001b[0m in \u001b[0;36mCalcular_Freceuencia\u001b[1;34m(texto)\u001b[0m\n\u001b[0;32m      5\u001b[0m     \u001b[0mprint\u001b[0m\u001b[1;33m(\u001b[0m\u001b[0mlista_palabras\u001b[0m\u001b[1;33m)\u001b[0m\u001b[1;33m\u001b[0m\u001b[1;33m\u001b[0m\u001b[0m\n\u001b[0;32m      6\u001b[0m \u001b[1;33m\u001b[0m\u001b[0m\n\u001b[1;32m----> 7\u001b[1;33m     \u001b[0mlista_frecuencia\u001b[0m\u001b[1;33m[\u001b[0m\u001b[1;34m'hola'\u001b[0m\u001b[1;33m]\u001b[0m \u001b[1;33m=\u001b[0m \u001b[1;36m2\u001b[0m\u001b[1;33m\u001b[0m\u001b[1;33m\u001b[0m\u001b[0m\n\u001b[0m\u001b[0;32m      8\u001b[0m \u001b[1;33m\u001b[0m\u001b[0m\n\u001b[0;32m      9\u001b[0m \u001b[0mCalcular_Freceuencia\u001b[0m\u001b[1;33m(\u001b[0m\u001b[1;34m'hola esta es una prueba'\u001b[0m\u001b[1;33m)\u001b[0m\u001b[1;33m\u001b[0m\u001b[1;33m\u001b[0m\u001b[0m\n",
      "\u001b[1;31mUnboundLocalError\u001b[0m: local variable 'lista_frecuencia' referenced before assignment"
     ]
    }
   ],
   "metadata": {}
  },
  {
   "cell_type": "code",
   "execution_count": null,
   "source": [],
   "outputs": [],
   "metadata": {}
  }
 ],
 "metadata": {
  "orig_nbformat": 4,
  "language_info": {
   "name": "python",
   "version": "3.9.7",
   "mimetype": "text/x-python",
   "codemirror_mode": {
    "name": "ipython",
    "version": 3
   },
   "pygments_lexer": "ipython3",
   "nbconvert_exporter": "python",
   "file_extension": ".py"
  },
  "kernelspec": {
   "name": "python3",
   "display_name": "Python 3.9.7 64-bit (windows store)"
  },
  "interpreter": {
   "hash": "6e38c271043618fdabfcd731a22bd25018a77cb3c7078e3658069e5fd357b7b3"
  }
 },
 "nbformat": 4,
 "nbformat_minor": 2
}