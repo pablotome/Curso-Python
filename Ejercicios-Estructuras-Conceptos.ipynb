{
 "cells": [
  {
   "cell_type": "code",
   "execution_count": 11,
   "metadata": {},
   "outputs": [
    {
     "name": "stdout",
     "output_type": "stream",
     "text": [
      "[1, -42, 44, 29, 12, -56, 15, -67, 22, -15, 2]\n",
      "[44, 12, 22, 2]\n",
      "[44, 12, 22, 2]\n"
     ]
    }
   ],
   "source": [
    "valores = [1, -42, 44, 29, 12, -56, 15, -67, 22, -15, 2]\n",
    "valores2 = list(filter(lambda x: x > 0 and x % 2 == 0, valores))\n",
    "valores3 = list(x for x in valores if x > 0 and x % 2 == 0)\n",
    "print(valores)\n",
    "print(valores2)\n",
    "print(valores3)"
   ]
  },
  {
   "cell_type": "code",
   "execution_count": 15,
   "metadata": {},
   "outputs": [
    {
     "name": "stdout",
     "output_type": "stream",
     "text": [
      "Minimo:  -67  - Maximo:  44  - Suma:  -55  - Cantidad:  11  - Promedio:  -5.0\n",
      "Minimo:  2  - Maximo:  44  - Suma:  80  - Cantidad:  4  - Promedio:  20.0\n"
     ]
    }
   ],
   "source": [
    "min1, max1, sum1, len1, prom1 = min(valores), max(valores), sum(valores), len(valores), sum(valores)/len(valores)\n",
    "min2, max2, sum2, len2, prom2 = min(valores2), max(valores2), sum(valores2), len(valores2), sum(valores2)/len(valores2)\n",
    "print('Minimo: ', min1, ' - Maximo: ', max1, ' - Suma: ', sum1, ' - Cantidad: ', len1, ' - Promedio: ', prom1)\n",
    "print('Minimo: ', min2, ' - Maximo: ', max2, ' - Suma: ', sum2, ' - Cantidad: ', len2, ' - Promedio: ', prom2)"
   ]
  },
  {
   "cell_type": "code",
   "execution_count": 22,
   "metadata": {},
   "outputs": [
    {
     "name": "stdout",
     "output_type": "stream",
     "text": [
      "['Janay', 'Luisa', 'Antonia', 'Alida', 'Jacquie', 'Matha', 'Wilford', 'Altagracia']\n",
      "['Alida', 'Altagracia', 'Antonia', 'Jacquie', 'Janay', 'Luisa', 'Matha', 'Wilford']\n",
      "['Janay', 'Luisa', 'Antonia', 'Alida', 'Jacquie', 'Matha', 'Wilford', 'Altagracia']\n",
      "['Alida', 'Altagracia', 'Antonia', 'Jacquie', 'Janay', 'Luisa', 'Matha', 'Wilford']\n"
     ]
    }
   ],
   "source": [
    "nombres = 'Janay,Luisa,Antonia,Alida,Jacquie,Matha,Wilford,Altagracia'\n",
    "lista_nombres = nombres.split(',')\n",
    "print(lista_nombres)\n",
    "print(sorted(lista_nombres))\n",
    "print(lista_nombres)\n",
    "lista_nombres.sort()\n",
    "print(lista_nombres)"
   ]
  },
  {
   "cell_type": "code",
   "execution_count": 40,
   "metadata": {},
   "outputs": [
    {
     "name": "stdout",
     "output_type": "stream",
     "text": [
      "105\n",
      "3\n",
      "24\n",
      "No es una lista de enteros o decimales\n"
     ]
    }
   ],
   "source": [
    "def enteros_decimales(lista_numeros: list):\n",
    "    for numero in lista_numeros:\n",
    "        if type(numero) != int and type(numero) != float:\n",
    "            return False\n",
    "    return True\n",
    "\n",
    "def Multiplicar(lista_numeros: list):\n",
    "    #print(lista[::2])\n",
    "    multiplica = 1\n",
    "    if type(lista_numeros) == list and enteros_decimales(lista_numeros):\n",
    "        #print(lista_numeros[::2])\n",
    "        for numero in lista_numeros[::2]:\n",
    "            multiplica *= numero\n",
    "        print(multiplica)\n",
    "    else:\n",
    "        print('No es una lista de enteros o decimales')\n",
    "\n",
    "Multiplicar([1, 2, 3, 4, 5, 6, 7, 8])\n",
    "Multiplicar([1, 2, 3])\n",
    "Multiplicar([4, 5, 6])\n",
    "Multiplicar('hola')"
   ]
  },
  {
   "cell_type": "code",
   "execution_count": 42,
   "metadata": {},
   "outputs": [
    {
     "name": "stdout",
     "output_type": "stream",
     "text": [
      "('Wilford', 'Matha', 'Luisa', 'Janay', 'Jacquie', 'Antonia', 'Altagracia', 'Alida')\n"
     ]
    }
   ],
   "source": [
    "una_tupla = tuple(lista_nombres)\n",
    "print(una_tupla[::-1])"
   ]
  },
  {
   "cell_type": "code",
   "execution_count": 3,
   "metadata": {},
   "outputs": [
    {
     "name": "stdout",
     "output_type": "stream",
     "text": [
      "Superficie:  6  - Perimetro:  10\n"
     ]
    }
   ],
   "source": [
    "def Calcular(ancho: int, alto: int):\n",
    "    return (ancho*alto, ancho*2+alto*2)\n",
    "\n",
    "superficie, perimetro = Calcular(2, 3)\n",
    "print('Superficie: ', superficie, ' - Perimetro: ', perimetro)\n",
    "#print(type(Calcular(2, 3)))"
   ]
  },
  {
   "cell_type": "code",
   "execution_count": 4,
   "metadata": {},
   "outputs": [
    {
     "name": "stdout",
     "output_type": "stream",
     "text": [
      "A:  1  - B:  2\n",
      "A:  2  - B:  1\n"
     ]
    }
   ],
   "source": [
    "a = 1\n",
    "b = 2\n",
    "print('A: ', a, ' - B: ', b)\n",
    "a, b = b, a\n",
    "print('A: ', a, ' - B: ', b)"
   ]
  },
  {
   "cell_type": "code",
   "execution_count": 16,
   "metadata": {},
   "outputs": [
    {
     "name": "stdout",
     "output_type": "stream",
     "text": [
      "Producto: Fideos - Cantidad: 2 - Valor: 188 - Total: 376\n",
      "Producto: Azucar - Cantidad: 2 - Valor: 83 - Total: 166\n",
      "Producto: Sal - Cantidad: 2 - Valor: 71 - Total: 142\n",
      "Producto: Huevos - Cantidad: 2 - Valor: 111 - Total: 222\n",
      "Producto: Crema - Cantidad: 2 - Valor: 179 - Total: 358\n",
      "Producto: Gaseosa - Cantidad: 2 - Valor: 193 - Total: 386\n",
      "Producto: Pan - Cantidad: 2 - Valor: 93 - Total: 186\n",
      "Producto: Salsa - Cantidad: 2 - Valor: 123 - Total: 246\n"
     ]
    }
   ],
   "source": [
    "def Calcular_Monto(compra_realizada: dict):\n",
    "    precios = {\n",
    "      'Fideos': 188,\n",
    "      'Azucar': 83,\n",
    "      'Sal': 71,\n",
    "      'Huevos': 111,\n",
    "      'Crema': 179,\n",
    "      'Gaseosa': 193,\n",
    "      'Pan': 93,\n",
    "      'Salsa': 123\n",
    "    }\n",
    "    for compra in compra_realizada:\n",
    "        print(f'Producto: {compra} - Cantidad: {compra_realizada[compra]} - Valor: {precios[compra]} - Total: {compra_realizada[compra] * precios[compra]}')\n",
    "\n",
    "Calcular_Monto({\n",
    "      'Fideos': 2,\n",
    "      'Azucar': 2,\n",
    "      'Sal': 2,\n",
    "      'Huevos': 2,\n",
    "      'Crema': 2,\n",
    "      'Gaseosa': 2,\n",
    "      'Pan': 2,\n",
    "      'Salsa': 2\n",
    "    })\n"
   ]
  },
  {
   "cell_type": "code",
   "execution_count": 6,
   "metadata": {},
   "outputs": [
    {
     "name": "stdout",
     "output_type": "stream",
     "text": [
      "['hola', 'esta', 'es', 'una', 'prueba', 'es', 'es', 'ese', 'es']\n",
      "{'hola': 0, 'esta': 0, 'es': 0, 'una': 0, 'prueba': 0, 'ese': 0}\n",
      "{'hola': 1, 'esta': 1, 'es': 4, 'una': 1, 'prueba': 1, 'ese': 1}\n"
     ]
    }
   ],
   "source": [
    "def Calcular_Freceuencia(texto: object):\n",
    "    lista_frecuencia: dict\n",
    "    lista_palabras: list\n",
    "    lista_palabras = texto.split(' ')\n",
    "    print(lista_palabras)\n",
    "\n",
    "    lista_frecuencia = dict.fromkeys(lista_palabras, 0)\n",
    "    print(lista_frecuencia)\n",
    "\n",
    "    for palabra in lista_frecuencia:\n",
    "        lista_frecuencia[palabra] = lista_palabras.count(palabra)\n",
    "\n",
    "    print(lista_frecuencia)\n",
    "\n",
    "Calcular_Freceuencia('hola esta es una prueba es es ese es')"
   ]
  },
  {
   "cell_type": "code",
   "execution_count": null,
   "metadata": {},
   "outputs": [],
   "source": []
  }
 ],
 "metadata": {
  "interpreter": {
   "hash": "6e38c271043618fdabfcd731a22bd25018a77cb3c7078e3658069e5fd357b7b3"
  },
  "kernelspec": {
   "display_name": "Python 3.9.7 64-bit (windows store)",
   "name": "python3"
  },
  "language_info": {
   "codemirror_mode": {
    "name": "ipython",
    "version": 3
   },
   "file_extension": ".py",
   "mimetype": "text/x-python",
   "name": "python",
   "nbconvert_exporter": "python",
   "pygments_lexer": "ipython3",
   "version": "3.9.7"
  },
  "orig_nbformat": 4
 },
 "nbformat": 4,
 "nbformat_minor": 2
}
