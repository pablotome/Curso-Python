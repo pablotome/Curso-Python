{
 "cells": [
  {
   "cell_type": "markdown",
   "metadata": {},
   "source": [
    "# Practica Text Mining\n",
    "- Dataset: https://www.datos.gob.ar/dataset/justicia-registro-obsequios-funcionarios-publicos\n",
    "- Vamos a analizar la columna `obsequio_descripcion`\n",
    "- Preprocesar y tokenizar con spaCy.\n",
    "- Obtener los sustantivos, verbos y adjetivos más frecuentes. Los 20 primeros de cada uno.\n",
    "- Obtener los 20 bigramas mas frecuentes.\n",
    "- Obtener las 20 entidades mas frecuentes.\n",
    "- Se puede usar visualizacion como recurso de Storytelling.\n",
    "- Opcional. Hacer este mismo analisis pero con Parseo de Dependencias."
   ]
  }
 ],
 "metadata": {
  "kernelspec": {
   "display_name": "env-text-mining-ort",
   "language": "python",
   "name": "env-text-mining-ort"
  },
  "language_info": {
   "codemirror_mode": {
    "name": "ipython",
    "version": 3
   },
   "file_extension": ".py",
   "mimetype": "text/x-python",
   "name": "python",
   "nbconvert_exporter": "python",
   "pygments_lexer": "ipython3",
   "version": "3.8.11"
  }
 },
 "nbformat": 4,
 "nbformat_minor": 4
}
