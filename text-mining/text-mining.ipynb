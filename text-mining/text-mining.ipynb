{
 "cells": [
  {
   "cell_type": "markdown",
   "metadata": {},
   "source": [
    "# Text Mining"
   ]
  },
  {
   "cell_type": "code",
   "execution_count": 3,
   "metadata": {},
   "outputs": [],
   "source": [
    "import spacy\n",
    "import pandas as pd\n",
    "from collections import Counter\n",
    "import gensim\n",
    "from gensim import corpora, models\n",
    "from gensim.corpora import Dictionary\n",
    "from gensim.models import LdaModel\n",
    "import pyLDAvis\n",
    "import pyLDAvis.gensim_models as gensimvis\n",
    "import warnings\n",
    "warnings.filterwarnings('ignore')"
   ]
  },
  {
   "cell_type": "markdown",
   "metadata": {},
   "source": [
    "## Modelos del lenguaje"
   ]
  },
  {
   "cell_type": "code",
   "execution_count": 5,
   "metadata": {},
   "outputs": [],
   "source": [
    "# !python -m spacy download es_core_news_sm\n",
    "# Cargando el Language Model de español\n",
    "nlp = spacy.load('es_core_news_sm')"
   ]
  },
  {
   "cell_type": "code",
   "execution_count": 6,
   "metadata": {},
   "outputs": [],
   "source": [
    "# Procesando una oracion a traves del pipeline\n",
    "doc = nlp('Esto es una oracion.')"
   ]
  },
  {
   "cell_type": "markdown",
   "metadata": {},
   "source": [
    "## Part-of-Speech Tagging"
   ]
  },
  {
   "cell_type": "code",
   "execution_count": 7,
   "metadata": {},
   "outputs": [],
   "source": [
    "doc = nlp('Juan y yo fuimos al parque')"
   ]
  },
  {
   "cell_type": "code",
   "execution_count": 8,
   "metadata": {},
   "outputs": [
    {
     "name": "stdout",
     "output_type": "stream",
     "text": [
      "('Juan', 'PROPN')\n",
      "('y', 'CCONJ')\n",
      "('yo', 'PRON')\n",
      "('fuimos', 'VERB')\n",
      "('al', 'ADP')\n",
      "('parque', 'NOUN')\n"
     ]
    }
   ],
   "source": [
    "for token in doc:\n",
    "    print((token.text, token.pos_))"
   ]
  },
  {
   "cell_type": "markdown",
   "metadata": {},
   "source": [
    "## Named Entity Recognition Tagging"
   ]
  },
  {
   "cell_type": "code",
   "execution_count": 9,
   "metadata": {},
   "outputs": [],
   "source": [
    "doc = nlp('Microsoft tiene oficinas por todo Europa.')"
   ]
  },
  {
   "cell_type": "code",
   "execution_count": 10,
   "metadata": {},
   "outputs": [
    {
     "name": "stdout",
     "output_type": "stream",
     "text": [
      "Microsoft 0 9 ORG\n",
      "Europa 34 40 LOC\n"
     ]
    }
   ],
   "source": [
    "for ent in doc.ents:\n",
    "    print(ent.text, ent.start_char, ent.end_char, ent.label_)"
   ]
  },
  {
   "cell_type": "markdown",
   "metadata": {},
   "source": [
    "## Ejemplo de preprocesamiento"
   ]
  },
  {
   "cell_type": "code",
   "execution_count": 11,
   "metadata": {},
   "outputs": [],
   "source": [
    "doc = nlp('El caballo galopó por el campo y pasó los 2 ríos.')"
   ]
  },
  {
   "cell_type": "code",
   "execution_count": 12,
   "metadata": {},
   "outputs": [],
   "source": [
    "sentence = []\n",
    "for w in doc:\n",
    "    # Si no es una stop word o signo de puntuacion, agregarlo al articulo\n",
    "    if w.text != 'n' and not w.is_stop and not w.is_punct and not w.like_num:\n",
    "        # Sumamos la version lemmatizada de la palabra\n",
    "        sentence.append(w.lemma_)"
   ]
  },
  {
   "cell_type": "code",
   "execution_count": 13,
   "metadata": {},
   "outputs": [
    {
     "name": "stdout",
     "output_type": "stream",
     "text": [
      "['caballo', 'galopó', 'campo', 'y', 'pasar', 'río']\n"
     ]
    }
   ],
   "source": [
    "print(sentence)"
   ]
  },
  {
   "cell_type": "markdown",
   "metadata": {},
   "source": [
    "---"
   ]
  },
  {
   "cell_type": "markdown",
   "metadata": {},
   "source": [
    "## PoS Tagging y aplicaciones"
   ]
  },
  {
   "cell_type": "code",
   "execution_count": 14,
   "metadata": {},
   "outputs": [
    {
     "name": "stdout",
     "output_type": "stream",
     "text": [
      "Mateo PROPN PROPN\n",
      "y CCONJ CCONJ\n",
      "yo PRON PRON\n",
      "fuimos VERB VERB\n",
      "al ADP ADP\n",
      "parque NOUN NOUN\n",
      ". PUNCT PUNCT\n"
     ]
    }
   ],
   "source": [
    "sent_0 = nlp('Mateo y yo fuimos al parque.')\n",
    "for token in sent_0:\n",
    "    print(token.text, token.pos_, token.tag_)"
   ]
  },
  {
   "cell_type": "markdown",
   "metadata": {},
   "source": [
    "Identificó a `Mateo` como **Sustantivo Propio** y a `parque` como **Sustantivo Comun**"
   ]
  },
  {
   "cell_type": "code",
   "execution_count": 15,
   "metadata": {},
   "outputs": [
    {
     "name": "stdout",
     "output_type": "stream",
     "text": [
      "Si SCONJ SCONJ\n",
      "a ADP ADP\n",
      "Clemente PROPN PROPN\n",
      "le PRON PRON\n",
      "piden VERB VERB\n",
      "que SCONJ SCONJ\n",
      "saque VERB VERB\n",
      "la DET DET\n",
      "basura NOUN NOUN\n",
      ", PUNCT PUNCT\n",
      "el DET DET\n",
      "se PRON PRON\n",
      "va AUX AUX\n",
      "a ADP ADP\n",
      "negar VERB VERB\n",
      ". PUNCT PUNCT\n"
     ]
    }
   ],
   "source": [
    "sent_1 = nlp('Si a Clemente le piden que saque la basura, el se va a negar.')\n",
    "for token in sent_1:\n",
    "    print(token.text, token.pos_, token.tag_)"
   ]
  },
  {
   "cell_type": "code",
   "execution_count": 16,
   "metadata": {},
   "outputs": [
    {
     "name": "stdout",
     "output_type": "stream",
     "text": [
      "Bautista PROPN PROPN\n",
      "estuvo AUX AUX\n",
      "a ADP ADP\n",
      "cargo NOUN NOUN\n",
      "del ADP ADP\n",
      "centro NOUN NOUN\n",
      "de ADP ADP\n",
      "tratamiento NOUN NOUN\n",
      "de ADP ADP\n",
      "desechos NOUN NOUN\n",
      ". PUNCT PUNCT\n"
     ]
    }
   ],
   "source": [
    "sent_2 = nlp('Bautista estuvo a cargo del centro de tratamiento de desechos.')\n",
    "for token in sent_2:\n",
    "    print(token.text, token.pos_, token.tag_)"
   ]
  },
  {
   "cell_type": "code",
   "execution_count": 17,
   "metadata": {},
   "outputs": [
    {
     "name": "stdout",
     "output_type": "stream",
     "text": [
      "María PROPN PROPN\n",
      "pescó VERB VERB\n",
      "a ADP ADP\n",
      "su DET DET\n",
      "gato NOUN NOUN\n",
      "sospechoso ADJ ADJ\n",
      "y CCONJ CCONJ\n",
      "lo PRON PRON\n",
      "sacó VERB VERB\n",
      "a ADP ADP\n",
      "pescar VERB VERB\n",
      "pescado ADJ ADJ\n"
     ]
    }
   ],
   "source": [
    "sent_3 = nlp('María pescó a su gato sospechoso y lo sacó a pescar pescado')\n",
    "for token in sent_3:\n",
    "    print(token.text, token.pos_, token.tag_)"
   ]
  },
  {
   "cell_type": "markdown",
   "metadata": {},
   "source": [
    "`pescado` fue interpretado como adjetivo cuando deberia ser un sustantivo"
   ]
  },
  {
   "cell_type": "markdown",
   "metadata": {},
   "source": [
    "## Ejemplo de uso de PoS"
   ]
  },
  {
   "cell_type": "code",
   "execution_count": 18,
   "metadata": {},
   "outputs": [],
   "source": [
    "martin_fierro = open('corpus/martin-fierro.txt').read()\n",
    "mf = nlp(martin_fierro)"
   ]
  },
  {
   "cell_type": "code",
   "execution_count": 19,
   "metadata": {},
   "outputs": [],
   "source": [
    "mfSents = list(mf.sents)\n",
    "mfSentenceLengths = [len(sent) for sent in mfSents]\n",
    "[sent for sent in mfSents if len(sent) == max(mfSentenceLengths)]\n",
    "mfPOS = pd.Series(mf.count_by(spacy.attrs.POS))/len(mf)"
   ]
  },
  {
   "cell_type": "code",
   "execution_count": 20,
   "metadata": {},
   "outputs": [
    {
     "data": {
      "text/html": [
       "<div>\n",
       "<style scoped>\n",
       "    .dataframe tbody tr th:only-of-type {\n",
       "        vertical-align: middle;\n",
       "    }\n",
       "\n",
       "    .dataframe tbody tr th {\n",
       "        vertical-align: top;\n",
       "    }\n",
       "\n",
       "    .dataframe thead th {\n",
       "        text-align: right;\n",
       "    }\n",
       "</style>\n",
       "<table border=\"1\" class=\"dataframe\">\n",
       "  <thead>\n",
       "    <tr style=\"text-align: right;\">\n",
       "      <th></th>\n",
       "      <th>DET</th>\n",
       "      <th>PROPN</th>\n",
       "      <th>SPACE</th>\n",
       "      <th>ADP</th>\n",
       "      <th>PUNCT</th>\n",
       "      <th>NUM</th>\n",
       "      <th>NOUN</th>\n",
       "      <th>ADJ</th>\n",
       "      <th>PRON</th>\n",
       "      <th>AUX</th>\n",
       "      <th>VERB</th>\n",
       "      <th>SCONJ</th>\n",
       "      <th>CCONJ</th>\n",
       "      <th>ADV</th>\n",
       "      <th>INTJ</th>\n",
       "    </tr>\n",
       "  </thead>\n",
       "  <tbody>\n",
       "    <tr>\n",
       "      <th>Martin Fierro</th>\n",
       "      <td>0.097135</td>\n",
       "      <td>0.015906</td>\n",
       "      <td>0.163333</td>\n",
       "      <td>0.085439</td>\n",
       "      <td>0.105497</td>\n",
       "      <td>0.025439</td>\n",
       "      <td>0.142632</td>\n",
       "      <td>0.030526</td>\n",
       "      <td>0.078538</td>\n",
       "      <td>0.026784</td>\n",
       "      <td>0.11655</td>\n",
       "      <td>0.035848</td>\n",
       "      <td>0.036784</td>\n",
       "      <td>0.038538</td>\n",
       "      <td>0.001053</td>\n",
       "    </tr>\n",
       "  </tbody>\n",
       "</table>\n",
       "</div>"
      ],
      "text/plain": [
       "                    DET     PROPN     SPACE       ADP     PUNCT       NUM  \\\n",
       "Martin Fierro  0.097135  0.015906  0.163333  0.085439  0.105497  0.025439   \n",
       "\n",
       "                   NOUN       ADJ      PRON       AUX     VERB     SCONJ  \\\n",
       "Martin Fierro  0.142632  0.030526  0.078538  0.026784  0.11655  0.035848   \n",
       "\n",
       "                  CCONJ       ADV      INTJ  \n",
       "Martin Fierro  0.036784  0.038538  0.001053  "
      ]
     },
     "execution_count": 20,
     "metadata": {},
     "output_type": "execute_result"
    }
   ],
   "source": [
    "tagDict = {w.pos: w.pos_ for w in mf}\n",
    "mfPOS = pd.Series(mf.count_by(spacy.attrs.POS))/len(mf)\n",
    "df = pd.DataFrame([mfPOS], index=['Martin Fierro'])\n",
    "df.columns = [tagDict[column] for column in df.columns]\n",
    "df"
   ]
  },
  {
   "cell_type": "code",
   "execution_count": 21,
   "metadata": {},
   "outputs": [
    {
     "data": {
      "text/plain": [
       "[('gaucho', 37),\n",
       " ('hombre', 24),\n",
       " ('día', 23),\n",
       " ('vez', 23),\n",
       " ('mesmo', 18),\n",
       " ('suerte', 18),\n",
       " ('vida', 17),\n",
       " ('ocasión', 16),\n",
       " ('gente', 16),\n",
       " ('amigo', 15),\n",
       " ('mujer', 15),\n",
       " ('fin', 14),\n",
       " ('cosa', 13),\n",
       " ('tierra', 12),\n",
       " ('ahi', 12),\n",
       " ('hijos', 11),\n",
       " ('punto', 11),\n",
       " ('noche', 11),\n",
       " ('corazón', 10),\n",
       " ('campo', 10)]"
      ]
     },
     "execution_count": 21,
     "metadata": {},
     "output_type": "execute_result"
    }
   ],
   "source": [
    "mfAdjs = [w for w in mf if w.pos_ == 'NOUN']\n",
    "Counter([w.text.strip() for w in mfAdjs]).most_common(20)"
   ]
  },
  {
   "cell_type": "code",
   "execution_count": 22,
   "metadata": {},
   "outputs": [
    {
     "data": {
      "text/plain": [
       "[('Dios', 18),\n",
       " ('mas', 16),\n",
       " ('Fierro', 8),\n",
       " ('Cruz', 8),\n",
       " ('Ansí', 7),\n",
       " ('Mas', 4),\n",
       " ('Cantando', 4),\n",
       " ('hacienda', 4),\n",
       " ('usté', 4),\n",
       " ('Ahi', 4),\n",
       " ('jue', 4),\n",
       " ('Gaucho', 3),\n",
       " ('Martín', 3),\n",
       " ('MARTÍN', 3),\n",
       " ('FIERRO', 3),\n",
       " ('palo', 3),\n",
       " ('José', 2),\n",
       " ('Buenos', 2),\n",
       " ('Aires', 2),\n",
       " ('Santos', 2)]"
      ]
     },
     "execution_count": 22,
     "metadata": {},
     "output_type": "execute_result"
    }
   ],
   "source": [
    "mfAdjs = [w for w in mf if w.pos_ == 'PROPN']\n",
    "Counter([w.text.strip() for w in mfAdjs]).most_common(20)"
   ]
  },
  {
   "cell_type": "code",
   "execution_count": 23,
   "metadata": {},
   "outputs": [
    {
     "data": {
      "text/plain": [
       "[('tiene', 19),\n",
       " ('dende', 18),\n",
       " ('dio', 17),\n",
       " ('tenía', 16),\n",
       " ('sé', 15),\n",
       " ('ande', 14),\n",
       " ('ansí', 14),\n",
       " ('dije', 13),\n",
       " ('cantar', 12),\n",
       " ('andaba', 12),\n",
       " ('visto', 11),\n",
       " ('ver', 11),\n",
       " ('vino', 11),\n",
       " ('andar', 10),\n",
       " ('dijo', 10),\n",
       " ('tener', 10),\n",
       " ('hacer', 9),\n",
       " ('tengo', 9),\n",
       " ('hizo', 9),\n",
       " ('hice', 9)]"
      ]
     },
     "execution_count": 23,
     "metadata": {},
     "output_type": "execute_result"
    }
   ],
   "source": [
    "mfAdjs = [w for w in mf if w.pos_ == 'VERB']\n",
    "Counter([w.text.strip() for w in mfAdjs]).most_common(20)"
   ]
  },
  {
   "cell_type": "code",
   "execution_count": 24,
   "metadata": {},
   "outputs": [
    {
     "data": {
      "text/plain": [
       "[('gaucho', 18),\n",
       " ('pobre', 15),\n",
       " ('juntos', 7),\n",
       " ('mejor', 6),\n",
       " ('naides', 6),\n",
       " ('malo', 6),\n",
       " ('triste', 6),\n",
       " ('mayor', 5),\n",
       " ('muerto', 5),\n",
       " ('desgraciao', 5),\n",
       " ('amigo', 4),\n",
       " ('barajo', 4),\n",
       " ('solo', 4),\n",
       " ('siguro', 4),\n",
       " ('primero', 4),\n",
       " ('llena', 3),\n",
       " ('libre', 3),\n",
       " ('perseguido', 3),\n",
       " ('riunidos', 3),\n",
       " ('gran', 3)]"
      ]
     },
     "execution_count": 24,
     "metadata": {},
     "output_type": "execute_result"
    }
   ],
   "source": [
    "mfAdjs = [w for w in mf if w.pos_ == 'ADJ']\n",
    "Counter([w.text.strip() for w in mfAdjs]).most_common(20)"
   ]
  },
  {
   "cell_type": "markdown",
   "metadata": {},
   "source": [
    "---"
   ]
  },
  {
   "cell_type": "markdown",
   "metadata": {},
   "source": [
    "## Named Entity Recognition Tagging y aplicaciones"
   ]
  },
  {
   "cell_type": "code",
   "execution_count": 25,
   "metadata": {},
   "outputs": [
    {
     "name": "stdout",
     "output_type": "stream",
     "text": [
      "Joe PER\n",
      "Biden PER\n",
      "visitó \n",
      "al \n",
      "presidente \n",
      "de \n",
      "Francia LOC\n",
      "hoy \n",
      ". \n"
     ]
    }
   ],
   "source": [
    "sent_0 = nlp('Joe Biden visitó al presidente de Francia hoy.')\n",
    "for token in sent_0:\n",
    "    print(token.text, token.ent_type_)"
   ]
  },
  {
   "cell_type": "markdown",
   "metadata": {},
   "source": [
    "Cuando spaCy procesa el documento, las named entitites se guardan en la propiedad `ents` de la clase `Doc` y a nivel de token se guardan en la propiedad `ent_type_` Podemos observar que detectó a `Joe Biden` como una persona y a `Francia` como una ubicación."
   ]
  },
  {
   "cell_type": "code",
   "execution_count": 26,
   "metadata": {},
   "outputs": [
    {
     "name": "stdout",
     "output_type": "stream",
     "text": [
      "Emmanuel PER\n",
      "Jean-Michel PER\n",
      "Frédéric PER\n",
      "Macron PER\n",
      "es \n",
      "un \n",
      "político \n",
      "francés \n",
      "que \n",
      "sirve \n",
      "\n",
      "                 \n",
      "en \n",
      "funciones \n",
      "como \n",
      "presidente \n",
      "de \n",
      "Francia LOC\n",
      "y \n",
      "como \n",
      "co \n",
      "principe \n",
      "de \n",
      "oficio \n",
      "\n",
      "                 \n",
      "de \n",
      "Andorra LOC\n",
      "desde \n",
      "el \n",
      "14 \n",
      "de \n",
      "mayo \n",
      "de \n",
      "2017 \n",
      ". \n"
     ]
    }
   ],
   "source": [
    "sent_1 = nlp(\"\"\"Emmanuel Jean-Michel Frédéric Macron es un político francés que sirve\n",
    "                en funciones como presidente de Francia y como co principe de oficio\n",
    "                de Andorra desde el 14 de mayo de 2017.\"\"\")\n",
    "for token in sent_1:\n",
    "    print(token.text, token.ent_type_)"
   ]
  },
  {
   "cell_type": "markdown",
   "metadata": {},
   "source": [
    "Aun con un acento francés pudo capturar la entidad `Frédéric`"
   ]
  },
  {
   "cell_type": "code",
   "execution_count": 27,
   "metadata": {},
   "outputs": [
    {
     "name": "stdout",
     "output_type": "stream",
     "text": [
      "Estudió \n",
      "filosofía \n",
      "en \n",
      "Université ORG\n",
      "Paris ORG\n",
      "Nanterre ORG\n",
      ", \n",
      "completó \n",
      "un \n",
      "Master LOC\n",
      "\n",
      "                 \n",
      "en \n",
      "Asuntos LOC\n",
      "Publicos LOC\n",
      "en \n",
      "Sciences PER\n",
      "Po PER\n",
      "y \n",
      "se \n",
      "graduó \n",
      "en \n",
      "la \n",
      "École MISC\n",
      "\n",
      "                 MISC\n",
      "nationale MISC\n",
      "d'administration MISC\n",
      "( \n",
      "ÉNA \n",
      ") \n",
      "en \n",
      "2004 \n",
      ". \n"
     ]
    }
   ],
   "source": [
    "sent_2 = nlp(\"\"\"Estudió filosofía en Université Paris Nanterre, completó un Master\n",
    "                en Asuntos Publicos en Sciences Po y se graduó en la École\n",
    "                nationale d'administration (ÉNA) en 2004.\"\"\")\n",
    "for token in sent_2:\n",
    "    print(token.text, token.ent_type_)"
   ]
  },
  {
   "cell_type": "markdown",
   "metadata": {},
   "source": [
    "En este texto tenemos palabras en tres idiomas, español, inglés y francés"
   ]
  },
  {
   "cell_type": "code",
   "execution_count": 28,
   "metadata": {},
   "outputs": [
    {
     "name": "stdout",
     "output_type": "stream",
     "text": [
      "Trabajó PER\n",
      "en \n",
      "el \n",
      "Inspectorate MISC\n",
      "General MISC\n",
      "of MISC\n",
      "Finances MISC\n",
      "y \n",
      "más \n",
      "tarde \n",
      "se \n",
      "\n",
      "                 \n",
      "convirtió \n",
      "en \n",
      "banquero \n",
      "de \n",
      "inversiones \n",
      "en \n",
      "Rothschild LOC\n",
      "& LOC\n",
      "Cie LOC\n",
      "Banque LOC\n",
      ". \n"
     ]
    }
   ],
   "source": [
    "sent_3 = nlp(\"\"\"Trabajó en el Inspectorate General of Finances y más tarde se\n",
    "                convirtió en banquero de inversiones en Rothschild & Cie Banque.\"\"\")\n",
    "for token in sent_3:\n",
    "    print(token.text, token.ent_type_)"
   ]
  },
  {
   "cell_type": "markdown",
   "metadata": {},
   "source": [
    "En este caso vemos que `Trabajó` fue interpretado como persona y `Rothschild & Cie Banque` como un lugar"
   ]
  },
  {
   "cell_type": "markdown",
   "metadata": {},
   "source": [
    "Podemos visualizar las entidades encontradas con el modulo displaCy"
   ]
  },
  {
   "cell_type": "code",
   "execution_count": 29,
   "metadata": {},
   "outputs": [],
   "source": [
    "doc = nlp(\"\"\"Emmanuel Jean-Michel Frédéric Macron es un político francés que sirve en\n",
    "             funciones como presidente de Francia y como co principe de oficio de\n",
    "             Andorra desde el 14 de mayo de 2017.\n",
    "             Estudió filosofía en Université Paris Nanterre, completó un Master en\n",
    "             Asuntos Publicos en Sciences Po y se graduó en la École nationale\n",
    "             d'administration (ÉNA) en 2004.\n",
    "             Trabajó en el Inspectorate General of Finances y más tarde se convirtió\n",
    "             en banquero de inversiones en Rothschild & Cie Banque.\"\"\")        "
   ]
  },
  {
   "cell_type": "code",
   "execution_count": 30,
   "metadata": {},
   "outputs": [
    {
     "data": {
      "text/html": [
       "<span class=\"tex2jax_ignore\"><!DOCTYPE html>\n",
       "<html lang=\"es\">\n",
       "    <head>\n",
       "        <title>displaCy</title>\n",
       "    </head>\n",
       "\n",
       "    <body style=\"font-size: 16px; font-family: -apple-system, BlinkMacSystemFont, 'Segoe UI', Helvetica, Arial, sans-serif, 'Apple Color Emoji', 'Segoe UI Emoji', 'Segoe UI Symbol'; padding: 4rem 2rem; direction: ltr\">\n",
       "<figure style=\"margin-bottom: 6rem\">\n",
       "<div class=\"entities\" style=\"line-height: 2.5; direction: ltr\">\n",
       "<mark class=\"entity\" style=\"background: #ddd; padding: 0.45em 0.6em; margin: 0 0.25em; line-height: 1; border-radius: 0.35em;\">\n",
       "    Emmanuel Jean-Michel Frédéric Macron\n",
       "    <span style=\"font-size: 0.8em; font-weight: bold; line-height: 1; border-radius: 0.35em; vertical-align: middle; margin-left: 0.5rem\">PER</span>\n",
       "</mark>\n",
       " es un político francés que sirve en</br>             funciones como presidente de \n",
       "<mark class=\"entity\" style=\"background: #ff9561; padding: 0.45em 0.6em; margin: 0 0.25em; line-height: 1; border-radius: 0.35em;\">\n",
       "    Francia\n",
       "    <span style=\"font-size: 0.8em; font-weight: bold; line-height: 1; border-radius: 0.35em; vertical-align: middle; margin-left: 0.5rem\">LOC</span>\n",
       "</mark>\n",
       " y como co principe de oficio de</br>             \n",
       "<mark class=\"entity\" style=\"background: #ff9561; padding: 0.45em 0.6em; margin: 0 0.25em; line-height: 1; border-radius: 0.35em;\">\n",
       "    Andorra\n",
       "    <span style=\"font-size: 0.8em; font-weight: bold; line-height: 1; border-radius: 0.35em; vertical-align: middle; margin-left: 0.5rem\">LOC</span>\n",
       "</mark>\n",
       " desde el 14 de mayo de 2017.</br>             \n",
       "<mark class=\"entity\" style=\"background: #ddd; padding: 0.45em 0.6em; margin: 0 0.25em; line-height: 1; border-radius: 0.35em;\">\n",
       "    Estudió\n",
       "    <span style=\"font-size: 0.8em; font-weight: bold; line-height: 1; border-radius: 0.35em; vertical-align: middle; margin-left: 0.5rem\">MISC</span>\n",
       "</mark>\n",
       " filosofía en \n",
       "<mark class=\"entity\" style=\"background: #7aecec; padding: 0.45em 0.6em; margin: 0 0.25em; line-height: 1; border-radius: 0.35em;\">\n",
       "    Université Paris Nanterre\n",
       "    <span style=\"font-size: 0.8em; font-weight: bold; line-height: 1; border-radius: 0.35em; vertical-align: middle; margin-left: 0.5rem\">ORG</span>\n",
       "</mark>\n",
       ", completó un \n",
       "<mark class=\"entity\" style=\"background: #ff9561; padding: 0.45em 0.6em; margin: 0 0.25em; line-height: 1; border-radius: 0.35em;\">\n",
       "    Master\n",
       "    <span style=\"font-size: 0.8em; font-weight: bold; line-height: 1; border-radius: 0.35em; vertical-align: middle; margin-left: 0.5rem\">LOC</span>\n",
       "</mark>\n",
       " en</br>             \n",
       "<mark class=\"entity\" style=\"background: #ff9561; padding: 0.45em 0.6em; margin: 0 0.25em; line-height: 1; border-radius: 0.35em;\">\n",
       "    Asuntos Publicos\n",
       "    <span style=\"font-size: 0.8em; font-weight: bold; line-height: 1; border-radius: 0.35em; vertical-align: middle; margin-left: 0.5rem\">LOC</span>\n",
       "</mark>\n",
       " en \n",
       "<mark class=\"entity\" style=\"background: #ddd; padding: 0.45em 0.6em; margin: 0 0.25em; line-height: 1; border-radius: 0.35em;\">\n",
       "    Sciences Po\n",
       "    <span style=\"font-size: 0.8em; font-weight: bold; line-height: 1; border-radius: 0.35em; vertical-align: middle; margin-left: 0.5rem\">PER</span>\n",
       "</mark>\n",
       " y se graduó en la \n",
       "<mark class=\"entity\" style=\"background: #7aecec; padding: 0.45em 0.6em; margin: 0 0.25em; line-height: 1; border-radius: 0.35em;\">\n",
       "    École nationale\n",
       "             d'administration\n",
       "    <span style=\"font-size: 0.8em; font-weight: bold; line-height: 1; border-radius: 0.35em; vertical-align: middle; margin-left: 0.5rem\">ORG</span>\n",
       "</mark>\n",
       " (ÉNA) en 2004.</br>             \n",
       "<mark class=\"entity\" style=\"background: #ddd; padding: 0.45em 0.6em; margin: 0 0.25em; line-height: 1; border-radius: 0.35em;\">\n",
       "    Trabajó\n",
       "    <span style=\"font-size: 0.8em; font-weight: bold; line-height: 1; border-radius: 0.35em; vertical-align: middle; margin-left: 0.5rem\">PER</span>\n",
       "</mark>\n",
       " en el \n",
       "<mark class=\"entity\" style=\"background: #ddd; padding: 0.45em 0.6em; margin: 0 0.25em; line-height: 1; border-radius: 0.35em;\">\n",
       "    Inspectorate General of Finances\n",
       "    <span style=\"font-size: 0.8em; font-weight: bold; line-height: 1; border-radius: 0.35em; vertical-align: middle; margin-left: 0.5rem\">MISC</span>\n",
       "</mark>\n",
       " y más tarde se convirtió</br>             en banquero de inversiones en \n",
       "<mark class=\"entity\" style=\"background: #ff9561; padding: 0.45em 0.6em; margin: 0 0.25em; line-height: 1; border-radius: 0.35em;\">\n",
       "    Rothschild &amp; Cie Banque\n",
       "    <span style=\"font-size: 0.8em; font-weight: bold; line-height: 1; border-radius: 0.35em; vertical-align: middle; margin-left: 0.5rem\">LOC</span>\n",
       "</mark>\n",
       ".</div>\n",
       "</figure>\n",
       "</body>\n",
       "</html></span>"
      ],
      "text/plain": [
       "<IPython.core.display.HTML object>"
      ]
     },
     "metadata": {},
     "output_type": "display_data"
    },
    {
     "name": "stdout",
     "output_type": "stream",
     "text": [
      "\n",
      "Using the 'ent' visualizer\n",
      "Serving on http://0.0.0.0:5000 ...\n",
      "\n",
      "Shutting down server on port 5000.\n"
     ]
    }
   ],
   "source": [
    "spacy.displacy.serve(doc, style='ent')"
   ]
  },
  {
   "cell_type": "markdown",
   "metadata": {},
   "source": [
    "---"
   ]
  },
  {
   "cell_type": "markdown",
   "metadata": {},
   "source": [
    "## Parseo de dependencias con spaCy"
   ]
  },
  {
   "cell_type": "code",
   "execution_count": 31,
   "metadata": {},
   "outputs": [
    {
     "name": "stdout",
     "output_type": "stream",
     "text": [
      "Myriam Myriam nsubj vió\n",
      "Clemente Clemente obl vió\n",
      "un telescopio telescopio obl vió\n"
     ]
    }
   ],
   "source": [
    "sent_0 = nlp('Myriam vió a Clemente con un telescopio.')\n",
    "for chunk in sent_0.noun_chunks:\n",
    "    print(chunk.text, chunk.root.text, chunk.root.dep_, chunk.root.head.text)"
   ]
  },
  {
   "cell_type": "markdown",
   "metadata": {},
   "source": [
    "Podemos ver aqui que `vió` es la accion principal, `Myriam` el sujeto y `Clemente` el objeto"
   ]
  },
  {
   "cell_type": "code",
   "execution_count": 32,
   "metadata": {},
   "outputs": [
    {
     "data": {
      "text/html": [
       "<span class=\"tex2jax_ignore\"><!DOCTYPE html>\n",
       "<html lang=\"es\">\n",
       "    <head>\n",
       "        <title>displaCy</title>\n",
       "    </head>\n",
       "\n",
       "    <body style=\"font-size: 16px; font-family: -apple-system, BlinkMacSystemFont, 'Segoe UI', Helvetica, Arial, sans-serif, 'Apple Color Emoji', 'Segoe UI Emoji', 'Segoe UI Symbol'; padding: 4rem 2rem; direction: ltr\">\n",
       "<figure style=\"margin-bottom: 6rem\">\n",
       "<svg xmlns=\"http://www.w3.org/2000/svg\" xmlns:xlink=\"http://www.w3.org/1999/xlink\" xml:lang=\"es\" id=\"fa7f4fa4a83e4011bb386cf66b517aa7-0\" class=\"displacy\" width=\"1275\" height=\"399.5\" direction=\"ltr\" style=\"max-width: none; height: 399.5px; color: #000000; background: #ffffff; font-family: Arial; direction: ltr\">\n",
       "<text class=\"displacy-token\" fill=\"currentColor\" text-anchor=\"middle\" y=\"309.5\">\n",
       "    <tspan class=\"displacy-word\" fill=\"currentColor\" x=\"50\">Myriam</tspan>\n",
       "    <tspan class=\"displacy-tag\" dy=\"2em\" fill=\"currentColor\" x=\"50\">PROPN</tspan>\n",
       "</text>\n",
       "\n",
       "<text class=\"displacy-token\" fill=\"currentColor\" text-anchor=\"middle\" y=\"309.5\">\n",
       "    <tspan class=\"displacy-word\" fill=\"currentColor\" x=\"225\">vió</tspan>\n",
       "    <tspan class=\"displacy-tag\" dy=\"2em\" fill=\"currentColor\" x=\"225\">VERB</tspan>\n",
       "</text>\n",
       "\n",
       "<text class=\"displacy-token\" fill=\"currentColor\" text-anchor=\"middle\" y=\"309.5\">\n",
       "    <tspan class=\"displacy-word\" fill=\"currentColor\" x=\"400\">a</tspan>\n",
       "    <tspan class=\"displacy-tag\" dy=\"2em\" fill=\"currentColor\" x=\"400\">ADP</tspan>\n",
       "</text>\n",
       "\n",
       "<text class=\"displacy-token\" fill=\"currentColor\" text-anchor=\"middle\" y=\"309.5\">\n",
       "    <tspan class=\"displacy-word\" fill=\"currentColor\" x=\"575\">Clemente</tspan>\n",
       "    <tspan class=\"displacy-tag\" dy=\"2em\" fill=\"currentColor\" x=\"575\">PROPN</tspan>\n",
       "</text>\n",
       "\n",
       "<text class=\"displacy-token\" fill=\"currentColor\" text-anchor=\"middle\" y=\"309.5\">\n",
       "    <tspan class=\"displacy-word\" fill=\"currentColor\" x=\"750\">con</tspan>\n",
       "    <tspan class=\"displacy-tag\" dy=\"2em\" fill=\"currentColor\" x=\"750\">ADP</tspan>\n",
       "</text>\n",
       "\n",
       "<text class=\"displacy-token\" fill=\"currentColor\" text-anchor=\"middle\" y=\"309.5\">\n",
       "    <tspan class=\"displacy-word\" fill=\"currentColor\" x=\"925\">un</tspan>\n",
       "    <tspan class=\"displacy-tag\" dy=\"2em\" fill=\"currentColor\" x=\"925\">DET</tspan>\n",
       "</text>\n",
       "\n",
       "<text class=\"displacy-token\" fill=\"currentColor\" text-anchor=\"middle\" y=\"309.5\">\n",
       "    <tspan class=\"displacy-word\" fill=\"currentColor\" x=\"1100\">telescopio.</tspan>\n",
       "    <tspan class=\"displacy-tag\" dy=\"2em\" fill=\"currentColor\" x=\"1100\">NOUN</tspan>\n",
       "</text>\n",
       "\n",
       "<g class=\"displacy-arrow\">\n",
       "    <path class=\"displacy-arc\" id=\"arrow-fa7f4fa4a83e4011bb386cf66b517aa7-0-0\" stroke-width=\"2px\" d=\"M70,264.5 C70,177.0 215.0,177.0 215.0,264.5\" fill=\"none\" stroke=\"currentColor\"/>\n",
       "    <text dy=\"1.25em\" style=\"font-size: 0.8em; letter-spacing: 1px\">\n",
       "        <textPath xlink:href=\"#arrow-fa7f4fa4a83e4011bb386cf66b517aa7-0-0\" class=\"displacy-label\" startOffset=\"50%\" side=\"left\" fill=\"currentColor\" text-anchor=\"middle\">nsubj</textPath>\n",
       "    </text>\n",
       "    <path class=\"displacy-arrowhead\" d=\"M70,266.5 L62,254.5 78,254.5\" fill=\"currentColor\"/>\n",
       "</g>\n",
       "\n",
       "<g class=\"displacy-arrow\">\n",
       "    <path class=\"displacy-arc\" id=\"arrow-fa7f4fa4a83e4011bb386cf66b517aa7-0-1\" stroke-width=\"2px\" d=\"M420,264.5 C420,177.0 565.0,177.0 565.0,264.5\" fill=\"none\" stroke=\"currentColor\"/>\n",
       "    <text dy=\"1.25em\" style=\"font-size: 0.8em; letter-spacing: 1px\">\n",
       "        <textPath xlink:href=\"#arrow-fa7f4fa4a83e4011bb386cf66b517aa7-0-1\" class=\"displacy-label\" startOffset=\"50%\" side=\"left\" fill=\"currentColor\" text-anchor=\"middle\">case</textPath>\n",
       "    </text>\n",
       "    <path class=\"displacy-arrowhead\" d=\"M420,266.5 L412,254.5 428,254.5\" fill=\"currentColor\"/>\n",
       "</g>\n",
       "\n",
       "<g class=\"displacy-arrow\">\n",
       "    <path class=\"displacy-arc\" id=\"arrow-fa7f4fa4a83e4011bb386cf66b517aa7-0-2\" stroke-width=\"2px\" d=\"M245,264.5 C245,89.5 570.0,89.5 570.0,264.5\" fill=\"none\" stroke=\"currentColor\"/>\n",
       "    <text dy=\"1.25em\" style=\"font-size: 0.8em; letter-spacing: 1px\">\n",
       "        <textPath xlink:href=\"#arrow-fa7f4fa4a83e4011bb386cf66b517aa7-0-2\" class=\"displacy-label\" startOffset=\"50%\" side=\"left\" fill=\"currentColor\" text-anchor=\"middle\">obl</textPath>\n",
       "    </text>\n",
       "    <path class=\"displacy-arrowhead\" d=\"M570.0,266.5 L578.0,254.5 562.0,254.5\" fill=\"currentColor\"/>\n",
       "</g>\n",
       "\n",
       "<g class=\"displacy-arrow\">\n",
       "    <path class=\"displacy-arc\" id=\"arrow-fa7f4fa4a83e4011bb386cf66b517aa7-0-3\" stroke-width=\"2px\" d=\"M770,264.5 C770,89.5 1095.0,89.5 1095.0,264.5\" fill=\"none\" stroke=\"currentColor\"/>\n",
       "    <text dy=\"1.25em\" style=\"font-size: 0.8em; letter-spacing: 1px\">\n",
       "        <textPath xlink:href=\"#arrow-fa7f4fa4a83e4011bb386cf66b517aa7-0-3\" class=\"displacy-label\" startOffset=\"50%\" side=\"left\" fill=\"currentColor\" text-anchor=\"middle\">case</textPath>\n",
       "    </text>\n",
       "    <path class=\"displacy-arrowhead\" d=\"M770,266.5 L762,254.5 778,254.5\" fill=\"currentColor\"/>\n",
       "</g>\n",
       "\n",
       "<g class=\"displacy-arrow\">\n",
       "    <path class=\"displacy-arc\" id=\"arrow-fa7f4fa4a83e4011bb386cf66b517aa7-0-4\" stroke-width=\"2px\" d=\"M945,264.5 C945,177.0 1090.0,177.0 1090.0,264.5\" fill=\"none\" stroke=\"currentColor\"/>\n",
       "    <text dy=\"1.25em\" style=\"font-size: 0.8em; letter-spacing: 1px\">\n",
       "        <textPath xlink:href=\"#arrow-fa7f4fa4a83e4011bb386cf66b517aa7-0-4\" class=\"displacy-label\" startOffset=\"50%\" side=\"left\" fill=\"currentColor\" text-anchor=\"middle\">det</textPath>\n",
       "    </text>\n",
       "    <path class=\"displacy-arrowhead\" d=\"M945,266.5 L937,254.5 953,254.5\" fill=\"currentColor\"/>\n",
       "</g>\n",
       "\n",
       "<g class=\"displacy-arrow\">\n",
       "    <path class=\"displacy-arc\" id=\"arrow-fa7f4fa4a83e4011bb386cf66b517aa7-0-5\" stroke-width=\"2px\" d=\"M245,264.5 C245,2.0 1100.0,2.0 1100.0,264.5\" fill=\"none\" stroke=\"currentColor\"/>\n",
       "    <text dy=\"1.25em\" style=\"font-size: 0.8em; letter-spacing: 1px\">\n",
       "        <textPath xlink:href=\"#arrow-fa7f4fa4a83e4011bb386cf66b517aa7-0-5\" class=\"displacy-label\" startOffset=\"50%\" side=\"left\" fill=\"currentColor\" text-anchor=\"middle\">obl</textPath>\n",
       "    </text>\n",
       "    <path class=\"displacy-arrowhead\" d=\"M1100.0,266.5 L1108.0,254.5 1092.0,254.5\" fill=\"currentColor\"/>\n",
       "</g>\n",
       "</svg>\n",
       "</figure>\n",
       "</body>\n",
       "</html></span>"
      ],
      "text/plain": [
       "<IPython.core.display.HTML object>"
      ]
     },
     "metadata": {},
     "output_type": "display_data"
    },
    {
     "name": "stdout",
     "output_type": "stream",
     "text": [
      "\n",
      "Using the 'dep' visualizer\n",
      "Serving on http://0.0.0.0:5000 ...\n",
      "\n",
      "Shutting down server on port 5000.\n"
     ]
    }
   ],
   "source": [
    "spacy.displacy.serve(sent_0, style='dep')"
   ]
  },
  {
   "cell_type": "code",
   "execution_count": 33,
   "metadata": {},
   "outputs": [
    {
     "name": "stdout",
     "output_type": "stream",
     "text": [
      "Los vehículos vehículos nsubj trasladan\n",
      "la responsabilidad responsabilidad obj trasladan\n",
      "seguro seguro nmod responsabilidad\n",
      "los fabricantes fabricantes obj trasladan\n"
     ]
    }
   ],
   "source": [
    "sent_1 = nlp(\"\"\"Los vehículos autónomos trasladan la responsabilidad del seguro hacia\n",
    "                los fabricantes.\"\"\")\n",
    "for chunk in sent_1.noun_chunks:\n",
    "    print(chunk.text, chunk.root.text, chunk.root.dep_, chunk.root.head.text)"
   ]
  },
  {
   "cell_type": "code",
   "execution_count": 34,
   "metadata": {},
   "outputs": [
    {
     "data": {
      "text/html": [
       "<span class=\"tex2jax_ignore\"><!DOCTYPE html>\n",
       "<html lang=\"es\">\n",
       "    <head>\n",
       "        <title>displaCy</title>\n",
       "    </head>\n",
       "\n",
       "    <body style=\"font-size: 16px; font-family: -apple-system, BlinkMacSystemFont, 'Segoe UI', Helvetica, Arial, sans-serif, 'Apple Color Emoji', 'Segoe UI Emoji', 'Segoe UI Symbol'; padding: 4rem 2rem; direction: ltr\">\n",
       "<figure style=\"margin-bottom: 6rem\">\n",
       "<svg xmlns=\"http://www.w3.org/2000/svg\" xmlns:xlink=\"http://www.w3.org/1999/xlink\" xml:lang=\"es\" id=\"da866de9e5904f0f9810feeb6fc93de1-0\" class=\"displacy\" width=\"2150\" height=\"487.0\" direction=\"ltr\" style=\"max-width: none; height: 487.0px; color: #000000; background: #ffffff; font-family: Arial; direction: ltr\">\n",
       "<text class=\"displacy-token\" fill=\"currentColor\" text-anchor=\"middle\" y=\"397.0\">\n",
       "    <tspan class=\"displacy-word\" fill=\"currentColor\" x=\"50\">Los</tspan>\n",
       "    <tspan class=\"displacy-tag\" dy=\"2em\" fill=\"currentColor\" x=\"50\">DET</tspan>\n",
       "</text>\n",
       "\n",
       "<text class=\"displacy-token\" fill=\"currentColor\" text-anchor=\"middle\" y=\"397.0\">\n",
       "    <tspan class=\"displacy-word\" fill=\"currentColor\" x=\"225\">vehículos</tspan>\n",
       "    <tspan class=\"displacy-tag\" dy=\"2em\" fill=\"currentColor\" x=\"225\">NOUN</tspan>\n",
       "</text>\n",
       "\n",
       "<text class=\"displacy-token\" fill=\"currentColor\" text-anchor=\"middle\" y=\"397.0\">\n",
       "    <tspan class=\"displacy-word\" fill=\"currentColor\" x=\"400\">autónomos</tspan>\n",
       "    <tspan class=\"displacy-tag\" dy=\"2em\" fill=\"currentColor\" x=\"400\">ADJ</tspan>\n",
       "</text>\n",
       "\n",
       "<text class=\"displacy-token\" fill=\"currentColor\" text-anchor=\"middle\" y=\"397.0\">\n",
       "    <tspan class=\"displacy-word\" fill=\"currentColor\" x=\"575\">trasladan</tspan>\n",
       "    <tspan class=\"displacy-tag\" dy=\"2em\" fill=\"currentColor\" x=\"575\">VERB</tspan>\n",
       "</text>\n",
       "\n",
       "<text class=\"displacy-token\" fill=\"currentColor\" text-anchor=\"middle\" y=\"397.0\">\n",
       "    <tspan class=\"displacy-word\" fill=\"currentColor\" x=\"750\">la</tspan>\n",
       "    <tspan class=\"displacy-tag\" dy=\"2em\" fill=\"currentColor\" x=\"750\">DET</tspan>\n",
       "</text>\n",
       "\n",
       "<text class=\"displacy-token\" fill=\"currentColor\" text-anchor=\"middle\" y=\"397.0\">\n",
       "    <tspan class=\"displacy-word\" fill=\"currentColor\" x=\"925\">responsabilidad</tspan>\n",
       "    <tspan class=\"displacy-tag\" dy=\"2em\" fill=\"currentColor\" x=\"925\">NOUN</tspan>\n",
       "</text>\n",
       "\n",
       "<text class=\"displacy-token\" fill=\"currentColor\" text-anchor=\"middle\" y=\"397.0\">\n",
       "    <tspan class=\"displacy-word\" fill=\"currentColor\" x=\"1100\">del</tspan>\n",
       "    <tspan class=\"displacy-tag\" dy=\"2em\" fill=\"currentColor\" x=\"1100\">ADP</tspan>\n",
       "</text>\n",
       "\n",
       "<text class=\"displacy-token\" fill=\"currentColor\" text-anchor=\"middle\" y=\"397.0\">\n",
       "    <tspan class=\"displacy-word\" fill=\"currentColor\" x=\"1275\">seguro</tspan>\n",
       "    <tspan class=\"displacy-tag\" dy=\"2em\" fill=\"currentColor\" x=\"1275\">NOUN</tspan>\n",
       "</text>\n",
       "\n",
       "<text class=\"displacy-token\" fill=\"currentColor\" text-anchor=\"middle\" y=\"397.0\">\n",
       "    <tspan class=\"displacy-word\" fill=\"currentColor\" x=\"1450\">hacia</tspan>\n",
       "    <tspan class=\"displacy-tag\" dy=\"2em\" fill=\"currentColor\" x=\"1450\">ADP</tspan>\n",
       "</text>\n",
       "\n",
       "<text class=\"displacy-token\" fill=\"currentColor\" text-anchor=\"middle\" y=\"397.0\">\n",
       "    <tspan class=\"displacy-word\" fill=\"currentColor\" x=\"1625\">\n",
       "                </tspan>\n",
       "    <tspan class=\"displacy-tag\" dy=\"2em\" fill=\"currentColor\" x=\"1625\">SPACE</tspan>\n",
       "</text>\n",
       "\n",
       "<text class=\"displacy-token\" fill=\"currentColor\" text-anchor=\"middle\" y=\"397.0\">\n",
       "    <tspan class=\"displacy-word\" fill=\"currentColor\" x=\"1800\">los</tspan>\n",
       "    <tspan class=\"displacy-tag\" dy=\"2em\" fill=\"currentColor\" x=\"1800\">DET</tspan>\n",
       "</text>\n",
       "\n",
       "<text class=\"displacy-token\" fill=\"currentColor\" text-anchor=\"middle\" y=\"397.0\">\n",
       "    <tspan class=\"displacy-word\" fill=\"currentColor\" x=\"1975\">fabricantes.</tspan>\n",
       "    <tspan class=\"displacy-tag\" dy=\"2em\" fill=\"currentColor\" x=\"1975\">NOUN</tspan>\n",
       "</text>\n",
       "\n",
       "<g class=\"displacy-arrow\">\n",
       "    <path class=\"displacy-arc\" id=\"arrow-da866de9e5904f0f9810feeb6fc93de1-0-0\" stroke-width=\"2px\" d=\"M70,352.0 C70,264.5 210.0,264.5 210.0,352.0\" fill=\"none\" stroke=\"currentColor\"/>\n",
       "    <text dy=\"1.25em\" style=\"font-size: 0.8em; letter-spacing: 1px\">\n",
       "        <textPath xlink:href=\"#arrow-da866de9e5904f0f9810feeb6fc93de1-0-0\" class=\"displacy-label\" startOffset=\"50%\" side=\"left\" fill=\"currentColor\" text-anchor=\"middle\">det</textPath>\n",
       "    </text>\n",
       "    <path class=\"displacy-arrowhead\" d=\"M70,354.0 L62,342.0 78,342.0\" fill=\"currentColor\"/>\n",
       "</g>\n",
       "\n",
       "<g class=\"displacy-arrow\">\n",
       "    <path class=\"displacy-arc\" id=\"arrow-da866de9e5904f0f9810feeb6fc93de1-0-1\" stroke-width=\"2px\" d=\"M245,352.0 C245,177.0 565.0,177.0 565.0,352.0\" fill=\"none\" stroke=\"currentColor\"/>\n",
       "    <text dy=\"1.25em\" style=\"font-size: 0.8em; letter-spacing: 1px\">\n",
       "        <textPath xlink:href=\"#arrow-da866de9e5904f0f9810feeb6fc93de1-0-1\" class=\"displacy-label\" startOffset=\"50%\" side=\"left\" fill=\"currentColor\" text-anchor=\"middle\">nsubj</textPath>\n",
       "    </text>\n",
       "    <path class=\"displacy-arrowhead\" d=\"M245,354.0 L237,342.0 253,342.0\" fill=\"currentColor\"/>\n",
       "</g>\n",
       "\n",
       "<g class=\"displacy-arrow\">\n",
       "    <path class=\"displacy-arc\" id=\"arrow-da866de9e5904f0f9810feeb6fc93de1-0-2\" stroke-width=\"2px\" d=\"M245,352.0 C245,264.5 385.0,264.5 385.0,352.0\" fill=\"none\" stroke=\"currentColor\"/>\n",
       "    <text dy=\"1.25em\" style=\"font-size: 0.8em; letter-spacing: 1px\">\n",
       "        <textPath xlink:href=\"#arrow-da866de9e5904f0f9810feeb6fc93de1-0-2\" class=\"displacy-label\" startOffset=\"50%\" side=\"left\" fill=\"currentColor\" text-anchor=\"middle\">amod</textPath>\n",
       "    </text>\n",
       "    <path class=\"displacy-arrowhead\" d=\"M385.0,354.0 L393.0,342.0 377.0,342.0\" fill=\"currentColor\"/>\n",
       "</g>\n",
       "\n",
       "<g class=\"displacy-arrow\">\n",
       "    <path class=\"displacy-arc\" id=\"arrow-da866de9e5904f0f9810feeb6fc93de1-0-3\" stroke-width=\"2px\" d=\"M770,352.0 C770,264.5 910.0,264.5 910.0,352.0\" fill=\"none\" stroke=\"currentColor\"/>\n",
       "    <text dy=\"1.25em\" style=\"font-size: 0.8em; letter-spacing: 1px\">\n",
       "        <textPath xlink:href=\"#arrow-da866de9e5904f0f9810feeb6fc93de1-0-3\" class=\"displacy-label\" startOffset=\"50%\" side=\"left\" fill=\"currentColor\" text-anchor=\"middle\">det</textPath>\n",
       "    </text>\n",
       "    <path class=\"displacy-arrowhead\" d=\"M770,354.0 L762,342.0 778,342.0\" fill=\"currentColor\"/>\n",
       "</g>\n",
       "\n",
       "<g class=\"displacy-arrow\">\n",
       "    <path class=\"displacy-arc\" id=\"arrow-da866de9e5904f0f9810feeb6fc93de1-0-4\" stroke-width=\"2px\" d=\"M595,352.0 C595,177.0 915.0,177.0 915.0,352.0\" fill=\"none\" stroke=\"currentColor\"/>\n",
       "    <text dy=\"1.25em\" style=\"font-size: 0.8em; letter-spacing: 1px\">\n",
       "        <textPath xlink:href=\"#arrow-da866de9e5904f0f9810feeb6fc93de1-0-4\" class=\"displacy-label\" startOffset=\"50%\" side=\"left\" fill=\"currentColor\" text-anchor=\"middle\">obj</textPath>\n",
       "    </text>\n",
       "    <path class=\"displacy-arrowhead\" d=\"M915.0,354.0 L923.0,342.0 907.0,342.0\" fill=\"currentColor\"/>\n",
       "</g>\n",
       "\n",
       "<g class=\"displacy-arrow\">\n",
       "    <path class=\"displacy-arc\" id=\"arrow-da866de9e5904f0f9810feeb6fc93de1-0-5\" stroke-width=\"2px\" d=\"M1120,352.0 C1120,264.5 1260.0,264.5 1260.0,352.0\" fill=\"none\" stroke=\"currentColor\"/>\n",
       "    <text dy=\"1.25em\" style=\"font-size: 0.8em; letter-spacing: 1px\">\n",
       "        <textPath xlink:href=\"#arrow-da866de9e5904f0f9810feeb6fc93de1-0-5\" class=\"displacy-label\" startOffset=\"50%\" side=\"left\" fill=\"currentColor\" text-anchor=\"middle\">case</textPath>\n",
       "    </text>\n",
       "    <path class=\"displacy-arrowhead\" d=\"M1120,354.0 L1112,342.0 1128,342.0\" fill=\"currentColor\"/>\n",
       "</g>\n",
       "\n",
       "<g class=\"displacy-arrow\">\n",
       "    <path class=\"displacy-arc\" id=\"arrow-da866de9e5904f0f9810feeb6fc93de1-0-6\" stroke-width=\"2px\" d=\"M945,352.0 C945,177.0 1265.0,177.0 1265.0,352.0\" fill=\"none\" stroke=\"currentColor\"/>\n",
       "    <text dy=\"1.25em\" style=\"font-size: 0.8em; letter-spacing: 1px\">\n",
       "        <textPath xlink:href=\"#arrow-da866de9e5904f0f9810feeb6fc93de1-0-6\" class=\"displacy-label\" startOffset=\"50%\" side=\"left\" fill=\"currentColor\" text-anchor=\"middle\">nmod</textPath>\n",
       "    </text>\n",
       "    <path class=\"displacy-arrowhead\" d=\"M1265.0,354.0 L1273.0,342.0 1257.0,342.0\" fill=\"currentColor\"/>\n",
       "</g>\n",
       "\n",
       "<g class=\"displacy-arrow\">\n",
       "    <path class=\"displacy-arc\" id=\"arrow-da866de9e5904f0f9810feeb6fc93de1-0-7\" stroke-width=\"2px\" d=\"M1470,352.0 C1470,264.5 1610.0,264.5 1610.0,352.0\" fill=\"none\" stroke=\"currentColor\"/>\n",
       "    <text dy=\"1.25em\" style=\"font-size: 0.8em; letter-spacing: 1px\">\n",
       "        <textPath xlink:href=\"#arrow-da866de9e5904f0f9810feeb6fc93de1-0-7\" class=\"displacy-label\" startOffset=\"50%\" side=\"left\" fill=\"currentColor\" text-anchor=\"middle\">case</textPath>\n",
       "    </text>\n",
       "    <path class=\"displacy-arrowhead\" d=\"M1470,354.0 L1462,342.0 1478,342.0\" fill=\"currentColor\"/>\n",
       "</g>\n",
       "\n",
       "<g class=\"displacy-arrow\">\n",
       "    <path class=\"displacy-arc\" id=\"arrow-da866de9e5904f0f9810feeb6fc93de1-0-8\" stroke-width=\"2px\" d=\"M595,352.0 C595,89.5 1620.0,89.5 1620.0,352.0\" fill=\"none\" stroke=\"currentColor\"/>\n",
       "    <text dy=\"1.25em\" style=\"font-size: 0.8em; letter-spacing: 1px\">\n",
       "        <textPath xlink:href=\"#arrow-da866de9e5904f0f9810feeb6fc93de1-0-8\" class=\"displacy-label\" startOffset=\"50%\" side=\"left\" fill=\"currentColor\" text-anchor=\"middle\">obl</textPath>\n",
       "    </text>\n",
       "    <path class=\"displacy-arrowhead\" d=\"M1620.0,354.0 L1628.0,342.0 1612.0,342.0\" fill=\"currentColor\"/>\n",
       "</g>\n",
       "\n",
       "<g class=\"displacy-arrow\">\n",
       "    <path class=\"displacy-arc\" id=\"arrow-da866de9e5904f0f9810feeb6fc93de1-0-9\" stroke-width=\"2px\" d=\"M1820,352.0 C1820,264.5 1960.0,264.5 1960.0,352.0\" fill=\"none\" stroke=\"currentColor\"/>\n",
       "    <text dy=\"1.25em\" style=\"font-size: 0.8em; letter-spacing: 1px\">\n",
       "        <textPath xlink:href=\"#arrow-da866de9e5904f0f9810feeb6fc93de1-0-9\" class=\"displacy-label\" startOffset=\"50%\" side=\"left\" fill=\"currentColor\" text-anchor=\"middle\">det</textPath>\n",
       "    </text>\n",
       "    <path class=\"displacy-arrowhead\" d=\"M1820,354.0 L1812,342.0 1828,342.0\" fill=\"currentColor\"/>\n",
       "</g>\n",
       "\n",
       "<g class=\"displacy-arrow\">\n",
       "    <path class=\"displacy-arc\" id=\"arrow-da866de9e5904f0f9810feeb6fc93de1-0-10\" stroke-width=\"2px\" d=\"M595,352.0 C595,2.0 1975.0,2.0 1975.0,352.0\" fill=\"none\" stroke=\"currentColor\"/>\n",
       "    <text dy=\"1.25em\" style=\"font-size: 0.8em; letter-spacing: 1px\">\n",
       "        <textPath xlink:href=\"#arrow-da866de9e5904f0f9810feeb6fc93de1-0-10\" class=\"displacy-label\" startOffset=\"50%\" side=\"left\" fill=\"currentColor\" text-anchor=\"middle\">obj</textPath>\n",
       "    </text>\n",
       "    <path class=\"displacy-arrowhead\" d=\"M1975.0,354.0 L1983.0,342.0 1967.0,342.0\" fill=\"currentColor\"/>\n",
       "</g>\n",
       "</svg>\n",
       "</figure>\n",
       "</body>\n",
       "</html></span>"
      ],
      "text/plain": [
       "<IPython.core.display.HTML object>"
      ]
     },
     "metadata": {},
     "output_type": "display_data"
    },
    {
     "name": "stdout",
     "output_type": "stream",
     "text": [
      "\n",
      "Using the 'dep' visualizer\n",
      "Serving on http://0.0.0.0:5000 ...\n",
      "\n",
      "Shutting down server on port 5000.\n"
     ]
    }
   ],
   "source": [
    "spacy.displacy.serve(sent_1, style='dep')"
   ]
  },
  {
   "cell_type": "markdown",
   "metadata": {},
   "source": [
    "Aqui se pueden ver las tres frases sustantivas `los autos autonomos`, `la responsabilidad` y `seguro`"
   ]
  },
  {
   "cell_type": "code",
   "execution_count": 35,
   "metadata": {},
   "outputs": [
    {
     "name": "stdout",
     "output_type": "stream",
     "text": [
      "Le Le obj disparé\n",
      "elefante elefante obj disparé\n",
      "mis pijamas pijamas obl disparé\n"
     ]
    }
   ],
   "source": [
    "sent_2 = nlp('Le disparé al elefante con mis pijamas.')\n",
    "for chunk in sent_2.noun_chunks:\n",
    "    print(chunk.text, chunk.root.text, chunk.root.dep_, chunk.root.head.text)"
   ]
  },
  {
   "cell_type": "code",
   "execution_count": 36,
   "metadata": {},
   "outputs": [
    {
     "data": {
      "text/html": [
       "<span class=\"tex2jax_ignore\"><!DOCTYPE html>\n",
       "<html lang=\"es\">\n",
       "    <head>\n",
       "        <title>displaCy</title>\n",
       "    </head>\n",
       "\n",
       "    <body style=\"font-size: 16px; font-family: -apple-system, BlinkMacSystemFont, 'Segoe UI', Helvetica, Arial, sans-serif, 'Apple Color Emoji', 'Segoe UI Emoji', 'Segoe UI Symbol'; padding: 4rem 2rem; direction: ltr\">\n",
       "<figure style=\"margin-bottom: 6rem\">\n",
       "<svg xmlns=\"http://www.w3.org/2000/svg\" xmlns:xlink=\"http://www.w3.org/1999/xlink\" xml:lang=\"es\" id=\"9173228a509f4f0d84d3443f1db90dd0-0\" class=\"displacy\" width=\"1275\" height=\"399.5\" direction=\"ltr\" style=\"max-width: none; height: 399.5px; color: #000000; background: #ffffff; font-family: Arial; direction: ltr\">\n",
       "<text class=\"displacy-token\" fill=\"currentColor\" text-anchor=\"middle\" y=\"309.5\">\n",
       "    <tspan class=\"displacy-word\" fill=\"currentColor\" x=\"50\">Le</tspan>\n",
       "    <tspan class=\"displacy-tag\" dy=\"2em\" fill=\"currentColor\" x=\"50\">PRON</tspan>\n",
       "</text>\n",
       "\n",
       "<text class=\"displacy-token\" fill=\"currentColor\" text-anchor=\"middle\" y=\"309.5\">\n",
       "    <tspan class=\"displacy-word\" fill=\"currentColor\" x=\"225\">disparé</tspan>\n",
       "    <tspan class=\"displacy-tag\" dy=\"2em\" fill=\"currentColor\" x=\"225\">VERB</tspan>\n",
       "</text>\n",
       "\n",
       "<text class=\"displacy-token\" fill=\"currentColor\" text-anchor=\"middle\" y=\"309.5\">\n",
       "    <tspan class=\"displacy-word\" fill=\"currentColor\" x=\"400\">al</tspan>\n",
       "    <tspan class=\"displacy-tag\" dy=\"2em\" fill=\"currentColor\" x=\"400\">ADP</tspan>\n",
       "</text>\n",
       "\n",
       "<text class=\"displacy-token\" fill=\"currentColor\" text-anchor=\"middle\" y=\"309.5\">\n",
       "    <tspan class=\"displacy-word\" fill=\"currentColor\" x=\"575\">elefante</tspan>\n",
       "    <tspan class=\"displacy-tag\" dy=\"2em\" fill=\"currentColor\" x=\"575\">NOUN</tspan>\n",
       "</text>\n",
       "\n",
       "<text class=\"displacy-token\" fill=\"currentColor\" text-anchor=\"middle\" y=\"309.5\">\n",
       "    <tspan class=\"displacy-word\" fill=\"currentColor\" x=\"750\">con</tspan>\n",
       "    <tspan class=\"displacy-tag\" dy=\"2em\" fill=\"currentColor\" x=\"750\">ADP</tspan>\n",
       "</text>\n",
       "\n",
       "<text class=\"displacy-token\" fill=\"currentColor\" text-anchor=\"middle\" y=\"309.5\">\n",
       "    <tspan class=\"displacy-word\" fill=\"currentColor\" x=\"925\">mis</tspan>\n",
       "    <tspan class=\"displacy-tag\" dy=\"2em\" fill=\"currentColor\" x=\"925\">DET</tspan>\n",
       "</text>\n",
       "\n",
       "<text class=\"displacy-token\" fill=\"currentColor\" text-anchor=\"middle\" y=\"309.5\">\n",
       "    <tspan class=\"displacy-word\" fill=\"currentColor\" x=\"1100\">pijamas.</tspan>\n",
       "    <tspan class=\"displacy-tag\" dy=\"2em\" fill=\"currentColor\" x=\"1100\">NOUN</tspan>\n",
       "</text>\n",
       "\n",
       "<g class=\"displacy-arrow\">\n",
       "    <path class=\"displacy-arc\" id=\"arrow-9173228a509f4f0d84d3443f1db90dd0-0-0\" stroke-width=\"2px\" d=\"M70,264.5 C70,177.0 215.0,177.0 215.0,264.5\" fill=\"none\" stroke=\"currentColor\"/>\n",
       "    <text dy=\"1.25em\" style=\"font-size: 0.8em; letter-spacing: 1px\">\n",
       "        <textPath xlink:href=\"#arrow-9173228a509f4f0d84d3443f1db90dd0-0-0\" class=\"displacy-label\" startOffset=\"50%\" side=\"left\" fill=\"currentColor\" text-anchor=\"middle\">obj</textPath>\n",
       "    </text>\n",
       "    <path class=\"displacy-arrowhead\" d=\"M70,266.5 L62,254.5 78,254.5\" fill=\"currentColor\"/>\n",
       "</g>\n",
       "\n",
       "<g class=\"displacy-arrow\">\n",
       "    <path class=\"displacy-arc\" id=\"arrow-9173228a509f4f0d84d3443f1db90dd0-0-1\" stroke-width=\"2px\" d=\"M420,264.5 C420,177.0 565.0,177.0 565.0,264.5\" fill=\"none\" stroke=\"currentColor\"/>\n",
       "    <text dy=\"1.25em\" style=\"font-size: 0.8em; letter-spacing: 1px\">\n",
       "        <textPath xlink:href=\"#arrow-9173228a509f4f0d84d3443f1db90dd0-0-1\" class=\"displacy-label\" startOffset=\"50%\" side=\"left\" fill=\"currentColor\" text-anchor=\"middle\">case</textPath>\n",
       "    </text>\n",
       "    <path class=\"displacy-arrowhead\" d=\"M420,266.5 L412,254.5 428,254.5\" fill=\"currentColor\"/>\n",
       "</g>\n",
       "\n",
       "<g class=\"displacy-arrow\">\n",
       "    <path class=\"displacy-arc\" id=\"arrow-9173228a509f4f0d84d3443f1db90dd0-0-2\" stroke-width=\"2px\" d=\"M245,264.5 C245,89.5 570.0,89.5 570.0,264.5\" fill=\"none\" stroke=\"currentColor\"/>\n",
       "    <text dy=\"1.25em\" style=\"font-size: 0.8em; letter-spacing: 1px\">\n",
       "        <textPath xlink:href=\"#arrow-9173228a509f4f0d84d3443f1db90dd0-0-2\" class=\"displacy-label\" startOffset=\"50%\" side=\"left\" fill=\"currentColor\" text-anchor=\"middle\">obj</textPath>\n",
       "    </text>\n",
       "    <path class=\"displacy-arrowhead\" d=\"M570.0,266.5 L578.0,254.5 562.0,254.5\" fill=\"currentColor\"/>\n",
       "</g>\n",
       "\n",
       "<g class=\"displacy-arrow\">\n",
       "    <path class=\"displacy-arc\" id=\"arrow-9173228a509f4f0d84d3443f1db90dd0-0-3\" stroke-width=\"2px\" d=\"M770,264.5 C770,89.5 1095.0,89.5 1095.0,264.5\" fill=\"none\" stroke=\"currentColor\"/>\n",
       "    <text dy=\"1.25em\" style=\"font-size: 0.8em; letter-spacing: 1px\">\n",
       "        <textPath xlink:href=\"#arrow-9173228a509f4f0d84d3443f1db90dd0-0-3\" class=\"displacy-label\" startOffset=\"50%\" side=\"left\" fill=\"currentColor\" text-anchor=\"middle\">case</textPath>\n",
       "    </text>\n",
       "    <path class=\"displacy-arrowhead\" d=\"M770,266.5 L762,254.5 778,254.5\" fill=\"currentColor\"/>\n",
       "</g>\n",
       "\n",
       "<g class=\"displacy-arrow\">\n",
       "    <path class=\"displacy-arc\" id=\"arrow-9173228a509f4f0d84d3443f1db90dd0-0-4\" stroke-width=\"2px\" d=\"M945,264.5 C945,177.0 1090.0,177.0 1090.0,264.5\" fill=\"none\" stroke=\"currentColor\"/>\n",
       "    <text dy=\"1.25em\" style=\"font-size: 0.8em; letter-spacing: 1px\">\n",
       "        <textPath xlink:href=\"#arrow-9173228a509f4f0d84d3443f1db90dd0-0-4\" class=\"displacy-label\" startOffset=\"50%\" side=\"left\" fill=\"currentColor\" text-anchor=\"middle\">det</textPath>\n",
       "    </text>\n",
       "    <path class=\"displacy-arrowhead\" d=\"M945,266.5 L937,254.5 953,254.5\" fill=\"currentColor\"/>\n",
       "</g>\n",
       "\n",
       "<g class=\"displacy-arrow\">\n",
       "    <path class=\"displacy-arc\" id=\"arrow-9173228a509f4f0d84d3443f1db90dd0-0-5\" stroke-width=\"2px\" d=\"M245,264.5 C245,2.0 1100.0,2.0 1100.0,264.5\" fill=\"none\" stroke=\"currentColor\"/>\n",
       "    <text dy=\"1.25em\" style=\"font-size: 0.8em; letter-spacing: 1px\">\n",
       "        <textPath xlink:href=\"#arrow-9173228a509f4f0d84d3443f1db90dd0-0-5\" class=\"displacy-label\" startOffset=\"50%\" side=\"left\" fill=\"currentColor\" text-anchor=\"middle\">obl</textPath>\n",
       "    </text>\n",
       "    <path class=\"displacy-arrowhead\" d=\"M1100.0,266.5 L1108.0,254.5 1092.0,254.5\" fill=\"currentColor\"/>\n",
       "</g>\n",
       "</svg>\n",
       "</figure>\n",
       "</body>\n",
       "</html></span>"
      ],
      "text/plain": [
       "<IPython.core.display.HTML object>"
      ]
     },
     "metadata": {},
     "output_type": "display_data"
    },
    {
     "name": "stdout",
     "output_type": "stream",
     "text": [
      "\n",
      "Using the 'dep' visualizer\n",
      "Serving on http://0.0.0.0:5000 ...\n",
      "\n",
      "Shutting down server on port 5000.\n"
     ]
    }
   ],
   "source": [
    "spacy.displacy.serve(sent_2, style='dep')"
   ]
  },
  {
   "cell_type": "markdown",
   "metadata": {},
   "source": [
    "## Ejemplo práctico"
   ]
  },
  {
   "cell_type": "markdown",
   "metadata": {},
   "source": [
    "Continuando con el ejemplo anterior del Martin Fierro, podemos buscar cuales son los adjetivos que más describe a el `gaucho`, el personaje principal del Martin Fierro"
   ]
  },
  {
   "cell_type": "code",
   "execution_count": 37,
   "metadata": {},
   "outputs": [
    {
     "data": {
      "text/plain": [
       "[('desgraciao', 3),\n",
       " ('pobre', 2),\n",
       " ('malo', 2),\n",
       " ('perseguido', 1),\n",
       " ('alvertido', 1),\n",
       " ('inteligente', 1),\n",
       " ('infeliz', 1),\n",
       " ('dormido', 1),\n",
       " ('rotoso', 1),\n",
       " ('barajo', 1)]"
      ]
     },
     "execution_count": 37,
     "metadata": {},
     "output_type": "execute_result"
    }
   ],
   "source": [
    "adjectives = []\n",
    "for sent in mf.sents:\n",
    "    for word in sent:\n",
    "        if 'gaucho' in word.text:\n",
    "            for child in word.children:\n",
    "                if child.pos_ == 'ADJ':\n",
    "                    adjectives.append(child.text.strip())\n",
    "                    \n",
    "Counter(adjectives).most_common(10)"
   ]
  },
  {
   "cell_type": "markdown",
   "metadata": {},
   "source": [
    "---"
   ]
  },
  {
   "cell_type": "markdown",
   "metadata": {},
   "source": [
    "## Transformaciones vectoriales con Gensim"
   ]
  },
  {
   "cell_type": "markdown",
   "metadata": {},
   "source": [
    "Analicemos las primeras 4 estrofas del Martin Fierro"
   ]
  },
  {
   "cell_type": "code",
   "execution_count": 38,
   "metadata": {},
   "outputs": [],
   "source": [
    "documents = [\n",
    "'Aquí me pongo a cantar al compás de la vigüela, que el hombre que lo desvela una pena estraordinaria como la ave solitaria con el cantar se consuela.',\n",
    "'Pido a los Santos del Cielo que ayuden mi pensamiento; Les pido en este momento que voy a cantar mi historia me refresquen la memoria y aclaren mi entendimiento.',\n",
    "'Vengan Santos milagrosos, vengan todos en mi ayuda, que la lengua se me añuda y se me turba la vista; Pido a Dios que me asista en una ocasión tan ruda.',\n",
    "'Yo he visto muchos cantores, con famas bien obtenidas, y que después de adquiridas no las quieren sustentar parece que sin largar se cansaron en partidas'\n",
    "]"
   ]
  },
  {
   "cell_type": "markdown",
   "metadata": {},
   "source": [
    "Las preprocesamos con spaCy"
   ]
  },
  {
   "cell_type": "code",
   "execution_count": 39,
   "metadata": {},
   "outputs": [
    {
     "name": "stdout",
     "output_type": "stream",
     "text": [
      "[['poner', 'a', 'cantar', 'compás', 'vigüela', 'hombre', 'desvelar', 'pena', 'estraordinario', 'ave', 'solitario', 'cantar', 'consolar'], ['pedir', 'a', 'Santos', 'Cielo', 'ayudar', 'pensamiento', 'pedir', 'a', 'cantar', 'historia', 'refrescar', 'memoria', 'y', 'aclaren', 'entendimiento'], ['Vengan', 'Santos', 'milagroso', 'vengar', 'ayuda', 'lengua', 'añudar', 'y', 'turbar', 'vista', 'pedir', 'a', 'Dios', 'asistir', 'ocasión', 'rudo'], ['ver', 'cantor', 'fama', 'obtenido', 'y', 'adquirida', 'querer', 'sustentar', 'largar', 'cansar', 'partida']]\n"
     ]
    }
   ],
   "source": [
    "texts = []\n",
    "for document in documents:\n",
    "    text = []\n",
    "    doc = nlp(document)\n",
    "    for w in doc:\n",
    "        if not w.is_stop and not w.is_punct and not w.like_num:\n",
    "            text.append(w.lemma_)\n",
    "    texts.append(text)\n",
    "print(texts)        "
   ]
  },
  {
   "cell_type": "markdown",
   "metadata": {},
   "source": [
    "Construyamos nuestro Bag-of-words"
   ]
  },
  {
   "cell_type": "code",
   "execution_count": 40,
   "metadata": {},
   "outputs": [
    {
     "name": "stdout",
     "output_type": "stream",
     "text": [
      "{'a': 0, 'ave': 1, 'cantar': 2, 'compás': 3, 'consolar': 4, 'desvelar': 5, 'estraordinario': 6, 'hombre': 7, 'pena': 8, 'poner': 9, 'solitario': 10, 'vigüela': 11, 'Cielo': 12, 'Santos': 13, 'aclaren': 14, 'ayudar': 15, 'entendimiento': 16, 'historia': 17, 'memoria': 18, 'pedir': 19, 'pensamiento': 20, 'refrescar': 21, 'y': 22, 'Dios': 23, 'Vengan': 24, 'asistir': 25, 'ayuda': 26, 'añudar': 27, 'lengua': 28, 'milagroso': 29, 'ocasión': 30, 'rudo': 31, 'turbar': 32, 'vengar': 33, 'vista': 34, 'adquirida': 35, 'cansar': 36, 'cantor': 37, 'fama': 38, 'largar': 39, 'obtenido': 40, 'partida': 41, 'querer': 42, 'sustentar': 43, 'ver': 44}\n"
     ]
    }
   ],
   "source": [
    "dictionary = corpora.Dictionary(texts)\n",
    "print(dictionary.token2id)"
   ]
  },
  {
   "cell_type": "markdown",
   "metadata": {},
   "source": [
    "Hay 45 palabras únicas en el corpus, representadas en el diccionario con un indice asignado"
   ]
  },
  {
   "cell_type": "code",
   "execution_count": 41,
   "metadata": {},
   "outputs": [
    {
     "data": {
      "text/plain": [
       "45"
      ]
     },
     "execution_count": 41,
     "metadata": {},
     "output_type": "execute_result"
    }
   ],
   "source": [
    "len(dictionary)"
   ]
  },
  {
   "cell_type": "code",
   "execution_count": 42,
   "metadata": {},
   "outputs": [],
   "source": [
    "corpus = [dictionary.doc2bow(text) for text in texts]"
   ]
  },
  {
   "cell_type": "markdown",
   "metadata": {},
   "source": [
    "Al imprimirlo obtenemos una lista de 4 listas (las estrofas), y en cada una de ellas hay una tupla con el índice de la palabra y su frecuencia (word_id, word_count)"
   ]
  },
  {
   "cell_type": "code",
   "execution_count": 43,
   "metadata": {},
   "outputs": [
    {
     "name": "stdout",
     "output_type": "stream",
     "text": [
      "[[(0, 1), (1, 1), (2, 2), (3, 1), (4, 1), (5, 1), (6, 1), (7, 1), (8, 1), (9, 1), (10, 1), (11, 1)], [(0, 2), (2, 1), (12, 1), (13, 1), (14, 1), (15, 1), (16, 1), (17, 1), (18, 1), (19, 2), (20, 1), (21, 1), (22, 1)], [(0, 1), (13, 1), (19, 1), (22, 1), (23, 1), (24, 1), (25, 1), (26, 1), (27, 1), (28, 1), (29, 1), (30, 1), (31, 1), (32, 1), (33, 1), (34, 1)], [(22, 1), (35, 1), (36, 1), (37, 1), (38, 1), (39, 1), (40, 1), (41, 1), (42, 1), (43, 1), (44, 1)]]\n"
     ]
    }
   ],
   "source": [
    "print(corpus)"
   ]
  },
  {
   "cell_type": "markdown",
   "metadata": {},
   "source": [
    "Hay muchos conteos de uno porque es un corpus pequeño.\n",
    "Podemos guardar esta representacion en disco para recuperarla mas tarde:"
   ]
  },
  {
   "cell_type": "code",
   "execution_count": 44,
   "metadata": {},
   "outputs": [],
   "source": [
    "corpora.MmCorpus.serialize('models/mf.mm', corpus)"
   ]
  },
  {
   "cell_type": "markdown",
   "metadata": {},
   "source": [
    "Podemos optar por la representación TF-IDF, con el corpus anterior hacemos:"
   ]
  },
  {
   "cell_type": "code",
   "execution_count": 45,
   "metadata": {},
   "outputs": [],
   "source": [
    "tfidf = models.TfidfModel(corpus)"
   ]
  },
  {
   "cell_type": "markdown",
   "metadata": {},
   "source": [
    "Si lo visualizamos podemos obtener estos scores, cuanto más grande, mas importante es en el documento"
   ]
  },
  {
   "cell_type": "code",
   "execution_count": 46,
   "metadata": {},
   "outputs": [
    {
     "name": "stdout",
     "output_type": "stream",
     "text": [
      "[(0, 0.06244713910698048), (1, 0.3009228766821634), (2, 0.3009228766821634), (3, 0.3009228766821634), (4, 0.3009228766821634), (5, 0.3009228766821634), (6, 0.3009228766821634), (7, 0.3009228766821634), (8, 0.3009228766821634), (9, 0.3009228766821634), (10, 0.3009228766821634), (11, 0.3009228766821634)]\n",
      "[(0, 0.1331553986738668), (2, 0.16041369623857302), (12, 0.32082739247714603), (13, 0.16041369623857302), (14, 0.32082739247714603), (15, 0.32082739247714603), (16, 0.32082739247714603), (17, 0.32082739247714603), (18, 0.32082739247714603), (19, 0.32082739247714603), (20, 0.32082739247714603), (21, 0.32082739247714603), (22, 0.0665776993369334)]\n",
      "[(0, 0.05849399300299983), (13, 0.14093664573595682), (19, 0.14093664573595682), (22, 0.05849399300299983), (23, 0.28187329147191365), (24, 0.28187329147191365), (25, 0.28187329147191365), (26, 0.28187329147191365), (27, 0.28187329147191365), (28, 0.28187329147191365), (29, 0.28187329147191365), (30, 0.28187329147191365), (31, 0.28187329147191365), (32, 0.28187329147191365), (33, 0.28187329147191365), (34, 0.28187329147191365)]\n",
      "[(22, 0.06548234538719046), (35, 0.31554905521053184), (36, 0.31554905521053184), (37, 0.31554905521053184), (38, 0.31554905521053184), (39, 0.31554905521053184), (40, 0.31554905521053184), (41, 0.31554905521053184), (42, 0.31554905521053184), (43, 0.31554905521053184), (44, 0.31554905521053184)]\n"
     ]
    }
   ],
   "source": [
    "for document in tfidf[corpus]:\n",
    "    print(document)"
   ]
  },
  {
   "cell_type": "markdown",
   "metadata": {},
   "source": [
    "## n-gramas"
   ]
  },
  {
   "cell_type": "code",
   "execution_count": 47,
   "metadata": {},
   "outputs": [],
   "source": [
    "text = []\n",
    "doc = nlp(martin_fierro)\n",
    "for w in doc:\n",
    "    if not w.is_stop and not w.is_punct and not w.like_num and '\\n' not in w.text:\n",
    "        text.append(w.lemma_.lower())"
   ]
  },
  {
   "cell_type": "code",
   "execution_count": 48,
   "metadata": {},
   "outputs": [],
   "source": [
    "bigram = models.Phrases([text])"
   ]
  },
  {
   "cell_type": "code",
   "execution_count": 49,
   "metadata": {},
   "outputs": [
    {
     "data": {
      "text/plain": [
       "['gaucho',\n",
       " 'martín_fierro',\n",
       " 'josé',\n",
       " 'hernández',\n",
       " 'aires',\n",
       " 'imprenta',\n",
       " 'pampa',\n",
       " 'victoria',\n",
       " 'carta',\n",
       " 'autor']"
      ]
     },
     "execution_count": 49,
     "metadata": {},
     "output_type": "execute_result"
    }
   ],
   "source": [
    "bigram[text][:10]"
   ]
  },
  {
   "cell_type": "code",
   "execution_count": 50,
   "metadata": {},
   "outputs": [],
   "source": [
    "bigram_counter = Counter()\n",
    "for key in bigram.vocab.keys():\n",
    "    if len(key.split(\"_\")) > 1:\n",
    "        bigram_counter[key] += bigram.vocab[key]"
   ]
  },
  {
   "cell_type": "code",
   "execution_count": 51,
   "metadata": {},
   "outputs": [
    {
     "name": "stdout",
     "output_type": "stream",
     "text": [
      "y_a 17\n",
      "ir_a 10\n",
      "a_cantar 8\n",
      "y_pa 7\n",
      "empezar_a 7\n",
      "y_venir 7\n",
      "martín_fierro 6\n",
      "y_dendir 6\n",
      "a_andar 6\n",
      "y_ansí 6\n",
      "y_salir 6\n",
      "gaucho_y 5\n",
      "y_gaucho 5\n",
      "y_querer 5\n",
      "y_ver 5\n",
      "y_andar 5\n",
      "a_frontera 5\n",
      "y_hacer 5\n",
      "y_decir 5\n",
      "a_buscar 5\n"
     ]
    }
   ],
   "source": [
    "for key, counts in bigram_counter.most_common(20):\n",
    "    print(key, counts)"
   ]
  },
  {
   "cell_type": "markdown",
   "metadata": {},
   "source": [
    "## Topic Modeling"
   ]
  },
  {
   "cell_type": "markdown",
   "metadata": {},
   "source": [
    "### Latent Dirichlet Allocation"
   ]
  },
  {
   "cell_type": "code",
   "execution_count": 52,
   "metadata": {},
   "outputs": [],
   "source": [
    "lee_newspaper = open('corpus/lee_background.cor').read()"
   ]
  },
  {
   "cell_type": "code",
   "execution_count": 54,
   "metadata": {},
   "outputs": [],
   "source": [
    "# !python -m spacy download en_core_web_sm\n",
    "nlp = spacy.load(\"en_core_web_sm\")"
   ]
  },
  {
   "cell_type": "code",
   "execution_count": 55,
   "metadata": {},
   "outputs": [],
   "source": [
    "doc = nlp(lee_newspaper)"
   ]
  },
  {
   "cell_type": "code",
   "execution_count": 56,
   "metadata": {},
   "outputs": [
    {
     "data": {
      "text/plain": [
       "Hundreds of people have been forced to vacate their homes in the Southern Highlands of New South Wales as strong winds today pushed a huge bushfire towards the town of Hill Top. A new blaze near Goulburn, south-west of Sydney, has forced the closure of the Hume Highway. At about 4:00pm AEDT, a marked deterioration in the weather as a storm cell moved east across the Blue Mountains forced authorities to make a decision to evacuate people from homes in outlying streets at Hill Top in the New South Wales southern highlands."
      ]
     },
     "execution_count": 56,
     "metadata": {},
     "output_type": "execute_result"
    }
   ],
   "source": [
    "doc[:100]"
   ]
  },
  {
   "cell_type": "code",
   "execution_count": 57,
   "metadata": {},
   "outputs": [],
   "source": [
    "# we add some words to the stop word list\n",
    "texts, article, skl_texts = [], [], []\n",
    "for w in doc:\n",
    "    # if it's not a stop word or punctuation mark, add it to our article!\n",
    "    if w.text != '\\n' and not w.is_stop and not w.is_punct and not w.like_num:\n",
    "        # we add the lematized version of the word\n",
    "        article.append(w.lemma_)\n",
    "    # if it's a new line, it means we're onto our next document\n",
    "    if w.text == '\\n':\n",
    "        skl_texts.append(' '.join(article))\n",
    "        texts.append(article)\n",
    "        article = []"
   ]
  },
  {
   "cell_type": "code",
   "execution_count": 58,
   "metadata": {},
   "outputs": [],
   "source": [
    "bigram = models.Phrases(texts)"
   ]
  },
  {
   "cell_type": "code",
   "execution_count": 59,
   "metadata": {},
   "outputs": [],
   "source": [
    "texts = [bigram[line] for line in texts]"
   ]
  },
  {
   "cell_type": "code",
   "execution_count": 60,
   "metadata": {},
   "outputs": [
    {
     "data": {
      "text/plain": [
       "['indian',\n",
       " 'security_force',\n",
       " 'shoot_dead',\n",
       " 'suspect',\n",
       " 'militant',\n",
       " 'night',\n",
       " 'long',\n",
       " 'encounter',\n",
       " 'southern',\n",
       " 'Kashmir']"
      ]
     },
     "execution_count": 60,
     "metadata": {},
     "output_type": "execute_result"
    }
   ],
   "source": [
    "texts[1][0:10]"
   ]
  },
  {
   "cell_type": "code",
   "execution_count": 61,
   "metadata": {},
   "outputs": [],
   "source": [
    "dictionary = Dictionary(texts)\n",
    "corpus = [dictionary.doc2bow(text) for text in texts]"
   ]
  },
  {
   "cell_type": "code",
   "execution_count": 62,
   "metadata": {},
   "outputs": [
    {
     "data": {
      "text/plain": [
       "[(71, 1),\n",
       " (83, 1),\n",
       " (92, 1),\n",
       " (94, 1),\n",
       " (95, 1),\n",
       " (110, 1),\n",
       " (111, 1),\n",
       " (112, 1),\n",
       " (113, 4),\n",
       " (114, 1)]"
      ]
     },
     "execution_count": 62,
     "metadata": {},
     "output_type": "execute_result"
    }
   ],
   "source": [
    "corpus[1][0:10]"
   ]
  },
  {
   "cell_type": "code",
   "execution_count": 63,
   "metadata": {},
   "outputs": [],
   "source": [
    "ldamodel = LdaModel(corpus=corpus, num_topics=10, id2word=dictionary)"
   ]
  },
  {
   "cell_type": "code",
   "execution_count": 64,
   "metadata": {},
   "outputs": [
    {
     "data": {
      "text/plain": [
       "[(0,\n",
       "  '0.038*\"say\" + 0.006*\"Mr\" + 0.005*\"people\" + 0.004*\"report\" + 0.004*\"Australian\" + 0.004*\"come\" + 0.004*\"Australia\" + 0.004*\"Government\" + 0.003*\"Taliban\" + 0.003*\"year\"'),\n",
       " (1,\n",
       "  '0.024*\"say\" + 0.005*\"year\" + 0.004*\"Australia\" + 0.004*\"force\" + 0.004*\"Mr\" + 0.004*\"day\" + 0.004*\"new\" + 0.003*\"take\" + 0.003*\"good\" + 0.003*\"Afghanistan\"'),\n",
       " (2,\n",
       "  '0.034*\"say\" + 0.006*\"Mr\" + 0.005*\"force\" + 0.004*\"attack\" + 0.004*\"palestinian\" + 0.004*\"Mr_Arafat\" + 0.004*\"people\" + 0.004*\"israeli\" + 0.004*\"Afghanistan\" + 0.003*\"group\"'),\n",
       " (3,\n",
       "  '0.023*\"say\" + 0.006*\"day\" + 0.005*\"Australia\" + 0.005*\"Mr\" + 0.004*\"go\" + 0.004*\"today\" + 0.003*\"know\" + 0.003*\"people\" + 0.003*\"Test\" + 0.003*\"place\"'),\n",
       " (4,\n",
       "  '0.019*\"say\" + 0.006*\"Australia\" + 0.005*\"test\" + 0.005*\"day\" + 0.005*\"fire\" + 0.005*\"South_Africa\" + 0.005*\"wicket\" + 0.004*\"good\" + 0.003*\"run\" + 0.003*\"match\"'),\n",
       " (5,\n",
       "  '0.020*\"say\" + 0.011*\"Mr\" + 0.004*\"israeli\" + 0.004*\"Australia\" + 0.004*\"force\" + 0.004*\"people\" + 0.004*\"year\" + 0.003*\"palestinian\" + 0.003*\"pay\" + 0.003*\"man\"'),\n",
       " (6,\n",
       "  '0.021*\"say\" + 0.004*\"official\" + 0.004*\"police\" + 0.004*\"israeli\" + 0.004*\"attack\" + 0.004*\"tell\" + 0.003*\"people\" + 0.003*\"day\" + 0.003*\"company\" + 0.003*\"Australia\"'),\n",
       " (7,\n",
       "  '0.018*\"say\" + 0.006*\"year\" + 0.006*\"metre\" + 0.005*\"race\" + 0.004*\"win\" + 0.004*\"yacht\" + 0.004*\"report\" + 0.004*\"people\" + 0.004*\"australian\" + 0.003*\"Mr\"'),\n",
       " (8,\n",
       "  '0.022*\"say\" + 0.007*\"company\" + 0.005*\"Mr\" + 0.004*\"israeli\" + 0.004*\"child\" + 0.004*\"people\" + 0.003*\"tell\" + 0.003*\"man\" + 0.003*\"day\" + 0.003*\"month\"'),\n",
       " (9,\n",
       "  '0.020*\"say\" + 0.007*\"man\" + 0.006*\"Australia\" + 0.005*\"people\" + 0.005*\"Mr\" + 0.004*\"know\" + 0.004*\"official\" + 0.004*\"Government\" + 0.004*\"Australian\" + 0.003*\"today\"')]"
      ]
     },
     "execution_count": 64,
     "metadata": {},
     "output_type": "execute_result"
    }
   ],
   "source": [
    "ldamodel.show_topics()"
   ]
  },
  {
   "cell_type": "markdown",
   "metadata": {},
   "source": [
    "Es una lista de tuplas con el primer valor indentificando el tema y a continuacion la distribucion de probabilidad de los tokens mayoritarios"
   ]
  },
  {
   "cell_type": "code",
   "execution_count": 65,
   "metadata": {},
   "outputs": [],
   "source": [
    "pyLDAvis.enable_notebook()"
   ]
  },
  {
   "cell_type": "code",
   "execution_count": 66,
   "metadata": {},
   "outputs": [
    {
     "data": {
      "text/html": [
       "\n",
       "<link rel=\"stylesheet\" type=\"text/css\" href=\"https://cdn.jsdelivr.net/gh/bmabey/pyLDAvis@3.3.1/pyLDAvis/js/ldavis.v1.0.0.css\">\n",
       "\n",
       "\n",
       "<div id=\"ldavis_el1597051404834599298083652207017\"></div>\n",
       "<script type=\"text/javascript\">\n",
       "\n",
       "var ldavis_el1597051404834599298083652207017_data = {\"mdsDat\": {\"x\": [-0.010790627684442541, -0.015541047569968132, -0.03404158774594271, -0.023994909590734338, -0.015988198990921482, 0.08645969465158881, 0.026857578848735898, 0.039693360992711244, -0.028153100094728847, -0.024501162816297738], \"y\": [-0.03421898563295123, 0.00029616269085364197, 0.017552385344878883, -0.002734181526432777, 0.07598519074205083, 0.0011475421308262935, -0.020469408892935997, 0.011705922306717988, -0.04408177901000124, -0.005182848153006256], \"topics\": [1, 2, 3, 4, 5, 6, 7, 8, 9, 10], \"cluster\": [1, 1, 1, 1, 1, 1, 1, 1, 1, 1], \"Freq\": [26.613268192167194, 18.95471784911901, 9.773784471596578, 9.750906436528952, 7.44720812010391, 6.638744489824276, 6.235846940168494, 5.8445628113900465, 4.629118739895281, 4.1118419492062595]}, \"tinfo\": {\"Term\": [\"say\", \"Australia\", \"man\", \"company\", \"day\", \"Mr\", \"metre\", \"test\", \"South_Africa\", \"know\", \"year\", \"wicket\", \"people\", \"Test\", \"race\", \"official\", \"claim\", \"Australian\", \"win\", \"boat\", \"today\", \"fire\", \"India\", \"union\", \"yacht\", \"match\", \"australian\", \"Hamas\", \"Afghanistan\", \"good\", \"England\", \"Musharraf\", \"willingness\", \"Sheikh\", \"fielder\", \"Office\", \"Yassin\", \"Aziz\", \"Pervez\", \"disturbance\", \"Abdel\", \"Rantissi\", \"Ahmed\", \"clap\", \"initiate\", \"outlaw\", \"summit\", \"tight\", \"suitcase\", \"driver\", \"unwrapped\", \"idea\", \"venture\", \"queue\", \"Picton\", \"Senator_Hill\", \"motorist\", \"Track\", \"haitian\", \"rebuild\", \"palestinian_police\", \"Road\", \"militant\", \"Bush\", \"Mr_Arafat\", \"intelligence\", \"Pakistan\", \"Kashmir\", \"security\", \"Hamas\", \"Governor_General\", \"brain\", \"interrogate\", \"Gaza_Strip\", \"peace\", \"building\", \"Yasser_Arafat\", \"say\", \"group\", \"palestinian\", \"attack\", \"war\", \"Al_Qaeda\", \"troop\", \"arrest\", \"force\", \"Afghanistan\", \"try\", \"indian\", \"Israel\", \"statement\", \"think\", \"military\", \"believe\", \"kill\", \"official\", \"israeli\", \"fire\", \"time\", \"Mr\", \"United_States\", \"Government\", \"people\", \"call\", \"Australia\", \"day\", \"year\", \"tell\", \"DFAT\", \"Wolthuizen\", \"nurse\", \"Killmier\", \"Inspector\", \"Mitsubishi\", \"Cameron\", \"Mount\", \"malaysian\", \"coroner\", \"underfoot\", \"arbitrate\", \"smuggle\", \"alternative\", \"Manufacturing\", \"amalgamation\", \"AMWU\", \"Consumer\", \"proper\", \"Consumers\", \"ACA\", \"Competition\", \"amend\", \"ACCC\", \"Katherine\", \"scrub\", \"donor\", \"liver\", \"Bronwyn\", \"Doug\", \"Templeton\", \"encourage\", \"Abbott\", \"pilot\", \"industrial_action\", \"necessary\", \"elder\", \"Qantas\", \"card\", \"tape\", \"Taliban\", \"boy\", \"double\", \"Australian\", \"say\", \"worker\", \"surrender\", \"report\", \"come\", \"investigate\", \"people\", \"family\", \"Government\", \"Mr\", \"United_States\", \"confirm\", \"arrest\", \"area\", \"kill\", \"month\", \"tell\", \"Tora_Bora\", \"rate\", \"show\", \"dispute\", \"official\", \"want\", \"Australia\", \"yesterday\", \"year\", \"rule\", \"day\", \"Afghanistan\", \"today\", \"fire\", \"company\", \"australian\", \"israeli\", \"force\", \"attack\", \"product\", \"Hooke\", \"lung_cancer\", \"sidestep\", \"midwife\", \"Gibbons\", \"genetically\", \"Rodriguez\", \"modify\", \"cigarette\", \"creditor\", \"initially\", \"southerly\", \"BankSA\", \"Smith\", \"Cancer\", \"fare\", \"oxide\", \"nitrous\", \"label\", \"redundant\", \"consumer\", \"GM\", \"McMenamin\", \"Grocery\", \"Food\", \"ingredient\", \"devour\", \"Mitch\", \"crop\", \"Albarran\", \"Virgin\", \"Blue\", \"accountancy\", \"Blue_Mountains\", \"internet\", \"company\", \"Austar\", \"Interlaken\", \"director\", \"inappropriate\", \"firm\", \"holiday\", \"child\", \"HIH\", \"Adventure_World\", \"weather\", \"receive\", \"say\", \"manager\", \"follow\", \"wind\", \"guide\", \"israeli\", \"man\", \"death\", \"staff\", \"tell\", \"month\", \"strong\", \"Mr\", \"Wales\", \"market\", \"people\", \"area\", \"hour\", \"meeting\", \"day\", \"time\", \"claim\", \"New_South\", \"give\", \"report\", \"palestinian\", \"new\", \"know\", \"Australia\", \"year\", \"today\", \"raft\", \"Franklin\", \"virus\", \"upside\", \"alarm\", \"user\", \"computer\", \"Romaszko\", \"Lubbers\", \"moon\", \"F\", \"audio\", \"listener\", \"birth\", \"Guglielmo\", \"Triple\", \"NewsRadio\", \"Local\", \"Marconi\", \"11:55am\", \"coverage\", \"FM\", \"landing\", \"simulcast\", \"Refugees\", \"Mentha\", \"High\", \"ABC\", \"phone\", \"Collingwood\", \"worm\", \"generous\", \"refugee\", \"Radio\", \"Truss\", \"Gerber\", \"flood\", \"broadcast\", \"farmer\", \"gorge\", \"email\", \"pay\", \"Dixon\", \"Mr\", \"River\", \"United_Nations\", \"union\", \"party\", \"radio\", \"say\", \"storm\", \"government\", \"dispute\", \"israeli\", \"group\", \"palestinian\", \"man\", \"claim\", \"work\", \"Qantas\", \"force\", \"year\", \" \", \"area\", \"job\", \"tell\", \"Australia\", \"people\", \"call\", \"give\", \"today\", \"member\", \"day\", \"kill\", \"attack\", \"report\", \"Afghanistan\", \"australian\", \"new\", \"company\", \"apra\", \"Zeus\", \"Lombe\", \"conceal\", \"motorway\", \"Tyco\", \"Sydney_Hobart\", \"Eddystone\", \"Liberator\", \"Catt\", \"clinch\", \"onboard\", \"rudder\", \"tow\", \"Bumblebee\", \"coveted\", \"wine\", \"Helens\", \"mile\", \"Belgium\", \"yacht\", \"accounting\", \"battlefield\", \"intangible\", \"acquisition\", \"adjourn\", \"abruptly\", \"Allianz\", \"inadequate\", \"goodwill\", \"race\", \"skipper\", \"freestyle\", \"metre\", \"solvency\", \"HIH\", \"finish\", \"event\", \"boat\", \"sail\", \"win\", \"World\", \"Welsh\", \"split\", \"nail\", \"Assa_Abloy\", \"Peru\", \"year\", \"contest\", \"heritage\", \"world\", \"lead\", \"say\", \"report\", \"australian\", \"economy\", \"early\", \"Sydney\", \"bill\", \"people\", \"line\", \"today\", \"morning\", \"force\", \"close\", \"woman\", \"expect\", \"Mr\", \"receive\", \"think\", \"Australia\", \"area\", \"new\", \"United_States\", \"day\", \"Chechen\", \"Boje\", \"Raduyev\", \"spill\", \"hostage\", \"Dagestan\", \"Salman\", \"Nicky\", \"spinner\", \"Kirsten\", \"MacGill\", \"oil\", \"prosecution\", \"Henderson\", \"Gibbs\", \"innings\", \"Phillip\", \"flare\", \"containment\", \"Neil_McKenzie\", \"Lance\", \"outperform\", \"destabilise\", \"Caucuses\", \"insurgency\", \"warlord\", \"corner\", \"forefront\", \"neighbouring\", \"achievement\", \"Hayden\", \"selector\", \"wicket\", \"perturb\", \"Jacques_Kallis\", \"Shane_Warne\", \"South_Africa\", \"pace\", \"Glenn_McGrath\", \"Andy_Bichel\", \"test\", \"ball\", \"catch\", \"bowler\", \"Test\", \"squad\", \"south_african\", \"Waugh\", \"bowling\", \"run\", \"match\", \"say\", \"fire\", \"good\", \"Australia\", \"day\", \"play\", \"north\", \"Sydney\", \"Adelaide\", \"authority\", \"area\", \"report\", \"state\", \"take\", \"New_South\", \"Wales\", \"India\", \"Mr\", \"yesterday\", \"year\", \"people\", \"casino\", \"Greens\", \"Senator\", \"gaming\", \"Senate\", \"Bourne\", \"Kerry\", \"Nettle\", \"gambling\", \"Ferguson\", \"frontbencher\", \"punt\", \"Vicki\", \"taxis\", \"expense\", \"poker\", \"Democrats\", \"Bradstreet\", \"archaic\", \"scrapping\", \"Campbell\", \"enlarge\", \"Brad\", \"Fitzgibbon\", \"bouncy\", \"Dun\", \"beckon\", \"shoulder\", \"voracity\", \"greeting\", \"Kentucky\", \"Bichel\", \"projection\", \"survey\", \"profit\", \"memory\", \"finalise\", \"assume\", \"sign\", \"say\", \"year\", \"Kabul\", \"afghan\", \"take\", \"union\", \"good\", \"new\", \"force\", \"process\", \"Governor_General\", \"Australia\", \"day\", \"australian\", \"Melbourne\", \"claim\", \"Afghanistan\", \"Mr\", \" \", \"time\", \"work\", \"group\", \"great\", \"power\", \"end\", \"$\", \"include\", \"early\", \"attack\", \"leader\", \"Australian\", \"call\", \"come\", \"cent\", \"theirs\", \"shoe\", \"pitch\", \"functioning\", \"improvise\", \"fuselage\", \"possession\", \"investigator\", \"Dein\", \"Magistrate\", \"Judith\", \"offense\", \"TATP\", \"Reid\", \"procedural\", \"Cronin\", \"bail\", \"subpoena\", \"interfere\", \"reference\", \"outer\", \"Investments\", \"powerful\", \"sneaker\", \"Steve_Waugh\", \"professional\", \"Stringer\", \"Dickie\", \"bat\", \"warm\", \"tailender\", \"Test\", \"explosive\", \"ASIC\", \"slip\", \"debt\", \"South_Africa\", \"challenge\", \"Giuliani\", \"day\", \"match\", \"device\", \"Waugh\", \"Warne\", \"know\", \"bowling\", \"say\", \"go\", \"Phillips\", \"great\", \"place\", \"win\", \"Australia\", \"today\", \"need\", \"run\", \"wind\", \"believe\", \"play\", \"firefighter\", \"work\", \"test\", \"Mr\", \"state\", \"call\", \"people\", \"Sydney\", \"fire\", \"head\", \"city\", \"take\", \"come\", \"think\", \"give\", \"Afghanistan\", \"force\", \"australian\", \"cow\", \"paddle\", \"mad\", \"Guard\", \"resemble\", \"gruelle\", \"swim\", \"Marathon\", \"Swan\", \"K\", \"dusty\", \"canoeist\", \"huegill\", \"Yarrawonga\", \"canoe\", \"Klim\", \"better\", \"japanese\", \"incinerate\", \"Japan\", \"korean\", \"ratify\", \"Undan\", \"organ\", \"brandish\", \"revenue\", \"Phillips\", \"metal\", \"meat\", \"rough\", \"vessel\", \"sink\", \"Dixon\", \"unidentified\", \"East_Timor\", \"gas\", \"Ismail\", \"recover\", \"airspace\", \"Coast\", \"wage_freeze\", \"boat\", \"police\", \"source\", \"indian\", \"exchange\", \"say\", \"Sea\", \"embassy\", \"injure\", \"official\", \"israeli\", \"New_Delhi\", \"tell\", \"attack\", \"company\", \"Hamas\", \"continue\", \"palestinian\", \"confirm\", \"day\", \"Melbourne\", \"people\", \"find\", \"plan\", \"union\", \"Australia\", \"arrest\", \"Israel\", \"group\", \"fire\", \"Mr\", \"Mr_Arafat\", \"force\", \"new\", \"claim\", \"report\", \"emission\", \"petrol\", \"pollutant\", \"Kemp\", \"citizen\", \"Friedli\", \"random\", \"Palmerston\", \"Rosebury\", \"Larrakia\", \"Territory\", \"diesel\", \"Corowa\", \"opporunity\", \"distributor\", \"BedeHarris\", \"referenda\", \"refinery\", \"lecturer\", \"Atlanta\", \"toxic\", \"smell\", \"Centenary\", \"reply\", \"federation\", \"codification\", \"Memphis\", \"sampling\", \"greatly\", \"monarchy\", \"Boston\", \"preventable\", \"aware\", \"native\", \"Miami\", \"attendant\", \"organise\", \"republic\", \"Darwin\", \"hectare\", \"unforeseeable\", \"man\", \"know\", \"Downer\", \"flight\", \"conference\", \"Paris\", \"say\", \"Australia\", \"claim\", \"director\", \"carry\", \"people\", \"Australian\", \"Government\", \"today\", \"cent\", \"official\", \"plan\", \"Mr\", \"lead\", \"think\", \"Afghanistan\", \"australian\", \"company\", \"new\", \"Israel\", \"start\", \"year\", \"force\", \"palestinian\", \"end\", \"attack\", \"report\", \"day\"], \"Freq\": [826.0, 108.0, 64.0, 58.0, 97.0, 163.0, 29.0, 27.0, 20.0, 44.0, 93.0, 17.0, 113.0, 16.0, 22.0, 73.0, 46.0, 56.0, 37.0, 19.0, 62.0, 70.0, 30.0, 39.0, 16.0, 26.0, 60.0, 39.0, 70.0, 46.0, 3.3643254252413937, 8.72619861093142, 3.7882748101057673, 4.381844333342938, 2.252728360565326, 2.1633258334793077, 2.8552233504508524, 2.742737935062851, 2.8003564394563303, 3.5839654192342274, 1.9874507295579489, 1.9736442458029797, 3.881996484009041, 1.3165794523210053, 1.3164039833716763, 1.3151017704251422, 4.504774252037409, 3.1615858981100646, 1.2966767221329307, 1.2882888673938424, 1.285237163178324, 3.3154380894233464, 1.2779008514581571, 1.2760543266688065, 1.818764885366964, 6.765147005750065, 1.761256583328758, 1.8434437440467801, 1.8247619034738853, 1.8577991602883928, 6.09508434118284, 4.8489891139271135, 25.996472232225695, 4.245472499691445, 29.828832374052336, 4.791579000570231, 26.208936828419635, 3.9746385444821435, 26.253494620971818, 22.26405291986123, 9.228543918253791, 3.394652558935291, 2.5501393349385606, 11.531125329197, 15.62315271629632, 17.3961769242914, 13.403519255077242, 271.9972669817534, 27.541236635168737, 30.75408488002391, 33.69517273058248, 15.286248637069638, 21.115305416751983, 14.224051337612028, 24.573236306704402, 36.24829284285381, 28.593523577746275, 20.200416090755528, 9.61596179992561, 17.697291344691944, 12.778954222016603, 24.23564467567627, 17.773271363525016, 22.606634846222484, 26.816213260537303, 27.328742466854305, 28.801982999871004, 25.807983232721107, 24.76503923196169, 45.113356586845754, 24.01725641409616, 22.74009567426299, 29.380356380722244, 19.838715788495826, 24.51926164203287, 22.799679800540456, 21.855026135268226, 19.712635052775745, 2.890597219755286, 2.1834246882477255, 2.1731681058582324, 2.1652474415140652, 2.1600192699126186, 2.605584118724944, 4.183682532607982, 2.7304472972668137, 1.9638686313446427, 3.2736012271394066, 1.9391855007228387, 1.9070610329804536, 1.8393185869278965, 3.0336220130067035, 3.6387300972243004, 1.7456098678953038, 2.862688626642324, 1.143936139375299, 1.1437839328247263, 1.1437400808833993, 1.1437393404190992, 1.1437256006926422, 1.143598158559217, 1.143429168151176, 1.143297776874817, 1.1374991186670629, 1.136567285482315, 1.1365064851358972, 1.1360920719492844, 4.024476784375925, 2.3017640472106273, 2.8331345573069577, 1.727272845420448, 4.755578324752562, 7.04193330987848, 3.2608435208918585, 4.5806411656438275, 14.32913998908763, 2.246411214374666, 5.178626641485123, 19.138045565446372, 8.435014541861955, 4.482756392506394, 22.875397280060497, 215.228353076823, 12.502059796111489, 6.558793188789432, 23.36459077907653, 21.628627844630316, 5.791528688377762, 30.75715203528234, 11.24821349654399, 19.791876200609373, 35.891493317003395, 18.328792460981866, 10.073860153280862, 16.381650424533213, 18.463678070646782, 18.779402833534952, 16.432855011812492, 18.75659258394949, 10.288056400484706, 8.50637621286569, 7.558334429136728, 6.53611523549225, 17.112297155281976, 12.091879432533377, 21.16631352880251, 12.142765455615999, 19.023741572371293, 9.05525771637323, 18.829870247466594, 15.430384823789314, 14.158456715109056, 14.911763628011798, 13.497234600755013, 13.09773798519373, 13.904509711514846, 13.821147253325869, 12.346784761479514, 4.483311012421877, 1.6179564625691012, 3.554818926401733, 1.5518120327828158, 2.595926121535317, 2.0322584432325526, 2.037761456972244, 1.5580510103385068, 1.4271607704965024, 2.4051630107522435, 2.751744441748616, 1.9416934884758612, 1.4187901790430304, 1.3863306451177608, 1.365846686576581, 1.2906489855047358, 1.3483843880975623, 1.3334148128085648, 1.2981374215748844, 0.8418190681137977, 1.1966886191745305, 2.555458802390979, 0.8360378407065177, 2.112811948311468, 0.8288775932506514, 0.8177269014518908, 0.8154115087178804, 0.8382460715429483, 0.8092333665387251, 0.8070525413182236, 1.1161788952034148, 2.9705824424496496, 2.1555601274168037, 1.5637612207162743, 3.427031375610163, 2.150372914613606, 18.95048213816006, 2.071572520483063, 3.1397119163762572, 7.339259242172127, 2.4880437023132007, 2.995693792574525, 2.992604000284528, 10.855243986566984, 4.896412915587808, 3.9450969574782215, 4.630377523124835, 7.392858857325816, 64.905507246328, 3.1314159055308397, 8.228303531899334, 5.981925435649367, 4.4583758048935, 10.99132449370808, 9.42885753077936, 6.010222964379085, 6.211544788687432, 9.70110474972342, 8.407194495923138, 5.020114229651395, 13.636710030908327, 6.205151389394928, 4.085571526655629, 10.427954628754884, 8.301867332209742, 6.968389138611397, 6.587434447165676, 9.189159020071225, 7.882690715489478, 6.650023104344064, 5.54536059197549, 6.46830096201587, 6.952551238017703, 6.835103155823974, 6.5024814498355274, 5.930472791720031, 7.149116194055335, 6.753923479086992, 6.255904893153196, 2.7045350399709362, 2.0872654672428665, 5.301315245845411, 1.4996474182260364, 1.4711427124177912, 3.159157595314199, 3.072014671416964, 1.3251640854767628, 1.4071264364125897, 0.8357214535481149, 0.8341701851033059, 0.8339038809165019, 0.8298223841030478, 0.8295302621231812, 0.8288303883099277, 0.8285451228587105, 0.8284985661826959, 0.8278214628164388, 0.8274379204545796, 0.8264896032884116, 0.8233371237827048, 0.8215000819956675, 0.8203857691173817, 0.8182652394976658, 1.3146374517328403, 1.255930922302862, 1.288613370271159, 2.1926098506007925, 0.7841667913905078, 0.7721273196216139, 1.457247491542952, 1.8691489637871306, 3.334368820530836, 3.1003170673058, 1.73930137860017, 2.238423312769273, 2.286369747887241, 1.5690800132702838, 2.2026643996499264, 1.203093835342305, 2.23647724371186, 9.246282490673924, 1.5457244758292619, 30.893501428443816, 4.077016537548458, 4.067877208101271, 9.011653096072298, 5.52714525938326, 4.768036117508871, 59.24026125850272, 5.303858425434839, 6.481528337193543, 3.896746379267563, 11.116225457408358, 9.151667812815846, 9.715407873838268, 9.221223825375782, 7.5997546850167055, 8.014595322541942, 5.663470655822401, 10.575251103066105, 10.487838996933002, 7.21452341624879, 8.687544140328512, 5.134132423137749, 8.851667427585493, 10.643372154222767, 10.489849568148822, 7.546485721399736, 6.782336607725503, 7.268557602322437, 6.321367954198931, 8.210953436489465, 7.224104949469615, 7.156333327328567, 6.9020627715468725, 6.8738213225793645, 6.419027946559379, 6.458249321998189, 6.233654499399261, 3.4864810602356298, 1.6748237516053752, 1.5929097573483535, 1.581486251415449, 1.3611333141114883, 1.7402327587224258, 4.16359192217124, 0.8776307005085231, 0.8775592623821388, 0.8775337903262154, 0.8774489696729879, 0.8774384963911108, 0.8774205883720986, 0.8773463703005246, 0.8772798455656382, 0.8772663983889071, 0.8772353664426044, 0.8771486709426213, 2.1413504036333375, 1.3006964005907875, 8.840310523634322, 0.8449969239276127, 1.273711795884619, 0.8436020379413065, 0.8400513367853965, 0.8340946253928173, 0.8327641306950891, 0.8325712154289074, 0.8281004817150106, 0.8201225562199157, 10.831617070701721, 3.089774347892094, 2.019979418952212, 12.26735351112087, 1.6010715471252919, 6.096495829097857, 5.5579001970771795, 5.625114875569719, 6.400544252976167, 1.4747287274473684, 9.303206825844198, 4.089338163859039, 1.7490424696782094, 1.2032781994620565, 1.7093727811221553, 2.0871060442971165, 1.5401541556360043, 13.721731876082258, 1.9821849650512744, 1.6703788131968427, 6.760401046284354, 6.770786921512762, 39.710630037209356, 8.783758939090495, 7.951258709238756, 4.282911307302428, 6.6002524122036, 6.0572947229309735, 2.780333864744138, 8.263171145509274, 3.7062756811056943, 6.169140063795158, 5.056609102105186, 6.828474275291267, 4.532709682654362, 3.4331536949126535, 4.681939726428512, 7.473117963407679, 4.137946863147137, 5.044538709391647, 5.887708756780465, 4.619325533975347, 4.493608395914753, 4.246685130387764, 4.2293796483329595, 2.7382735111280483, 2.719619103042187, 2.0685329799284653, 3.6552519749487984, 1.4021871770870633, 1.4020922003056175, 1.4016938510863497, 1.39321763439465, 2.744679372299931, 2.2014214034767554, 4.3871628780205505, 3.128121155825586, 1.2677775113524603, 2.436489629133591, 1.229885348711203, 6.364946465382237, 1.2045175575446032, 1.1831896222188938, 2.3787854712510597, 2.6128539049148602, 1.851797693615437, 0.7350446181755839, 0.7345907697812358, 0.7345199982474886, 0.734449111450657, 0.734421390678888, 0.7343498123035508, 0.73417253767993, 0.7338421360488445, 0.7338203513259158, 3.229052889257559, 1.8243386843107658, 8.921376554754737, 1.1083639400083263, 2.876266475626713, 3.3472863032182967, 9.220671445707275, 2.008557678233303, 3.2155959241680008, 2.568963336104646, 9.848498400518196, 4.172878200142375, 6.396853592372315, 3.5776165245327647, 5.841151820970393, 2.9293829322287763, 3.640044163609044, 3.607585618023777, 3.102632568946662, 6.694632082188082, 6.439224302153228, 37.03047703159615, 9.667986267386068, 7.6845589383657495, 11.030694685476774, 9.766890292639406, 5.2106848804771495, 5.216310180042296, 5.700653037019506, 4.161803723004861, 4.578788677738848, 5.499743026388714, 5.32035539990681, 4.542076002239016, 4.702125710545285, 4.281463402370466, 4.268122391943693, 4.205575570838269, 5.19655362634456, 4.26877017047734, 4.615653039457591, 4.627359158296953, 2.323383748322251, 1.2455208972989718, 1.2304489223766322, 1.2108508077256208, 2.5517837698768737, 1.2105043504326713, 1.2099132076765764, 1.1984385421340922, 1.1520198692210186, 1.5342757281076538, 1.0082977994398723, 0.937536062713037, 0.652630697232735, 0.6462561537122261, 0.6315679885097321, 0.6283115064918157, 0.627732543874926, 0.9969587935811584, 0.567283216740634, 0.5534544821604626, 0.8614475992410568, 0.530136661264071, 0.5311555163751024, 0.5509645910371488, 0.5278266031293788, 0.9011264327253679, 0.5184201252239464, 0.5172622541241191, 0.8495238925665388, 0.5027485085150442, 0.8080553364943841, 2.020573794746036, 1.0419409679433405, 2.0185312124682913, 1.5394055696692899, 1.1902423369940456, 1.0583448546212624, 1.0154959910404164, 3.7048176762871936, 44.49068398340136, 9.116833112452484, 2.6637821528253958, 4.270132041192738, 5.894118554593479, 4.918144462710458, 5.428563535691402, 6.631859950412165, 8.135116924010443, 3.2695800524120786, 2.7352575915757065, 8.242943095008622, 6.881460776401402, 5.258800761361042, 3.4028983344896666, 4.389087719655301, 5.286631242632051, 7.478413188227471, 4.243324908150778, 4.840070311744309, 4.315983931628128, 4.496502039546486, 3.1716125402205835, 3.730618783964752, 3.90125289838688, 3.4198725764861067, 3.970818058238191, 4.157467594098521, 4.547330788995093, 3.797402757896912, 3.8695148119230174, 3.718412227390912, 3.690555761822931, 3.4459668736478233, 0.6822738061262545, 1.740824882587778, 1.8741447355826648, 0.6122167718044716, 0.6106574153430684, 0.6083507002340285, 0.6079156796607197, 0.6062781879435555, 0.6064028999296988, 0.6061918840019648, 0.605236502920159, 0.6047536879241704, 0.602805329510871, 3.2845926501461227, 0.6148043171996399, 0.6010552519933601, 1.1148004441352057, 0.6084857118675221, 0.5944632747404367, 0.606435574673017, 0.5909076639686961, 0.6044840198174365, 0.5901758308978534, 0.5895813941079204, 1.9292146667917873, 1.45155974338855, 0.9152285915625632, 1.1576472815356265, 1.5996165144661245, 0.7999206908218717, 2.6546497793543113, 5.5205249295177765, 2.589108506180907, 1.4344828266073553, 1.7595915503805746, 2.321587190967689, 4.405098084169826, 1.8632463895193665, 1.706940564920585, 11.11606376354051, 4.554127385495731, 1.1778025244450914, 2.291769762625681, 1.4098302401455127, 6.090213747092254, 1.9253627001571243, 40.80193344151323, 6.358179114096655, 1.146081437144541, 3.787045369817688, 5.100373190957291, 4.633445426375185, 8.656845682947086, 6.226548606215937, 4.443517493850622, 3.722899774966021, 3.401141430075222, 5.08189836341848, 3.7533165108671525, 3.125782235439945, 4.814838147688611, 3.5592135173516364, 7.849514877859858, 4.028160215763123, 4.565479118991159, 5.684667009948886, 4.170644015092128, 4.458058769370832, 3.397513518823313, 3.5224595048364913, 4.044778874342996, 4.282801999544888, 4.176012820432137, 4.0037844513502625, 4.259054158460144, 4.201034773557578, 3.922641089716743, 2.051815205830596, 1.1353076539567242, 1.015049641138408, 0.9918832513552704, 0.9761952780241344, 0.5947148636580594, 0.5946869747135486, 0.5946764058484098, 0.5946570764790874, 0.5946286651191894, 0.5945963557367878, 0.5945941455178425, 0.594591493255108, 0.5945531961886543, 0.5944579156592088, 0.5944581165882039, 0.5944166046578296, 2.101951812387675, 0.5631665601038465, 2.288129565066255, 0.5508721971272512, 0.5333252689198517, 0.530146049803013, 0.5420304372581392, 0.5362995806475538, 0.5230209468958807, 1.4568863126070255, 0.5312278113264818, 0.5369094403332836, 0.5307160853619269, 1.2591905062170672, 1.0329471904421434, 1.1773094492208218, 1.4876152679052852, 2.6545137821773706, 1.9515659434526458, 0.7597209692446097, 1.2811849977295633, 1.2332817571380956, 1.2421339653149497, 2.2198776825464206, 3.6077800881189006, 5.42072286749225, 2.9040595568508696, 2.9384428479676274, 1.3622686881019122, 28.58631279248643, 0.9893136106235686, 1.3425134296816825, 3.587425498692281, 5.579177723381488, 5.412254272952716, 1.333756622591671, 4.959366426385583, 4.961190218687716, 4.23958507794323, 3.4962288108850332, 3.4635175704933574, 4.150893412102881, 2.7563915338742797, 4.456951029231121, 2.6425940312191183, 4.509058186628306, 3.038163425973842, 2.8846247399919216, 2.981710415528847, 4.188465205256048, 3.3297165415517016, 2.933130606825298, 3.2550577567245873, 3.2494442828329015, 3.7547321609003825, 3.0072505804593264, 3.123144817363475, 2.916073181835602, 2.787595646059998, 2.7818249653225964, 1.2315672815167138, 2.0611675311421767, 0.8303820474802746, 0.8265884967169659, 0.5259815459934939, 2.0690530451455644, 0.7663490837238033, 0.9830255978108674, 0.721257530672888, 0.7178583412784023, 0.9494575495297869, 0.4590711863336171, 0.8381412716101202, 0.44250401097254827, 0.45522612729232037, 0.44136165517182024, 0.44059256483396175, 0.449450560837007, 0.4330298788736255, 0.648641638682031, 0.4450965942979451, 0.42765677661395657, 0.42531627330183164, 1.2763388621463647, 0.42351733866166386, 0.4230055755421114, 0.6318540093189842, 0.4332559727286332, 0.4330660381845069, 0.41674523159313537, 0.7905798198848439, 0.6077801895751545, 1.3057917452603442, 1.0064056442414782, 0.7691757923404845, 0.8293368899061311, 0.6026951124680048, 1.2266166328052004, 0.9182065527669033, 0.8028190148651151, 0.5977631323839255, 8.222801772921736, 5.269256145563678, 0.7937590550111646, 3.091465306191269, 1.4147071591623575, 0.988002946586092, 24.802628680756964, 7.140632484793284, 4.1651999442466385, 2.726625355405127, 3.1599148459944884, 6.6097272757141665, 4.341315277857759, 4.453239089312668, 4.197511590331862, 3.4958744658349996, 4.484789997753761, 2.9523896716585676, 5.883600338769613, 3.011377108669643, 3.5381762191808344, 3.7409222248935676, 3.5093421493081576, 3.3726112658249896, 3.4365477809555958, 2.7939403566722607, 2.563715273624914, 3.4248737135270266, 3.3197856895065017, 2.9876848713871382, 2.436853419038577, 2.6612381844065838, 2.455044300947892, 2.4380887610237534], \"Total\": [826.0, 108.0, 64.0, 58.0, 97.0, 163.0, 29.0, 27.0, 20.0, 44.0, 93.0, 17.0, 113.0, 16.0, 22.0, 73.0, 46.0, 56.0, 37.0, 19.0, 62.0, 70.0, 30.0, 39.0, 16.0, 26.0, 60.0, 39.0, 70.0, 46.0, 4.2707098361901465, 11.581521802006135, 5.086721246244384, 5.959772488588487, 3.093939077786455, 2.9955527553249683, 3.9734635880889786, 3.8762633751508893, 4.044538130143064, 5.236026207796554, 2.9338730825734105, 2.916530785498688, 5.757444076309641, 1.9622229397694881, 1.9620477372198808, 1.9613866635612276, 6.725567468217614, 4.728038564813135, 1.9512702781217959, 1.9467070968970517, 1.944885610744946, 5.0217998936046, 1.940800301858532, 1.9397835878798542, 2.7735978936580983, 10.373865765001321, 2.73521744392138, 2.86501134653794, 2.837825409732019, 2.8916364630860256, 9.558201650262157, 7.629580098476502, 42.397250979293204, 6.6826318350380305, 50.8865058494394, 7.651441356332839, 45.30805201040284, 6.311292388959896, 46.11123006468523, 39.4624157342479, 15.857548954881892, 5.423484301298658, 3.989839200025627, 20.590309638506657, 28.79065260218769, 33.554589888819045, 25.793141548031144, 826.7940545303705, 60.29451363333257, 69.31638226558195, 79.80721344707887, 31.486730537911928, 47.14628047882062, 29.122747141266693, 56.84895680386492, 93.92817129910539, 70.51206501298202, 45.780838267159226, 18.11467476833939, 39.21943657191927, 26.020703177803252, 60.30447753146371, 40.29791667957473, 55.60505050314865, 71.15893830376484, 73.04611184574512, 82.74217117576327, 70.78842412377419, 67.53355480960175, 163.17099351871084, 66.01941887938904, 69.08276877713145, 113.31488959618714, 55.508120457634696, 108.62535342937576, 97.91849677573688, 93.61263288714473, 72.99514786308492, 3.7613334611443663, 2.8448009102111866, 2.8424581483147398, 2.840205345506503, 2.8386508847493706, 3.5875830710161, 5.776579674073396, 3.7774193474756443, 2.756316049873448, 4.636271266841503, 2.7534237062576836, 2.744037239899799, 2.70588232986193, 4.607861142631968, 5.636891843984579, 2.7140732628622657, 4.49501635995249, 1.8053084266529338, 1.8051564974510357, 1.805113047962342, 1.8051121744369374, 1.8050989360370382, 1.804971488837369, 1.8048030698484714, 1.8046714822048286, 1.8037232119897277, 1.8034323189066754, 1.8033389376613687, 1.8032838821254513, 6.388181373432233, 3.6575634172880545, 4.524442156374196, 2.749448842834959, 8.055955647767457, 12.20120218806863, 5.558713480023649, 8.185187981345305, 28.838936002886552, 3.795413815737883, 9.717125271459198, 43.08987623629501, 17.130236470676902, 8.416859425821478, 56.086623052160405, 826.7940545303705, 28.992341531334368, 13.341731038320816, 70.80676993905061, 66.13576049495695, 11.741168309658377, 113.31488959618714, 29.281338226429202, 69.08276877713145, 163.17099351871084, 66.01941887938904, 27.366951236688266, 56.84895680386492, 68.32171273902561, 71.15893830376484, 58.146863892517864, 72.99514786308492, 30.001420652527706, 22.297948811948263, 18.437245176036, 14.572581207652803, 73.04611184574512, 40.796084293594724, 108.62535342937576, 42.24173660370538, 93.61263288714473, 25.54724158990108, 97.91849677573688, 70.51206501298202, 62.79473630511571, 70.78842412377419, 58.990180076983435, 60.87176082624579, 82.74217117576327, 93.92817129910539, 79.80721344707887, 5.68398408408809, 2.4317259469420502, 5.3590576035885675, 2.4027121559223685, 4.109901227483331, 3.2779253089343037, 3.290201038890026, 2.5642291921849862, 2.3498073872007996, 3.9764044163357175, 4.667340819503001, 3.3095374156097312, 2.453630464499339, 2.4186136064607853, 2.4401852430936573, 2.3148278919302183, 2.424675507035342, 2.4430614887993825, 2.4408207614179007, 1.5939177986486557, 2.2741848802043734, 4.861958409968259, 1.591318798644368, 4.026740913312335, 1.5889491299458385, 1.5833805708332778, 1.58332309966544, 1.6291989557807431, 1.5798540752026677, 1.5795159350691126, 2.2385588661252913, 6.633085417144502, 4.696443988449149, 3.278256036185451, 8.121528573621886, 4.753513475437623, 58.990180076983435, 4.613781126927731, 7.67668951894669, 23.062756108769985, 5.9283821952001645, 7.570915053016952, 7.628210048583453, 47.795507278128056, 15.390163280242229, 11.430667444354015, 14.672635257971807, 29.861960553108712, 826.7940545303705, 8.411543123038054, 39.84133949284628, 24.406461302459853, 15.67693628132784, 82.74217117576327, 64.59416260116201, 28.77954136142181, 30.892185759334442, 72.99514786308492, 58.146863892517864, 21.294118267253204, 163.17099351871084, 32.94572940946472, 14.612970302344477, 113.31488959618714, 68.32171273902561, 48.14694500616486, 42.802344775824736, 97.91849677573688, 67.53355480960175, 46.799837011823904, 32.70102653253988, 51.831204998377956, 70.80676993905061, 69.31638226558195, 65.65110395885512, 44.02189863749005, 108.62535342937576, 93.61263288714473, 62.79473630511571, 3.81160962994848, 3.05487770261046, 8.086908164263795, 2.3032389664390203, 2.299690076645391, 5.165107235860754, 5.188501355329071, 2.2767081111079857, 2.4318052238491292, 1.5404396818270687, 1.5403914907898328, 1.5402902921428023, 1.5393921149999297, 1.5393693400072854, 1.539220063017924, 1.5391660340642965, 1.539100857405221, 1.5389894730049074, 1.5389779302773479, 1.5386885221004662, 1.538260377192276, 1.5375228496631776, 1.537300899890374, 1.5365282719781859, 2.475018515955751, 2.403777828299242, 2.489233142700854, 4.263120667159597, 1.5341570616825981, 1.532680366722808, 2.921893975322602, 3.886711096126337, 7.2558933686996, 6.752564310735254, 3.6401570953182416, 4.92669494303986, 5.186549026377201, 3.302240909960238, 5.0371299999670285, 2.42092764437347, 5.34749579714306, 32.26021419726091, 3.3818234047911857, 163.17099351871084, 12.922336065573933, 13.25641127469385, 39.652189959947314, 20.778243034587312, 17.100475113548917, 826.7940545303705, 22.52359802005322, 33.01166109373829, 14.572581207652803, 82.74217117576327, 60.29451363333257, 69.31638226558195, 64.59416260116201, 46.799837011823904, 51.937404835869835, 28.838936002886552, 93.92817129910539, 93.61263288714473, 46.82569219853689, 68.32171273902561, 24.560591098742133, 72.99514786308492, 108.62535342937576, 113.31488959618714, 55.508120457634696, 51.831204998377956, 62.79473630511571, 43.609542853540326, 97.91849677573688, 71.15893830376484, 79.80721344707887, 70.80676993905061, 70.51206501298202, 60.87176082624579, 65.65110395885512, 58.990180076983435, 4.791947467726569, 2.3604351770254985, 2.348253889208762, 2.348198144722468, 2.353025461869013, 3.037539032351629, 7.4044879372314645, 1.5632388421054242, 1.5631677867105145, 1.5631425198146605, 1.5630576755637662, 1.5630474619403323, 1.5630295499430502, 1.562955385911833, 1.5628894452885953, 1.5628758371053506, 1.5628447216213102, 1.562758231820263, 3.8570493948857125, 2.35228027150294, 16.192322135639166, 1.5584903874513303, 2.3515978184209883, 1.558752035953871, 1.55819039307655, 1.5572701958866346, 1.5568117301445024, 1.5565376169986178, 1.5560517916131358, 1.5556721236790174, 22.620102081969563, 6.44291996187571, 4.101708123584744, 29.799460000546567, 3.2581665235402317, 15.390163280242229, 15.30323816287521, 16.419523653307614, 19.436541827741543, 3.1026738527785813, 37.05041888110122, 12.723562196394921, 4.079509841499836, 2.428795273424238, 4.08609493258778, 5.55375551254487, 3.566562926776678, 93.61263288714473, 5.268173526082303, 4.084366085305565, 40.8261207782701, 41.7734256738383, 826.7940545303705, 70.80676993905061, 60.87176082624579, 23.62132556365373, 55.7298133250585, 48.53199818135753, 10.724732427079688, 113.31488959618714, 20.008329694579007, 62.79473630511571, 40.28224469096351, 93.92817129910539, 33.620059812639795, 17.194064295504262, 41.7874988696656, 163.17099351871084, 29.861960553108712, 60.30447753146371, 108.62535342937576, 68.32171273902561, 65.65110395885512, 66.01941887938904, 97.91849677573688, 3.440512631378571, 3.4607531227871426, 2.7711690257648987, 5.016345034699376, 2.1027011368313944, 2.10257071448945, 2.102805165416151, 2.112613366119925, 4.295436911148665, 3.5780836474834663, 7.149094440998688, 5.18138101045387, 2.179367819773167, 4.231522055370195, 2.138835899624823, 11.157993727049018, 2.214719597550077, 2.17925740910921, 4.422943991898691, 5.027690013524187, 3.5689077061768786, 1.4343440782569208, 1.4341741872874543, 1.4340775558947465, 1.4340905332447536, 1.4341178532603225, 1.4341062942258085, 1.433999299294354, 1.4339032327418477, 1.433870874355556, 6.342037220259279, 3.571106054740581, 17.996339893498515, 2.1850393809886812, 5.942894757057049, 7.117765541143295, 20.952468400039344, 4.206633612284803, 7.20384333050528, 5.6351462132049095, 27.836081093705562, 10.082681621785555, 17.17593678470046, 8.553428693936201, 16.366848096593408, 6.728508630001423, 9.876344346068494, 9.918682857323924, 7.840810314202486, 28.26356513742172, 26.537685159092106, 826.7940545303705, 70.78842412377419, 46.78995334465894, 108.62535342937576, 97.91849677573688, 30.040173246484148, 32.78599814788293, 48.53199818135753, 20.88083757407555, 30.055284240701127, 68.32171273902561, 70.80676993905061, 38.76325062865061, 53.102980161996584, 32.70102653253988, 32.94572940946472, 30.721597254571805, 163.17099351871084, 42.24173660370538, 93.61263288714473, 113.31488959618714, 3.305665946317677, 2.0609656920962984, 2.0646517972988914, 2.0367456590399335, 4.317323003242319, 2.069955656269011, 2.0690764152671686, 2.0707680070325596, 2.027234351947348, 2.804455267638095, 2.1319268601715318, 2.018723405244827, 1.4136903954223192, 1.4020083565486274, 1.4027566752386094, 1.4028065212294811, 1.419078642584297, 2.3327960688813874, 1.442581322738047, 1.44203306497151, 2.258794887106027, 1.390529471176203, 1.3934743592076724, 1.446397264376787, 1.3931839551756808, 2.417060018523428, 1.3930366746253362, 1.3906622914867803, 2.3228074000034584, 1.3884792343797576, 2.2797964699116458, 6.401904526075092, 3.1493100834175967, 7.165089390501209, 5.217592286774381, 3.807694368330771, 3.3210596300383974, 3.2002703780540442, 18.099173429020112, 826.7940545303705, 93.61263288714473, 14.206679347485391, 31.31172070778969, 53.102980161996584, 39.652189959947314, 46.78995334465894, 65.65110395885512, 93.92817129910539, 20.784515254195327, 15.857548954881892, 108.62535342937576, 97.91849677573688, 60.87176082624579, 27.21841268626256, 46.799837011823904, 70.51206501298202, 163.17099351871084, 46.82569219853689, 67.53355480960175, 51.937404835869835, 60.29451363333257, 24.847286248469263, 38.61747733772484, 43.67112051391647, 30.624621993062114, 47.61940373576181, 55.7298133250585, 79.80721344707887, 45.469859563241506, 56.086623052160405, 55.508120457634696, 66.13576049495695, 44.53066112562914, 1.3867508988380006, 3.71431475106424, 4.096016569868918, 1.3774780308235803, 1.3796749545277533, 1.377750153698891, 1.3798222542419831, 1.3770232289742685, 1.3779163397943015, 1.3778733165236823, 1.3771134798126017, 1.3774604458150002, 1.377102072091863, 7.5065115337661386, 1.4059348666488618, 1.377223831246647, 2.5733915617342307, 1.4075978063798253, 1.3773662896918197, 1.4080734899927376, 1.3758415154434818, 1.408828959196107, 1.3770130855827178, 1.3771070444537492, 4.669757777981382, 3.635719535439847, 2.346021726161603, 3.0041489399359333, 4.220019028030515, 2.1715779640834483, 7.337842221436695, 16.366848096593408, 8.408753774042024, 4.198552732713251, 5.4784429157544965, 8.112810806126484, 20.952468400039344, 6.979909346799749, 6.180138405644338, 97.91849677573688, 26.537685159092106, 3.638838098095018, 9.918682857323924, 4.809989564918515, 44.02189863749005, 7.840810314202486, 826.7940545303705, 49.24609489530799, 3.677048379734006, 24.847286248469263, 43.15911662899766, 37.05041888110122, 108.62535342937576, 62.79473630511571, 39.1088446083869, 28.26356513742172, 24.406461302459853, 55.60505050314865, 30.040173246484148, 20.89816382261359, 51.937404835869835, 27.836081093705562, 163.17099351871084, 38.76325062865061, 55.508120457634696, 113.31488959618714, 48.53199818135753, 70.78842412377419, 28.715975495480652, 32.43205952190569, 53.102980161996584, 66.13576049495695, 60.30447753146371, 51.831204998377956, 70.51206501298202, 93.92817129910539, 60.87176082624579, 3.079307193172972, 1.8466530974913693, 1.957163015235053, 1.9331373059399348, 1.9429066493947147, 1.3060562128757924, 1.3060311128805644, 1.3060183257021076, 1.30599902598692, 1.3059708123177438, 1.3059382945751086, 1.3059360344157531, 1.3059369992277683, 1.3058956540852833, 1.3058012932001926, 1.3058034669194563, 1.3057643971687343, 4.8766917018370775, 1.3350282493467742, 5.446897106118728, 1.3323390706105827, 1.3150145608993664, 1.315598394589828, 1.3543455035662326, 1.342029163526425, 1.3165630848591006, 3.677048379734006, 1.3447420106234116, 1.3591284073690875, 1.3456289554958436, 3.4485561861093355, 2.7767039464080723, 3.3818234047911857, 4.575720836022943, 10.228071110494774, 7.109658762907298, 2.101559351865931, 4.288412686771, 4.0808837407204965, 4.172447109828169, 9.497979315523658, 19.436541827741543, 48.29082143412116, 17.68098629855452, 18.11467476833939, 5.13349917662402, 826.7940545303705, 3.038739564843271, 5.132279857445007, 30.3596594897296, 73.04611184574512, 82.74217117576327, 5.906187912999346, 72.99514786308492, 79.80721344707887, 58.990180076983435, 39.4624157342479, 43.750217380180274, 69.31638226558195, 27.366951236688266, 97.91849677573688, 27.21841268626256, 113.31488959618714, 40.29763198666701, 35.944060066134995, 39.652189959947314, 108.62535342937576, 56.84895680386492, 39.21943657191927, 60.29451363333257, 70.78842412377419, 163.17099351871084, 50.8865058494394, 93.92817129910539, 65.65110395885512, 46.799837011823904, 70.80676993905061, 2.5221717817607354, 4.610709687998054, 1.9367197792191593, 1.9524286794234318, 1.2435860459706078, 4.970069873820814, 1.913367566446078, 2.490121785376141, 1.878418434702588, 1.8826488621647928, 2.678181606565917, 1.3245906087756583, 2.4462660403903804, 1.2916021093409784, 1.3300899006306217, 1.2917504559495927, 1.2950102628562234, 1.3358117986936076, 1.2982680148787669, 1.9532276090655163, 1.3422197154917561, 1.3057533736582536, 1.302297848898526, 3.917839444856008, 1.3031212322799828, 1.3048446716536324, 1.9622234152961515, 1.3573024983275905, 1.361356036697315, 1.310722751399803, 2.491048173530504, 1.9141704213265105, 4.213826307664841, 3.337082948177052, 2.507216317697008, 2.738922819628197, 1.9240662098319383, 4.4399053343550605, 3.172002382026154, 2.7846358974438346, 1.937367973702588, 64.59416260116201, 44.02189863749005, 2.94777644845561, 21.383120068600846, 6.9890891220878135, 4.2055378097154925, 826.7940545303705, 108.62535342937576, 46.799837011823904, 23.062756108769985, 30.495239516637046, 113.31488959618714, 56.086623052160405, 69.08276877713145, 62.79473630511571, 44.53066112562914, 73.04611184574512, 35.944060066134995, 163.17099351871084, 41.7734256738383, 60.30447753146371, 70.51206501298202, 60.87176082624579, 58.990180076983435, 65.65110395885512, 39.21943657191927, 37.135980101688126, 93.61263288714473, 93.92817129910539, 69.31638226558195, 43.67112051391647, 79.80721344707887, 70.80676993905061, 97.91849677573688], \"Category\": [\"Default\", \"Default\", \"Default\", \"Default\", \"Default\", \"Default\", \"Default\", \"Default\", \"Default\", \"Default\", \"Default\", \"Default\", \"Default\", \"Default\", \"Default\", \"Default\", \"Default\", \"Default\", \"Default\", \"Default\", \"Default\", \"Default\", \"Default\", \"Default\", \"Default\", \"Default\", \"Default\", \"Default\", \"Default\", \"Default\", \"Topic1\", \"Topic1\", \"Topic1\", \"Topic1\", \"Topic1\", \"Topic1\", \"Topic1\", \"Topic1\", \"Topic1\", \"Topic1\", \"Topic1\", \"Topic1\", \"Topic1\", \"Topic1\", \"Topic1\", \"Topic1\", \"Topic1\", \"Topic1\", \"Topic1\", \"Topic1\", \"Topic1\", \"Topic1\", \"Topic1\", \"Topic1\", \"Topic1\", \"Topic1\", \"Topic1\", \"Topic1\", \"Topic1\", \"Topic1\", \"Topic1\", \"Topic1\", \"Topic1\", \"Topic1\", \"Topic1\", \"Topic1\", \"Topic1\", \"Topic1\", \"Topic1\", \"Topic1\", \"Topic1\", \"Topic1\", \"Topic1\", \"Topic1\", \"Topic1\", \"Topic1\", \"Topic1\", \"Topic1\", \"Topic1\", \"Topic1\", \"Topic1\", \"Topic1\", \"Topic1\", \"Topic1\", \"Topic1\", \"Topic1\", \"Topic1\", \"Topic1\", \"Topic1\", \"Topic1\", \"Topic1\", \"Topic1\", \"Topic1\", \"Topic1\", \"Topic1\", \"Topic1\", \"Topic1\", \"Topic1\", \"Topic1\", \"Topic1\", \"Topic1\", \"Topic1\", \"Topic1\", \"Topic1\", \"Topic1\", \"Topic1\", \"Topic1\", \"Topic1\", \"Topic2\", \"Topic2\", \"Topic2\", \"Topic2\", \"Topic2\", \"Topic2\", \"Topic2\", \"Topic2\", \"Topic2\", \"Topic2\", \"Topic2\", \"Topic2\", \"Topic2\", \"Topic2\", \"Topic2\", \"Topic2\", \"Topic2\", \"Topic2\", \"Topic2\", \"Topic2\", \"Topic2\", \"Topic2\", \"Topic2\", \"Topic2\", \"Topic2\", \"Topic2\", \"Topic2\", \"Topic2\", \"Topic2\", \"Topic2\", \"Topic2\", \"Topic2\", \"Topic2\", \"Topic2\", \"Topic2\", \"Topic2\", \"Topic2\", \"Topic2\", \"Topic2\", \"Topic2\", \"Topic2\", \"Topic2\", \"Topic2\", \"Topic2\", \"Topic2\", \"Topic2\", \"Topic2\", \"Topic2\", \"Topic2\", \"Topic2\", \"Topic2\", \"Topic2\", \"Topic2\", \"Topic2\", \"Topic2\", \"Topic2\", \"Topic2\", \"Topic2\", \"Topic2\", \"Topic2\", \"Topic2\", \"Topic2\", \"Topic2\", \"Topic2\", \"Topic2\", \"Topic2\", \"Topic2\", \"Topic2\", \"Topic2\", \"Topic2\", \"Topic2\", \"Topic2\", \"Topic2\", \"Topic2\", \"Topic2\", \"Topic2\", \"Topic2\", \"Topic2\", \"Topic2\", \"Topic2\", \"Topic3\", \"Topic3\", \"Topic3\", \"Topic3\", \"Topic3\", \"Topic3\", \"Topic3\", \"Topic3\", \"Topic3\", \"Topic3\", \"Topic3\", \"Topic3\", \"Topic3\", \"Topic3\", \"Topic3\", \"Topic3\", \"Topic3\", \"Topic3\", \"Topic3\", \"Topic3\", \"Topic3\", \"Topic3\", \"Topic3\", \"Topic3\", \"Topic3\", \"Topic3\", \"Topic3\", \"Topic3\", \"Topic3\", \"Topic3\", \"Topic3\", \"Topic3\", \"Topic3\", \"Topic3\", \"Topic3\", \"Topic3\", \"Topic3\", \"Topic3\", \"Topic3\", \"Topic3\", \"Topic3\", \"Topic3\", \"Topic3\", \"Topic3\", \"Topic3\", \"Topic3\", \"Topic3\", \"Topic3\", \"Topic3\", \"Topic3\", \"Topic3\", \"Topic3\", \"Topic3\", \"Topic3\", \"Topic3\", \"Topic3\", \"Topic3\", \"Topic3\", \"Topic3\", \"Topic3\", \"Topic3\", \"Topic3\", \"Topic3\", \"Topic3\", \"Topic3\", \"Topic3\", \"Topic3\", \"Topic3\", \"Topic3\", \"Topic3\", \"Topic3\", \"Topic3\", \"Topic3\", \"Topic3\", \"Topic3\", \"Topic3\", \"Topic3\", \"Topic3\", \"Topic3\", \"Topic4\", \"Topic4\", \"Topic4\", \"Topic4\", \"Topic4\", \"Topic4\", \"Topic4\", \"Topic4\", \"Topic4\", \"Topic4\", \"Topic4\", \"Topic4\", \"Topic4\", \"Topic4\", \"Topic4\", \"Topic4\", \"Topic4\", \"Topic4\", \"Topic4\", \"Topic4\", \"Topic4\", \"Topic4\", \"Topic4\", \"Topic4\", \"Topic4\", \"Topic4\", \"Topic4\", \"Topic4\", \"Topic4\", \"Topic4\", \"Topic4\", \"Topic4\", \"Topic4\", \"Topic4\", \"Topic4\", \"Topic4\", \"Topic4\", \"Topic4\", \"Topic4\", \"Topic4\", \"Topic4\", \"Topic4\", \"Topic4\", \"Topic4\", \"Topic4\", \"Topic4\", \"Topic4\", \"Topic4\", \"Topic4\", \"Topic4\", \"Topic4\", \"Topic4\", \"Topic4\", \"Topic4\", \"Topic4\", \"Topic4\", \"Topic4\", \"Topic4\", \"Topic4\", \"Topic4\", \"Topic4\", \"Topic4\", \"Topic4\", \"Topic4\", \"Topic4\", \"Topic4\", \"Topic4\", \"Topic4\", \"Topic4\", \"Topic4\", \"Topic4\", \"Topic4\", \"Topic4\", \"Topic4\", \"Topic4\", \"Topic4\", \"Topic4\", \"Topic4\", \"Topic4\", \"Topic4\", \"Topic5\", \"Topic5\", \"Topic5\", \"Topic5\", \"Topic5\", \"Topic5\", \"Topic5\", \"Topic5\", \"Topic5\", \"Topic5\", \"Topic5\", \"Topic5\", \"Topic5\", \"Topic5\", \"Topic5\", \"Topic5\", \"Topic5\", \"Topic5\", \"Topic5\", \"Topic5\", \"Topic5\", \"Topic5\", \"Topic5\", \"Topic5\", \"Topic5\", \"Topic5\", \"Topic5\", \"Topic5\", \"Topic5\", \"Topic5\", \"Topic5\", \"Topic5\", \"Topic5\", \"Topic5\", \"Topic5\", \"Topic5\", \"Topic5\", \"Topic5\", \"Topic5\", \"Topic5\", \"Topic5\", \"Topic5\", \"Topic5\", \"Topic5\", \"Topic5\", \"Topic5\", \"Topic5\", \"Topic5\", \"Topic5\", \"Topic5\", \"Topic5\", \"Topic5\", \"Topic5\", \"Topic5\", \"Topic5\", \"Topic5\", \"Topic5\", \"Topic5\", \"Topic5\", \"Topic5\", \"Topic5\", \"Topic5\", \"Topic5\", \"Topic5\", \"Topic5\", \"Topic5\", \"Topic5\", \"Topic5\", \"Topic5\", \"Topic5\", \"Topic5\", \"Topic5\", \"Topic5\", \"Topic5\", \"Topic5\", \"Topic6\", \"Topic6\", \"Topic6\", \"Topic6\", \"Topic6\", \"Topic6\", \"Topic6\", \"Topic6\", \"Topic6\", \"Topic6\", \"Topic6\", \"Topic6\", \"Topic6\", \"Topic6\", \"Topic6\", \"Topic6\", \"Topic6\", \"Topic6\", \"Topic6\", \"Topic6\", \"Topic6\", \"Topic6\", \"Topic6\", \"Topic6\", \"Topic6\", \"Topic6\", \"Topic6\", \"Topic6\", \"Topic6\", \"Topic6\", \"Topic6\", \"Topic6\", \"Topic6\", \"Topic6\", \"Topic6\", \"Topic6\", \"Topic6\", \"Topic6\", \"Topic6\", \"Topic6\", \"Topic6\", \"Topic6\", \"Topic6\", \"Topic6\", \"Topic6\", \"Topic6\", \"Topic6\", \"Topic6\", \"Topic6\", \"Topic6\", \"Topic6\", \"Topic6\", \"Topic6\", \"Topic6\", \"Topic6\", \"Topic6\", \"Topic6\", \"Topic6\", \"Topic6\", \"Topic6\", \"Topic6\", \"Topic6\", \"Topic6\", \"Topic6\", \"Topic6\", \"Topic6\", \"Topic6\", \"Topic6\", \"Topic6\", \"Topic6\", \"Topic6\", \"Topic6\", \"Topic7\", \"Topic7\", \"Topic7\", \"Topic7\", \"Topic7\", \"Topic7\", \"Topic7\", \"Topic7\", \"Topic7\", \"Topic7\", \"Topic7\", \"Topic7\", \"Topic7\", \"Topic7\", \"Topic7\", \"Topic7\", \"Topic7\", \"Topic7\", \"Topic7\", \"Topic7\", \"Topic7\", \"Topic7\", \"Topic7\", \"Topic7\", \"Topic7\", \"Topic7\", \"Topic7\", \"Topic7\", \"Topic7\", \"Topic7\", \"Topic7\", \"Topic7\", \"Topic7\", \"Topic7\", \"Topic7\", \"Topic7\", \"Topic7\", \"Topic7\", \"Topic7\", \"Topic7\", \"Topic7\", \"Topic7\", \"Topic7\", \"Topic7\", \"Topic7\", \"Topic7\", \"Topic7\", \"Topic7\", \"Topic7\", \"Topic7\", \"Topic7\", \"Topic7\", \"Topic7\", \"Topic7\", \"Topic7\", \"Topic7\", \"Topic7\", \"Topic7\", \"Topic7\", \"Topic7\", \"Topic7\", \"Topic7\", \"Topic7\", \"Topic7\", \"Topic7\", \"Topic7\", \"Topic7\", \"Topic7\", \"Topic7\", \"Topic7\", \"Topic7\", \"Topic7\", \"Topic7\", \"Topic8\", \"Topic8\", \"Topic8\", \"Topic8\", \"Topic8\", \"Topic8\", \"Topic8\", \"Topic8\", \"Topic8\", \"Topic8\", \"Topic8\", \"Topic8\", \"Topic8\", \"Topic8\", \"Topic8\", \"Topic8\", \"Topic8\", \"Topic8\", \"Topic8\", \"Topic8\", \"Topic8\", \"Topic8\", \"Topic8\", \"Topic8\", \"Topic8\", \"Topic8\", \"Topic8\", \"Topic8\", \"Topic8\", \"Topic8\", \"Topic8\", \"Topic8\", \"Topic8\", \"Topic8\", \"Topic8\", \"Topic8\", \"Topic8\", \"Topic8\", \"Topic8\", \"Topic8\", \"Topic8\", \"Topic8\", \"Topic8\", \"Topic8\", \"Topic8\", \"Topic8\", \"Topic8\", \"Topic8\", \"Topic8\", \"Topic8\", \"Topic8\", \"Topic8\", \"Topic8\", \"Topic8\", \"Topic8\", \"Topic8\", \"Topic8\", \"Topic8\", \"Topic8\", \"Topic8\", \"Topic8\", \"Topic8\", \"Topic8\", \"Topic8\", \"Topic8\", \"Topic8\", \"Topic8\", \"Topic8\", \"Topic8\", \"Topic8\", \"Topic8\", \"Topic8\", \"Topic8\", \"Topic8\", \"Topic8\", \"Topic8\", \"Topic8\", \"Topic9\", \"Topic9\", \"Topic9\", \"Topic9\", \"Topic9\", \"Topic9\", \"Topic9\", \"Topic9\", \"Topic9\", \"Topic9\", \"Topic9\", \"Topic9\", \"Topic9\", \"Topic9\", \"Topic9\", \"Topic9\", \"Topic9\", \"Topic9\", \"Topic9\", \"Topic9\", \"Topic9\", \"Topic9\", \"Topic9\", \"Topic9\", \"Topic9\", \"Topic9\", \"Topic9\", \"Topic9\", \"Topic9\", \"Topic9\", \"Topic9\", \"Topic9\", \"Topic9\", \"Topic9\", \"Topic9\", \"Topic9\", \"Topic9\", \"Topic9\", \"Topic9\", \"Topic9\", \"Topic9\", \"Topic9\", \"Topic9\", \"Topic9\", \"Topic9\", \"Topic9\", \"Topic9\", \"Topic9\", \"Topic9\", \"Topic9\", \"Topic9\", \"Topic9\", \"Topic9\", \"Topic9\", \"Topic9\", \"Topic9\", \"Topic9\", \"Topic9\", \"Topic9\", \"Topic9\", \"Topic9\", \"Topic9\", \"Topic9\", \"Topic9\", \"Topic9\", \"Topic9\", \"Topic9\", \"Topic9\", \"Topic9\", \"Topic9\", \"Topic9\", \"Topic9\", \"Topic9\", \"Topic9\", \"Topic9\", \"Topic9\", \"Topic9\", \"Topic10\", \"Topic10\", \"Topic10\", \"Topic10\", \"Topic10\", \"Topic10\", \"Topic10\", \"Topic10\", \"Topic10\", \"Topic10\", \"Topic10\", \"Topic10\", \"Topic10\", \"Topic10\", \"Topic10\", \"Topic10\", \"Topic10\", \"Topic10\", \"Topic10\", \"Topic10\", \"Topic10\", \"Topic10\", \"Topic10\", \"Topic10\", \"Topic10\", \"Topic10\", \"Topic10\", \"Topic10\", \"Topic10\", \"Topic10\", \"Topic10\", \"Topic10\", \"Topic10\", \"Topic10\", \"Topic10\", \"Topic10\", \"Topic10\", \"Topic10\", \"Topic10\", \"Topic10\", \"Topic10\", \"Topic10\", \"Topic10\", \"Topic10\", \"Topic10\", \"Topic10\", \"Topic10\", \"Topic10\", \"Topic10\", \"Topic10\", \"Topic10\", \"Topic10\", \"Topic10\", \"Topic10\", \"Topic10\", \"Topic10\", \"Topic10\", \"Topic10\", \"Topic10\", \"Topic10\", \"Topic10\", \"Topic10\", \"Topic10\", \"Topic10\", \"Topic10\", \"Topic10\", \"Topic10\", \"Topic10\", \"Topic10\", \"Topic10\", \"Topic10\", \"Topic10\", \"Topic10\", \"Topic10\", \"Topic10\"], \"logprob\": [30.0, 29.0, 28.0, 27.0, 26.0, 25.0, 24.0, 23.0, 22.0, 21.0, 20.0, 19.0, 18.0, 17.0, 16.0, 15.0, 14.0, 13.0, 12.0, 11.0, 10.0, 9.0, 8.0, 7.0, 6.0, 5.0, 4.0, 3.0, 2.0, 1.0, -7.7662, -6.8131, -7.6475, -7.502, -8.1673, -8.2078, -7.9303, -7.9705, -7.9497, -7.703, -8.2926, -8.2996, -7.6231, -8.7044, -8.7045, -8.7055, -7.4743, -7.8284, -8.7196, -8.7261, -8.7285, -7.7809, -8.7342, -8.7357, -8.3813, -7.0677, -8.4134, -8.3678, -8.378, -8.36, -7.172, -7.4007, -5.7215, -7.5336, -5.584, -7.4126, -5.7133, -7.5995, -5.7116, -5.8765, -6.7571, -7.7572, -8.0433, -6.5344, -6.2307, -6.1232, -6.3839, -3.3737, -5.6638, -5.5534, -5.4621, -6.2525, -5.9294, -6.3245, -5.7778, -5.3891, -5.6263, -5.9737, -6.716, -6.106, -6.4316, -5.7916, -6.1017, -5.8612, -5.6904, -5.6715, -5.619, -5.7288, -5.77, -5.1703, -5.8007, -5.8553, -5.5991, -5.9918, -5.78, -5.8527, -5.895, -5.9982, -7.5786, -7.8592, -7.8639, -7.8676, -7.87, -7.6824, -7.2089, -7.6356, -7.9652, -7.4542, -7.9778, -7.9945, -8.0307, -7.5303, -7.3485, -8.083, -7.5883, -8.5056, -8.5057, -8.5058, -8.5058, -8.5058, -8.5059, -8.5061, -8.5062, -8.5113, -8.5121, -8.5121, -8.5125, -7.2477, -7.8064, -7.5987, -8.0935, -7.0808, -6.6882, -7.4581, -7.1182, -5.9778, -7.8308, -6.9955, -5.6884, -6.5077, -7.1398, -5.51, -3.2684, -6.1142, -6.7593, -5.4889, -5.5661, -6.8837, -5.214, -6.2199, -5.6548, -5.0596, -5.7316, -6.3301, -5.8439, -5.7243, -5.7073, -5.8408, -5.7085, -6.3091, -6.4993, -6.6174, -6.7627, -5.8003, -6.1476, -5.5877, -6.1434, -5.6944, -6.4367, -5.7046, -5.9037, -5.9898, -5.9379, -6.0376, -6.0676, -6.0079, -6.0139, -6.1267, -6.4774, -7.4966, -6.7094, -7.5383, -7.0238, -7.2686, -7.2659, -7.5343, -7.622, -7.1001, -6.9655, -7.3142, -7.6279, -7.6511, -7.666, -7.7226, -7.6788, -7.69, -7.7168, -8.1499, -7.7982, -7.0395, -8.1568, -7.2297, -8.1654, -8.179, -8.1818, -8.1542, -8.1894, -8.1921, -7.8678, -6.889, -7.2097, -7.5306, -6.746, -7.2121, -5.0359, -7.2494, -6.8336, -5.9845, -7.0662, -6.8806, -6.8816, -5.5931, -6.3892, -6.6053, -6.4451, -5.9772, -3.8048, -6.8363, -5.8702, -6.189, -6.483, -5.5806, -5.734, -6.1843, -6.1513, -5.7055, -5.8486, -6.3643, -5.365, -6.1524, -6.5703, -5.6332, -5.8613, -6.0364, -6.0926, -5.7597, -5.9131, -6.0831, -6.2648, -6.1108, -6.0386, -6.0557, -6.1056, -6.1976, -6.0107, -6.0676, -6.1442, -6.9805, -7.2395, -6.3074, -7.5702, -7.5894, -6.8251, -6.8531, -7.6939, -7.6338, -8.1549, -8.1567, -8.157, -8.1619, -8.1623, -8.1631, -8.1635, -8.1635, -8.1644, -8.1648, -8.166, -8.1698, -8.172, -8.1734, -8.176, -7.7018, -7.7475, -7.7218, -7.1903, -8.2185, -8.234, -7.5988, -7.3499, -6.7711, -6.8439, -7.4219, -7.1696, -7.1484, -7.5249, -7.1857, -7.7905, -7.1705, -5.7512, -7.5399, -4.5448, -6.57, -6.5723, -5.7769, -6.2657, -6.4135, -3.8938, -6.307, -6.1064, -6.6153, -5.567, -5.7615, -5.7017, -5.7539, -5.9473, -5.8941, -6.2414, -5.6169, -5.6252, -5.9993, -5.8135, -6.3395, -5.7948, -5.6105, -5.625, -5.9543, -6.0611, -5.9918, -6.1315, -5.8699, -5.998, -6.0074, -6.0436, -6.0477, -6.1161, -6.11, -6.1454, -6.457, -7.1902, -7.2403, -7.2475, -7.3976, -7.1519, -6.2795, -7.8364, -7.8365, -7.8365, -7.8366, -7.8366, -7.8366, -7.8367, -7.8368, -7.8368, -7.8369, -7.837, -6.9444, -7.443, -5.5265, -7.8743, -7.4639, -7.8759, -7.8802, -7.8873, -7.8889, -7.8891, -7.8945, -7.9042, -5.3234, -6.5778, -7.0028, -5.1989, -7.2352, -5.8982, -5.9907, -5.9786, -5.8495, -7.3174, -5.4755, -6.2975, -7.1468, -7.5208, -7.1697, -6.9701, -7.274, -5.0869, -7.0217, -7.1928, -5.7948, -5.7933, -4.0243, -5.533, -5.6325, -6.2512, -5.8188, -5.9046, -6.6833, -5.5941, -6.3958, -5.8863, -6.0852, -5.7848, -6.1946, -6.4724, -6.1622, -5.6946, -6.2857, -6.0876, -5.933, -6.1756, -6.2032, -6.2597, -6.2638, -6.5836, -6.5905, -6.8641, -6.2948, -7.2529, -7.253, -7.2533, -7.2593, -6.5813, -6.8019, -6.1123, -6.4505, -7.3537, -6.7004, -7.384, -5.7401, -7.4049, -7.4227, -6.7244, -6.6305, -6.9748, -7.8988, -7.8994, -7.8995, -7.8996, -7.8996, -7.8997, -7.9, -7.9004, -7.9004, -6.4188, -6.9897, -5.4025, -7.4881, -6.5345, -6.3828, -5.3695, -6.8935, -6.4229, -6.6475, -5.3036, -6.1623, -5.7351, -6.3163, -5.826, -6.5162, -6.299, -6.3079, -6.4587, -5.6896, -5.7285, -3.9792, -5.3221, -5.5517, -5.1903, -5.312, -5.9402, -5.9392, -5.8504, -6.165, -6.0695, -5.8863, -5.9194, -6.0776, -6.0429, -6.1367, -6.1398, -6.1545, -5.943, -6.1396, -6.0615, -6.059, -6.6853, -7.3088, -7.321, -7.337, -6.5916, -7.3373, -7.3378, -7.3473, -7.3868, -7.1003, -7.5201, -7.5928, -7.9551, -7.9649, -7.9879, -7.9931, -7.994, -7.5314, -8.0952, -8.1199, -7.6775, -8.163, -8.161, -8.1244, -8.1673, -7.6325, -8.1853, -8.1876, -7.6914, -8.216, -7.7415, -6.825, -7.4873, -6.826, -7.097, -7.3542, -7.4716, -7.513, -6.2187, -3.7331, -5.3182, -6.5486, -6.0767, -5.7544, -5.9354, -5.8367, -5.6365, -5.4322, -6.3437, -6.5221, -5.419, -5.5995, -5.8684, -6.3037, -6.0492, -5.8632, -5.5163, -6.083, -5.9514, -6.066, -6.025, -6.3741, -6.2118, -6.167, -6.2987, -6.1494, -6.1034, -6.0138, -6.194, -6.1752, -6.2151, -6.2226, -6.2911, -7.8459, -6.9092, -6.8354, -7.9542, -7.9568, -7.9605, -7.9613, -7.964, -7.9638, -7.9641, -7.9657, -7.9665, -7.9697, -6.2743, -7.95, -7.9726, -7.3549, -7.9603, -7.9836, -7.9637, -7.9896, -7.9669, -7.9909, -7.9919, -6.8064, -7.0909, -7.5521, -7.3172, -6.9938, -7.6868, -6.4872, -5.7551, -6.5122, -7.1027, -6.8985, -6.6213, -5.9808, -6.8412, -6.9288, -5.0552, -5.9475, -7.2999, -6.6342, -7.1201, -5.6569, -6.8084, -3.7548, -5.6138, -7.3272, -6.132, -5.8342, -5.9302, -5.3052, -5.6347, -5.9721, -6.149, -6.2394, -5.8379, -6.1409, -6.3239, -5.8918, -6.194, -5.4031, -6.0702, -5.945, -5.7258, -6.0355, -5.9688, -6.2405, -6.2044, -6.0661, -6.0089, -6.0342, -6.0763, -6.0145, -6.0282, -6.0968, -6.5117, -7.1035, -7.2155, -7.2385, -7.2545, -7.7501, -7.7501, -7.7501, -7.7502, -7.7502, -7.7503, -7.7503, -7.7503, -7.7503, -7.7505, -7.7505, -7.7506, -6.4875, -7.8046, -6.4027, -7.8267, -7.859, -7.865, -7.8428, -7.8535, -7.8785, -6.8541, -7.863, -7.8523, -7.8639, -6.9999, -7.198, -7.0672, -6.8332, -6.2541, -6.5618, -7.5052, -6.9826, -7.0207, -7.0136, -6.4329, -5.9473, -5.5402, -6.1643, -6.1525, -6.9212, -3.8775, -7.2411, -6.9359, -5.953, -5.5114, -5.5417, -6.9424, -5.6291, -5.6288, -5.7859, -5.9787, -5.9881, -5.8071, -6.2165, -5.7359, -6.2586, -5.7243, -6.1191, -6.171, -6.1379, -5.7981, -6.0275, -6.1543, -6.0502, -6.0519, -5.9074, -6.1294, -6.0916, -6.1602, -6.2052, -6.2073, -6.9036, -6.3886, -7.2978, -7.3024, -7.7544, -6.3848, -7.378, -7.129, -7.4387, -7.4434, -7.1638, -7.8905, -7.2885, -7.9272, -7.8989, -7.9298, -7.9315, -7.9116, -7.9489, -7.5448, -7.9214, -7.9613, -7.9668, -6.8679, -7.9711, -7.9723, -7.571, -7.9483, -7.9488, -7.9872, -7.3469, -7.6098, -6.8451, -7.1055, -7.3743, -7.299, -7.6182, -6.9076, -7.1972, -7.3315, -7.6265, -5.005, -5.45, -7.3429, -5.9833, -6.765, -7.124, -3.901, -5.1461, -5.6851, -6.1088, -5.9614, -5.2234, -5.6437, -5.6183, -5.6774, -5.8603, -5.6112, -6.0293, -5.3397, -6.0095, -5.8483, -5.7926, -5.8565, -5.8962, -5.8774, -6.0845, -6.1704, -5.8808, -5.912, -6.0174, -6.2212, -6.1331, -6.2138, -6.2207], \"loglift\": [30.0, 29.0, 28.0, 27.0, 26.0, 25.0, 24.0, 23.0, 22.0, 21.0, 20.0, 19.0, 18.0, 17.0, 16.0, 15.0, 14.0, 13.0, 12.0, 11.0, 10.0, 9.0, 8.0, 7.0, 6.0, 5.0, 4.0, 3.0, 2.0, 1.0, 1.0852, 1.0407, 1.029, 1.0162, 1.0065, 0.9983, 0.9933, 0.9778, 0.9561, 0.9447, 0.9343, 0.9332, 0.9296, 0.9247, 0.9247, 0.924, 0.923, 0.9213, 0.9151, 0.9109, 0.9095, 0.9086, 0.9059, 0.905, 0.9018, 0.8963, 0.8836, 0.8828, 0.8822, 0.8813, 0.8738, 0.8705, 0.8346, 0.8701, 0.7896, 0.8557, 0.7764, 0.8614, 0.7605, 0.7514, 0.7824, 0.8552, 0.8762, 0.744, 0.7125, 0.6668, 0.6692, 0.212, 0.5402, 0.5111, 0.4615, 0.6011, 0.5205, 0.6072, 0.485, 0.3716, 0.4212, 0.5056, 0.6905, 0.528, 0.6127, 0.4122, 0.5052, 0.4237, 0.3479, 0.3406, 0.2685, 0.3147, 0.3206, 0.0381, 0.3126, 0.2126, -0.0261, 0.2949, -0.1647, -0.1336, -0.131, 0.0146, 1.3998, 1.3985, 1.3946, 1.3918, 1.3899, 1.3433, 1.3405, 1.3385, 1.3241, 1.3151, 1.3125, 1.2993, 1.2771, 1.2451, 1.2254, 1.2218, 1.2119, 1.2069, 1.2068, 1.2068, 1.2068, 1.2068, 1.2068, 1.2067, 1.2067, 1.2021, 1.2014, 1.2014, 1.2011, 1.2011, 1.2, 1.195, 1.1983, 1.136, 1.1135, 1.1297, 1.0826, 0.9637, 1.1387, 1.0338, 0.8515, 0.9547, 1.0331, 0.7663, 0.3173, 0.822, 0.953, 0.5544, 0.5454, 0.9564, 0.3591, 0.7064, 0.4131, 0.1488, 0.3816, 0.6637, 0.4189, 0.3547, 0.331, 0.3994, 0.3043, 0.5929, 0.6994, 0.7714, 0.8613, 0.2118, 0.4471, 0.0276, 0.4164, 0.0696, 0.6259, 0.0144, 0.1437, 0.1736, 0.1056, 0.1882, 0.1268, -0.1204, -0.2532, -0.2031, 2.0882, 1.918, 1.915, 1.8883, 1.866, 1.8474, 1.8464, 1.8272, 1.8268, 1.8227, 1.7971, 1.7922, 1.7777, 1.7689, 1.7452, 1.7413, 1.7387, 1.72, 1.6941, 1.6871, 1.6834, 1.6823, 1.6818, 1.6805, 1.6747, 1.6647, 1.6619, 1.6609, 1.6565, 1.654, 1.6295, 1.5222, 1.5467, 1.5852, 1.4626, 1.5322, 1.1899, 1.5247, 1.4314, 1.1805, 1.4572, 1.3983, 1.3898, 0.8432, 1.1802, 1.2616, 1.1721, 0.9294, -0.2192, 1.3373, 0.7481, 0.9194, 1.0681, 0.3068, 0.4011, 0.7593, 0.7214, 0.3073, 0.3916, 0.8805, -0.1566, 0.656, 1.051, -0.0602, 0.2177, 0.3926, 0.454, -0.0406, 0.1775, 0.3742, 0.551, 0.2444, 0.0046, 0.0089, 0.0133, 0.3209, -0.3954, -0.3036, 0.0191, 1.9847, 1.9469, 1.9055, 1.8987, 1.8811, 1.8362, 1.8037, 1.7866, 1.7807, 1.7163, 1.7145, 1.7142, 1.7099, 1.7095, 1.7088, 1.7085, 1.7085, 1.7077, 1.7073, 1.7063, 1.7028, 1.701, 1.6998, 1.6977, 1.6951, 1.6786, 1.6694, 1.6629, 1.6567, 1.6422, 1.6321, 1.5957, 1.5503, 1.5494, 1.5893, 1.5389, 1.5087, 1.5837, 1.5006, 1.6286, 1.4561, 1.0782, 1.5449, 0.6636, 1.1742, 1.1464, 0.8462, 1.0036, 1.0506, -0.3081, 0.8817, 0.6999, 1.0088, 0.3205, 0.4425, 0.3628, 0.3812, 0.51, 0.459, 0.7001, 0.1438, 0.1389, 0.4575, 0.2655, 0.7626, 0.218, 0.0048, -0.052, 0.3324, 0.2941, 0.1715, 0.3965, -0.1509, 0.0403, -0.0838, -0.0003, -0.0003, 0.0783, 0.0088, 0.0804, 2.2793, 2.2542, 2.2092, 2.202, 2.0499, 2.0403, 2.0216, 2.02, 2.02, 2.02, 2.02, 2.0199, 2.0199, 2.0199, 2.0199, 2.0199, 2.0198, 2.0198, 2.0089, 2.0048, 1.9921, 1.9852, 1.9842, 1.9834, 1.9795, 1.973, 1.9717, 1.9716, 1.9666, 1.9571, 1.861, 1.8624, 1.889, 1.7098, 1.8868, 1.6713, 1.5845, 1.5261, 1.4866, 1.8535, 1.2154, 1.4623, 1.7504, 1.895, 1.7259, 1.6186, 1.7576, 0.6771, 1.6198, 1.7032, 0.7991, 0.7777, -0.4386, 0.5103, 0.5619, 0.8898, 0.4639, 0.5164, 1.2473, -0.021, 0.9112, 0.277, 0.5221, -0.0241, 0.5935, 0.9862, 0.4084, -0.4862, 0.6209, 0.1162, -0.3177, -0.0966, -0.0844, -0.1465, -0.5447, 2.484, 2.4713, 2.4198, 2.3957, 2.3071, 2.3071, 2.3067, 2.2959, 2.2644, 2.2265, 2.2239, 2.2076, 2.1705, 2.1602, 2.1589, 2.1509, 2.1032, 2.1015, 2.092, 2.0577, 2.0561, 2.0437, 2.0432, 2.0432, 2.0431, 2.043, 2.0429, 2.0428, 2.0424, 2.0424, 2.0372, 2.0406, 2.0105, 2.0335, 1.9865, 1.9578, 1.8914, 1.973, 1.9056, 1.9267, 1.6732, 1.83, 1.7245, 1.8406, 1.6819, 1.8807, 1.7141, 1.7009, 1.7852, 1.272, 1.2961, -0.3936, 0.7214, 0.9058, 0.425, 0.4071, 0.9604, 0.874, 0.5706, 1.0994, 0.8306, 0.1927, 0.1238, 0.5682, 0.288, 0.6791, 0.6686, 0.7237, -0.7346, 0.4202, -0.2975, -0.4859, 2.4222, 2.2712, 2.2573, 2.2548, 2.249, 2.2384, 2.2383, 2.228, 2.2097, 2.1717, 2.0261, 2.0079, 2.0019, 2.0004, 1.9769, 1.9717, 1.9592, 1.9247, 1.8415, 1.8172, 1.8109, 1.8106, 1.8104, 1.8097, 1.8043, 1.7882, 1.7864, 1.7859, 1.769, 1.759, 1.7376, 1.6216, 1.6688, 1.508, 1.5542, 1.612, 1.6313, 1.627, 1.1886, -0.1474, 0.4458, 1.1009, 0.7825, 0.5766, 0.6876, 0.6209, 0.4824, 0.3285, 0.9253, 1.0174, 0.1963, 0.1196, 0.326, 0.6956, 0.4081, 0.1843, -0.3079, 0.3738, 0.1392, 0.2871, 0.1789, 0.7163, 0.4377, 0.3595, 0.5827, 0.2906, 0.1792, -0.0902, 0.2921, 0.1011, 0.0716, -0.1111, 0.2159, 2.1304, 2.0818, 2.0578, 2.0287, 2.0246, 2.0222, 2.02, 2.0193, 2.0189, 2.0186, 2.0175, 2.0165, 2.0135, 2.0131, 2.0125, 2.0105, 2.0031, 2.001, 1.9994, 1.9973, 1.9945, 1.9935, 1.9924, 1.9913, 1.9557, 1.9215, 1.8984, 1.8861, 1.8696, 1.841, 1.8229, 1.7529, 1.6617, 1.7657, 1.7039, 1.5885, 1.2802, 1.5189, 1.553, 0.6639, 1.0771, 1.7116, 1.3746, 1.6124, 0.8617, 1.4354, -0.1692, 0.7926, 1.6739, 0.9585, 0.7041, 0.7607, 0.3101, 0.5286, 0.6648, 0.8126, 0.8689, 0.4471, 0.7598, 0.9397, 0.4613, 0.7829, -0.1947, 0.5755, 0.3417, -0.1527, 0.3855, 0.0747, 0.7052, 0.6197, 0.2649, 0.1026, 0.1696, 0.2789, 0.0329, -0.2675, 0.0977, 2.6668, 2.5863, 2.4162, 2.4055, 2.3845, 2.2861, 2.2861, 2.2861, 2.2861, 2.286, 2.286, 2.286, 2.286, 2.286, 2.2859, 2.2859, 2.2858, 2.2312, 2.2097, 2.2055, 2.1896, 2.1703, 2.1639, 2.1571, 2.1556, 2.1496, 2.147, 2.144, 2.144, 2.1424, 2.0653, 2.084, 2.0176, 1.9492, 1.7239, 1.78, 2.0553, 1.8647, 1.8762, 1.8611, 1.6192, 1.3887, 0.8858, 1.2664, 1.254, 1.7462, -0.2918, 1.9506, 1.7318, 0.9371, 0.5008, 0.3457, 1.5848, 0.3837, 0.2948, 0.4399, 0.6491, 0.5366, 0.2574, 0.7774, -0.0169, 0.7407, -0.1513, 0.4878, 0.5502, 0.4852, -0.1828, 0.2353, 0.4797, 0.1538, -0.0084, -0.699, 0.2442, -0.3309, -0.0413, 0.2521, -0.164, 2.4745, 2.3862, 2.3444, 2.3318, 2.3308, 2.315, 2.2763, 2.2618, 2.2341, 2.2271, 2.1543, 2.1316, 2.1202, 2.1201, 2.1191, 2.1174, 2.1131, 2.102, 2.0933, 2.0889, 2.0875, 2.0751, 2.0722, 2.0698, 2.0674, 2.0648, 2.0581, 2.0494, 2.046, 2.0454, 2.0436, 2.0441, 2.0197, 1.9926, 2.0097, 1.9966, 2.0305, 1.9049, 1.9516, 1.9476, 2.0154, 1.1301, 1.0685, 1.8793, 1.2573, 1.5939, 1.7428, -0.3153, 0.4692, 0.7722, 1.0561, 0.9243, 0.3497, 0.6326, 0.4496, 0.4859, 0.6467, 0.4009, 0.692, -0.1313, 0.5614, 0.3555, 0.2548, 0.338, 0.3296, 0.2414, 0.5496, 0.5182, -0.1168, -0.1513, 0.0471, 0.3053, -0.2095, -0.1705, -0.5016]}, \"token.table\": {\"Topic\": [1, 2, 3, 4, 5, 6, 7, 8, 9, 10, 1, 2, 3, 4, 5, 6, 7, 8, 9, 10, 4, 1, 4, 2, 2, 2, 4, 2, 4, 7, 8, 2, 1, 1, 2, 3, 4, 5, 6, 7, 8, 10, 1, 2, 3, 4, 5, 10, 1, 2, 3, 4, 5, 6, 7, 8, 10, 1, 1, 2, 3, 4, 5, 6, 7, 8, 9, 10, 3, 5, 3, 6, 7, 1, 5, 8, 10, 1, 3, 4, 1, 2, 3, 4, 5, 6, 7, 8, 9, 10, 1, 2, 3, 4, 5, 6, 7, 8, 9, 10, 1, 3, 5, 1, 6, 7, 2, 3, 1, 2, 3, 6, 8, 6, 8, 10, 7, 7, 1, 7, 2, 5, 1, 2, 7, 1, 2, 2, 7, 3, 5, 6, 6, 2, 3, 5, 9, 4, 2, 2, 2, 10, 8, 2, 6, 9, 10, 8, 7, 2, 8, 4, 9, 1, 2, 4, 2, 10, 1, 7, 1, 2, 3, 4, 7, 8, 9, 5, 1, 4, 4, 7, 7, 3, 4, 3, 8, 10, 3, 1, 2, 3, 4, 5, 6, 7, 9, 1, 4, 3, 4, 6, 2, 4, 8, 1, 6, 7, 8, 1, 2, 3, 4, 5, 6, 7, 8, 9, 10, 1, 2, 3, 4, 7, 8, 7, 3, 9, 4, 1, 2, 3, 4, 5, 8, 1, 2, 3, 4, 5, 6, 7, 8, 9, 10, 6, 7, 8, 5, 5, 6, 1, 4, 3, 1, 2, 4, 6, 7, 9, 10, 2, 2, 3, 4, 5, 8, 2, 9, 1, 2, 3, 4, 5, 6, 7, 8, 9, 10, 1, 6, 2, 7, 9, 8, 9, 1, 2, 4, 5, 6, 7, 9, 10, 1, 7, 9, 2, 10, 2, 7, 7, 2, 6, 9, 6, 10, 5, 4, 5, 4, 2, 3, 6, 7, 8, 1, 2, 4, 9, 4, 2, 3, 1, 2, 3, 4, 5, 6, 7, 8, 9, 10, 10, 4, 8, 10, 3, 2, 2, 1, 2, 3, 4, 5, 6, 7, 8, 9, 10, 1, 2, 3, 4, 5, 6, 7, 9, 10, 1, 2, 4, 6, 7, 7, 1, 9, 1, 2, 3, 4, 5, 6, 7, 8, 9, 4, 6, 1, 1, 2, 3, 4, 5, 6, 7, 8, 9, 10, 10, 1, 4, 8, 10, 1, 5, 1, 6, 8, 9, 1, 1, 2, 4, 5, 9, 10, 1, 4, 6, 1, 1, 4, 1, 4, 8, 1, 2, 3, 4, 5, 8, 9, 10, 1, 2, 10, 3, 4, 10, 6, 1, 9, 1, 7, 7, 1, 2, 4, 7, 8, 10, 6, 8, 1, 3, 1, 2, 3, 5, 6, 7, 8, 6, 8, 1, 8, 9, 1, 2, 3, 4, 5, 6, 7, 8, 9, 10, 1, 2, 3, 5, 8, 1, 2, 3, 4, 5, 6, 7, 8, 9, 10, 2, 2, 10, 1, 3, 6, 7, 8, 1, 2, 3, 4, 5, 6, 7, 1, 4, 4, 5, 5, 9, 1, 2, 3, 4, 5, 6, 7, 10, 1, 2, 3, 4, 5, 6, 7, 8, 9, 10, 7, 1, 2, 3, 4, 1, 2, 3, 4, 5, 6, 7, 8, 9, 6, 8, 1, 3, 6, 7, 8, 2, 4, 5, 2, 1, 2, 3, 4, 5, 6, 8, 9, 9, 1, 2, 3, 4, 5, 6, 7, 8, 9, 10, 1, 5, 5, 3, 4, 5, 6, 5, 5, 1, 2, 4, 5, 6, 7, 8, 9, 10, 1, 9, 4, 2, 2, 2, 5, 2, 7, 1, 2, 3, 4, 5, 6, 7, 8, 9, 10, 1, 2, 3, 4, 5, 6, 7, 8, 9, 10, 1, 7, 1, 2, 3, 4, 5, 6, 7, 8, 9, 10, 4, 10, 4, 1, 2, 3, 4, 5, 6, 7, 8, 9, 10, 1, 2, 3, 4, 5, 6, 7, 8, 9, 10, 1, 3, 10, 8, 1, 6, 7, 8, 6, 8, 5, 7, 1, 2, 3, 4, 5, 6, 7, 8, 9, 10, 9, 1, 2, 3, 4, 5, 6, 10, 4, 1, 2, 3, 4, 5, 8, 9, 7, 1, 3, 6, 7, 8, 1, 6, 8, 1, 2, 3, 4, 7, 9, 1, 7, 9, 1, 4, 1, 2, 3, 4, 5, 6, 7, 8, 9, 10, 1, 2, 3, 4, 5, 6, 7, 8, 9, 10, 9, 9, 1, 2, 1, 2, 3, 4, 5, 6, 7, 8, 9, 10, 7, 1, 2, 3, 4, 5, 6, 7, 8, 1, 2, 3, 4, 5, 6, 7, 8, 9, 10, 1, 2, 4, 7, 8, 1, 2, 3, 4, 5, 6, 7, 8, 9, 10, 3, 10, 1, 2, 3, 4, 5, 6, 7, 8, 9, 10, 1, 2, 3, 4, 5, 6, 7, 8, 9, 10, 1, 5, 1, 2, 3, 4, 5, 6, 7, 8, 9, 10, 1, 2, 3, 4, 5, 6, 7, 8, 9, 10, 1, 2, 3, 4, 5, 6, 7, 8, 9, 10, 3, 4, 8, 5, 1, 2, 4, 7, 8, 10, 1, 2, 3, 4, 5, 6, 7, 8, 9, 10, 2, 3, 2, 6, 4, 5, 9, 1, 2, 3, 4, 5, 6, 7, 8, 9, 10, 6, 2, 4, 5, 9, 3, 4, 3, 1, 2, 3, 4, 5, 6, 7, 8, 9, 10, 1, 2, 3, 4, 5, 6, 7, 8, 9, 10, 1, 2, 4, 7, 8, 6, 2, 6, 8, 3, 1, 2, 3, 4, 5, 6, 7, 8, 9, 10, 1, 2, 4, 6, 7, 9, 1, 2, 2, 1, 2, 6, 1, 9, 1, 2, 3, 4, 5, 6, 7, 8, 9, 10, 1, 2, 3, 4, 5, 7, 8, 9, 1, 2, 10, 1, 3, 4, 1, 9, 1, 10, 2, 1, 2, 3, 4, 5, 6, 7, 8, 9, 10, 7, 1, 2, 4, 5, 7, 9, 1, 3, 4, 9, 1, 2, 3, 4, 5, 6, 7, 8, 9, 10, 7, 1, 2, 4, 6, 7, 8, 10, 1, 2, 3, 4, 5, 6, 7, 8, 10, 3, 4, 5, 6, 10, 1, 7, 8, 1, 2, 3, 4, 5, 6, 7, 8, 9, 10, 1, 2, 3, 4, 5, 6, 8, 9, 1, 2, 3, 4, 5, 6, 7, 8, 9, 10, 1, 2, 3, 4, 5, 6, 8, 9, 2, 3, 4, 5, 7, 6, 1, 2, 3, 4, 7, 8, 9, 10, 1, 4, 10, 1, 2, 3, 4, 5, 6, 7, 8, 9, 10, 1, 2, 3, 4, 5, 6, 7, 8, 9, 10, 6, 2, 4, 5, 7, 8, 8, 7, 7, 1, 2, 8, 9, 2, 4, 3, 1, 2, 3, 4, 5, 6, 7, 8, 9, 10, 1, 2, 3, 4, 5, 6, 7, 8, 9, 10, 1, 2, 3, 4, 5, 6, 7, 8, 9, 10, 5, 4, 1, 2, 3, 4, 5, 6, 7, 8, 9, 10, 1, 2, 3, 4, 5, 6, 7, 8, 9, 10, 7, 1, 2, 3, 4, 5, 6, 7, 8, 9, 10, 9, 1, 2, 3, 4, 5, 10, 1, 1, 2, 3, 4, 5, 6, 7, 8, 9, 10, 2, 10, 1, 5, 1, 3, 4, 5, 9, 6, 1, 2, 3, 4, 5, 6, 7, 8, 9, 10, 9, 1, 5, 8, 5, 2, 3, 5, 9, 1, 2, 3, 4, 5, 6, 7, 8, 9, 10, 1, 2, 6, 7, 9, 10, 1, 2, 3, 4, 7, 9, 3, 3, 1, 1, 2, 3, 4, 5, 6, 7, 8, 9, 10, 1, 2, 5, 6, 8, 6, 5, 1, 2, 9, 8, 3, 4, 1, 1, 2, 4, 5, 7, 10, 8, 1, 2, 3, 4, 5, 6, 7, 8, 9, 10, 1, 2, 9, 1, 2, 3, 4, 6, 7, 8, 1, 2, 3, 4, 5, 6, 7, 8, 9, 10, 1, 2, 3, 4, 5, 6, 7, 8, 9, 10, 9, 3, 4, 1, 2, 3, 4, 5, 6, 7, 8, 9, 10, 1, 2, 3, 4, 5, 6, 7, 8, 9, 10, 1, 2, 3, 5, 6, 7, 8, 9, 4, 2, 3, 9, 9, 2, 1, 2, 3, 4, 5, 6, 7, 8, 9, 10, 1, 2, 3, 4, 5, 1, 2, 3, 4, 5, 10, 1, 2, 3, 4, 5, 6, 7, 8, 10, 9, 1, 2, 3, 4, 5, 6, 7, 8, 9, 10, 1, 2, 3, 4, 5, 6, 7, 8, 9, 10, 1, 7, 9, 1, 2, 3, 4, 5, 8, 9, 3, 5, 8, 1, 2, 3, 4, 5, 6, 7, 8, 9, 10, 1, 2, 3, 4, 5, 6, 7, 8, 9, 10, 3, 1, 2, 3, 4, 5, 6, 7, 8, 9, 10, 4, 1, 2, 3, 4, 5, 6, 7, 8, 9, 10, 1, 5, 2, 4, 5, 1, 10, 1, 2, 1, 2, 3, 4, 5, 6, 7, 8, 9, 10, 6, 1, 2, 3, 4, 5, 6, 7, 8, 9, 10, 3, 1, 2, 3, 4, 5, 6, 7, 8, 9, 10, 2, 8, 1, 2, 3, 4, 5, 6, 7, 8, 9, 10, 1, 6, 5, 9, 10, 8, 1, 6, 3, 6, 7, 9, 1, 2, 3, 4, 5, 6, 7, 8, 9, 10, 1, 3, 4, 9, 1, 2, 3, 4, 6, 7, 8, 9, 1, 2, 3, 4, 5, 6, 7, 8, 9, 10, 1, 2, 3, 4, 6, 7, 8, 9, 10, 1, 2, 3, 4, 5, 6, 7, 8, 9, 10, 6, 1, 3, 10, 4, 2, 4, 10, 8, 1, 2, 3, 4, 5, 6, 7, 8, 9, 10, 1, 2, 3, 4, 5, 6, 7, 8, 9, 10, 1, 2, 3, 4, 5, 6, 7, 8, 9, 10, 7, 1, 2, 3, 4, 5, 6, 7, 8, 9, 10, 10, 8, 1, 2, 3, 4, 5, 6, 7, 8, 9, 10, 8, 10, 8, 1, 2, 3, 4, 5, 6, 7, 8, 10, 3, 1, 6, 8, 1, 7, 9, 1, 3, 7, 2, 6, 7, 1, 1, 2, 3, 4, 5, 7, 8, 1, 2, 3, 4, 5, 6, 7, 8, 9, 4, 10, 1, 2, 3, 4, 5, 6, 10, 9, 1, 1, 2, 3, 4, 5, 6, 7, 8, 9, 10, 1, 9, 3, 8, 1, 2, 4, 3, 8, 10, 1, 2, 3, 4, 5, 6, 7, 8, 9, 10, 6, 10, 9, 9, 9, 5, 1, 2, 3, 4, 5, 6, 7, 8, 9, 1, 2, 3, 4, 5, 6, 7, 8, 9, 5, 8, 1, 2, 3, 4, 5, 6, 7, 8, 9, 10, 7, 2, 1, 2, 3, 4, 5, 6, 7, 8, 9, 10, 3, 6, 8, 10, 7, 1, 2, 3, 4, 5, 6, 7, 8, 9, 10, 3, 1, 2, 3, 4, 5, 6, 7, 8, 9, 10, 4, 2, 9, 1, 2, 3, 5, 6, 7, 8, 2, 8, 5, 1, 2, 3, 4, 5, 6, 7, 8, 9, 10, 1, 2, 3, 6, 8, 10, 3, 2, 6, 6, 5, 1, 2, 6, 7, 1, 2, 3, 4, 5, 6, 7, 8, 9, 1, 2, 3, 4, 5, 6, 7, 8, 9, 10, 1, 2, 3, 4, 5, 6, 7, 8, 9, 10, 1, 2, 3, 4, 5, 6, 7, 8, 9, 10, 1, 2, 3, 4, 5, 6, 7, 8, 9, 1, 2, 3, 4, 5, 6, 7, 8, 9, 8, 1, 1, 1, 2, 5, 1, 2, 3, 5, 7, 9, 1, 3, 6, 8, 1, 2, 3, 4, 5, 6, 7, 8, 9, 10, 1, 2, 7, 7, 1, 2, 3, 4, 5, 6, 7, 8, 9, 10, 1, 2, 3, 6, 7, 8, 9, 10, 8, 1, 2, 3, 4, 5, 6, 7, 8, 9, 10, 1, 1, 2, 3, 4, 5, 6, 7, 8, 9, 10, 1, 2, 3, 4, 5, 6, 7, 8, 9, 10, 5, 1, 2, 3, 4, 5, 6, 7, 8, 9, 10, 1, 2, 3, 4, 5, 6, 7, 8, 9, 10, 2, 10, 1, 2, 9, 1, 2, 3, 4, 5, 6, 7, 9, 1, 4, 3, 4, 1, 9, 3, 4, 8, 10, 7, 1, 2, 4, 9, 1, 2, 3, 4, 5, 6, 7, 8, 9, 10, 1, 2, 3, 4, 5, 6, 7, 8, 9, 10, 6, 8, 1, 2, 3, 4, 5, 6, 7, 8, 9, 1, 2, 5, 6, 7, 8, 1, 1, 2, 3, 4, 5, 6, 7, 8, 9, 10, 1, 2, 3, 4, 5, 6, 7, 8, 9, 5, 1, 2, 3, 4, 5, 8, 9, 1, 2, 3, 4, 5, 6, 7, 8, 9, 10, 1, 2, 3, 4, 5, 6, 7, 9, 1, 2, 3, 4, 5, 6, 7, 8, 9, 10, 4, 1, 2, 3, 5, 8, 1, 2, 3, 4, 5, 6, 7, 8, 9, 10, 1, 2, 3, 4, 5, 6, 7, 8, 9, 10], \"Freq\": [0.3203369623752981, 0.14949058244180577, 0.042711594983373076, 0.14949058244180577, 0.06406739247505962, 0.042711594983373076, 0.08542318996674615, 0.042711594983373076, 0.042711594983373076, 0.042711594983373076, 0.16326732134465954, 0.19592078561359144, 0.13061385707572762, 0.06530692853786381, 0.09796039280679572, 0.06530692853786381, 0.09796039280679572, 0.032653464268931905, 0.09796039280679572, 0.06530692853786381, 0.6499041135595776, 0.2345699495919437, 0.4691398991838874, 0.5539821924429305, 0.5540770717350112, 0.66740580228538, 0.22246860076179334, 0.23817731100730158, 0.23817731100730158, 0.23817731100730158, 0.23817731100730158, 0.727418517064605, 0.6816927466561453, 0.14367239768794657, 0.23945399614657764, 0.09578159845863105, 0.04789079922931552, 0.04789079922931552, 0.1915631969172621, 0.04789079922931552, 0.09578159845863105, 0.04789079922931552, 0.08748395532178072, 0.17496791064356143, 0.34993582128712286, 0.17496791064356143, 0.08748395532178072, 0.08748395532178072, 0.4112771338445526, 0.2127295519885617, 0.01418197013257078, 0.09927379092799545, 0.042545910397712335, 0.02836394026514156, 0.0709098506628539, 0.05672788053028312, 0.05672788053028312, 0.6947527317649409, 0.44542220057919024, 0.2121058097996144, 0.04242116195992288, 0.04242116195992288, 0.06363174293988431, 0.06363174293988431, 0.06363174293988431, 0.04242116195992288, 0.02121058097996144, 0.02121058097996144, 0.4467159721070432, 0.6424515469971376, 0.17745768471041395, 0.5323730541312419, 0.17745768471041395, 0.18005834029625387, 0.36011668059250773, 0.18005834029625387, 0.5119731030621826, 0.2167419677027223, 0.4334839354054446, 0.2167419677027223, 0.2301488484109199, 0.1933250326651727, 0.06444167755505757, 0.10126549330080475, 0.05523572361862077, 0.10126549330080475, 0.07364763149149436, 0.08285358542793116, 0.03682381574574718, 0.06444167755505757, 0.10697738022879388, 0.4100799575437099, 0.0713182534858626, 0.10697738022879388, 0.05348869011439694, 0.01782956337146565, 0.0713182534858626, 0.0356591267429313, 0.0356591267429313, 0.0713182534858626, 0.7739412185538659, 0.4134600075550405, 0.4251194095000725, 0.15620351661399806, 0.3124070332279961, 0.3124070332279961, 0.21292705767586897, 0.42585411535173795, 0.1231295304738476, 0.1231295304738476, 0.3693885914215428, 0.1231295304738476, 0.1231295304738476, 0.866863336840372, 0.40143743931805365, 0.40143743931805365, 0.48310213649815514, 0.7176307144744297, 0.4286701325244927, 0.4286701325244927, 0.5545438574104838, 0.6398405229586441, 0.5985665675950314, 0.14964164189875784, 0.14964164189875784, 0.17311282046160076, 0.692451281846403, 0.4427139470291622, 0.4427139470291622, 0.431997559510202, 0.6397369320607877, 0.6973123565664356, 0.8719630826636253, 0.23966750774252052, 0.23966750774252052, 0.23966750774252052, 0.23966750774252052, 0.6524517581824381, 0.5539862552882704, 0.5539219699173584, 0.5539819243613721, 0.40878628223135444, 0.7260983852528979, 0.7975894801646397, 0.4756082604540708, 0.3152582752353541, 0.3152582752353541, 0.7257334651748758, 0.7046825806488716, 0.33287297667116533, 0.33287297667116533, 0.5913969360926734, 0.2956984680463367, 0.1565390745101405, 0.626156298040562, 0.1565390745101405, 0.33923875079601673, 0.33923875079601673, 0.41372576284261897, 0.41372576284261897, 0.09777014543572389, 0.09777014543572389, 0.19554029087144778, 0.09777014543572389, 0.09777014543572389, 0.09777014543572389, 0.2933104363071717, 0.6396975133071574, 0.7024593369884073, 0.6491856167598354, 0.6503968381471977, 0.7131509719833737, 0.691372989032078, 0.6315601052713026, 0.6546906929501486, 0.20120441470397987, 0.20120441470397987, 0.40240882940795974, 0.6284095938864621, 0.5827984236603407, 0.14569960591508518, 0.09713307061005678, 0.09713307061005678, 0.04856653530502839, 0.04856653530502839, 0.04856653530502839, 0.04856653530502839, 0.20297583097015987, 0.40595166194031973, 0.6101420293344714, 0.3050710146672357, 0.4675440505629309, 0.3236173478207857, 0.16180867391039286, 0.3236173478207857, 0.1388147901225747, 0.41644437036772414, 0.1388147901225747, 0.1388147901225747, 0.33293396323185176, 0.2895077941146537, 0.04342616911719806, 0.07237694852866343, 0.05790155882293074, 0.05790155882293074, 0.02895077941146537, 0.04342616911719806, 0.014475389705732686, 0.05790155882293074, 0.5675530326664555, 0.06306144807405062, 0.06306144807405062, 0.06306144807405062, 0.18918434422215183, 0.06306144807405062, 0.48520943547723794, 0.6293467683475092, 0.5172938295315642, 0.6496796813051644, 0.06497656859065246, 0.06497656859065246, 0.3248828429532623, 0.06497656859065246, 0.38985941154391474, 0.06497656859065246, 0.5574924796331476, 0.05068113451210433, 0.025340567256052163, 0.12670283628026083, 0.025340567256052163, 0.025340567256052163, 0.025340567256052163, 0.025340567256052163, 0.0760217017681565, 0.05068113451210433, 0.47303412071071893, 0.15767804023690632, 0.15767804023690632, 0.6398942457242565, 0.23632158521563348, 0.47264317043126697, 0.4017301484725475, 0.4017301484725475, 0.8224611011430152, 0.4557054727327566, 0.16275195454741306, 0.03255039090948261, 0.13020156363793045, 0.06510078181896523, 0.06510078181896523, 0.06510078181896523, 0.7045600467267688, 0.130264484128467, 0.390793452385401, 0.260528968256934, 0.130264484128467, 0.7098093728642623, 0.47583714402932314, 0.47583714402932314, 0.45895610884139587, 0.0764926848068993, 0.10199024640919907, 0.10199024640919907, 0.025497561602299768, 0.050995123204599535, 0.050995123204599535, 0.025497561602299768, 0.0764926848068993, 0.0764926848068993, 0.16826816574742862, 0.5048044972422858, 0.18359076379038958, 0.18359076379038958, 0.36718152758077915, 0.7261565692727665, 0.7657138969478738, 0.28155770269482483, 0.14077885134741241, 0.14077885134741241, 0.07038942567370621, 0.07038942567370621, 0.21116827702111865, 0.07038942567370621, 0.07038942567370621, 0.633784612323943, 0.15844615308098575, 0.15844615308098575, 0.5541174722716103, 0.5121826013615556, 0.4386356471719404, 0.4386356471719404, 0.4833074277108685, 0.7041744369519639, 0.5589584249676884, 0.765812027103219, 0.5603955508679882, 0.5311664963641359, 0.6397265914136904, 0.6497770241712442, 0.8516966624396372, 0.4112171444459569, 0.1398778556155576, 0.1398778556155576, 0.5595114224622304, 0.1398778556155576, 0.7257561257684843, 0.17740272967400503, 0.7096109186960201, 0.17740272967400503, 0.7656860400196958, 0.6497818976648901, 0.24833979178894214, 0.4966795835778843, 0.22043901197178437, 0.07347967065726145, 0.11021950598589218, 0.11021950598589218, 0.11021950598589218, 0.07347967065726145, 0.11021950598589218, 0.07347967065726145, 0.11021950598589218, 0.036739835328630725, 0.5096259642019783, 0.4160118244819387, 0.3988487123913366, 0.3988487123913366, 0.6329698518970605, 0.8362175706081474, 0.7941929989861533, 0.2757843108606178, 0.2206274486884942, 0.08579956337885887, 0.18998474748175892, 0.042899781689429435, 0.030642701206735307, 0.042899781689429435, 0.04902832193077649, 0.024514160965388245, 0.03677124144808237, 0.5895472581427105, 0.07860630108569473, 0.07860630108569473, 0.07860630108569473, 0.039303150542847366, 0.019651575271423683, 0.039303150542847366, 0.05895472581427105, 0.019651575271423683, 0.7770999488548244, 0.08634443876164714, 0.08634443876164714, 0.5966954987141567, 0.19889849957138558, 0.48291261821888704, 0.5079418474642651, 0.169313949154755, 0.12232031908905709, 0.15290039886132137, 0.18348047863358563, 0.12232031908905709, 0.12232031908905709, 0.12232031908905709, 0.061160159544528546, 0.061160159544528546, 0.030580079772264273, 0.6497299999467909, 0.4733473791452069, 0.6676564104720742, 0.573849433960002, 0.15449792452769284, 0.022071132075384692, 0.08828452830153877, 0.022071132075384692, 0.044142264150769384, 0.022071132075384692, 0.022071132075384692, 0.022071132075384692, 0.022071132075384692, 0.40158678417768506, 0.2377817166902729, 0.2377817166902729, 0.2377817166902729, 0.2377817166902729, 0.28038198695228445, 0.5607639739045689, 0.7417410600339386, 0.45152442824193184, 0.271957259390843, 0.271957259390843, 0.7210850587149098, 0.13870137232523527, 0.48545480313832345, 0.2080520584878529, 0.03467534308130882, 0.10402602924392645, 0.03467534308130882, 0.2961837767054498, 0.4442756650581747, 0.7217170736988732, 0.6857462331425473, 0.4040373813582727, 0.4040373813582727, 0.26643534629947707, 0.26643534629947707, 0.3996530194492156, 0.07738538875057387, 0.07738538875057387, 0.15477077750114773, 0.30954155500229547, 0.07738538875057387, 0.07738538875057387, 0.07738538875057387, 0.07738538875057387, 0.6553440602843157, 0.13106881205686313, 0.13106881205686313, 0.7799614816395546, 0.43923065724632515, 0.5323627481106631, 0.47555523281306816, 0.3290838121073324, 0.3290838121073324, 0.23162501375250305, 0.6948750412575092, 0.48434317171944613, 0.6747725639188573, 0.09639608055983677, 0.09639608055983677, 0.09639608055983677, 0.09639608055983677, 0.09639608055983677, 0.42148058722346216, 0.1404935290744874, 0.6711665600757455, 0.4098049534682883, 0.09545414706346697, 0.047727073531733485, 0.047727073531733485, 0.047727073531733485, 0.4295436617856014, 0.09545414706346697, 0.19090829412693394, 0.21414386945617436, 0.4282877389123487, 0.4262535119980027, 0.4262535119980027, 0.7656973551295859, 0.1854446620221202, 0.22665458691592472, 0.10302481223451124, 0.08241984978760898, 0.12362977468141348, 0.12362977468141348, 0.020604962446902245, 0.08241984978760898, 0.04120992489380449, 0.020604962446902245, 0.13505322832275415, 0.13505322832275415, 0.13505322832275415, 0.5402129132910166, 0.7261625846521075, 0.32490230241616863, 0.4409388389933717, 0.023207307315440615, 0.023207307315440615, 0.023207307315440615, 0.023207307315440615, 0.04641461463088123, 0.023207307315440615, 0.023207307315440615, 0.04641461463088123, 0.5468121182934744, 0.3733876737665465, 0.3733876737665465, 0.06109911903001897, 0.06109911903001897, 0.3665947141801138, 0.12219823806003793, 0.3665947141801138, 0.39998105886325636, 0.33331754905271366, 0.03333175490527136, 0.03333175490527136, 0.06666350981054273, 0.03333175490527136, 0.03333175490527136, 0.6980775145678868, 0.6497024868456955, 0.5494268372571842, 0.2747134186285921, 0.6584277530918252, 0.7601103833147926, 0.3017407892010636, 0.0754351973002659, 0.0754351973002659, 0.3017407892010636, 0.0754351973002659, 0.0754351973002659, 0.0754351973002659, 0.0754351973002659, 0.3635294040355858, 0.27264705302668935, 0.07573529250741372, 0.04544117550444823, 0.06058823400593097, 0.030294117002965484, 0.04544117550444823, 0.04544117550444823, 0.015147058501482742, 0.030294117002965484, 0.7073684614666033, 0.15075940337136395, 0.15075940337136395, 0.45227821011409186, 0.15075940337136395, 0.151764738241418, 0.12141179059313441, 0.18211768588970162, 0.12141179059313441, 0.09105884294485081, 0.12141179059313441, 0.060705895296567204, 0.09105884294485081, 0.030352947648283602, 0.4158013178629175, 0.20790065893145876, 0.1008198381160663, 0.1008198381160663, 0.4032793524642652, 0.1008198381160663, 0.2016396762321326, 0.24512748806909337, 0.24512748806909337, 0.49025497613818675, 0.7030368954189936, 0.15718868420092902, 0.07859434210046451, 0.07859434210046451, 0.15718868420092902, 0.31437736840185804, 0.07859434210046451, 0.07859434210046451, 0.07859434210046451, 0.7657579660914421, 0.5040099506991742, 0.11630998862288637, 0.03876999620762879, 0.07753999241525758, 0.03876999620762879, 0.03876999620762879, 0.03876999620762879, 0.03876999620762879, 0.03876999620762879, 0.03876999620762879, 0.7550088061692388, 0.8473013872468632, 0.6423384283642188, 0.6100804750830816, 0.3050402375415408, 0.6416465626299724, 0.6974128688187795, 0.6417700971866231, 0.6421493217049904, 0.35130614834793905, 0.1916215354625122, 0.15968461288542685, 0.03193692257708537, 0.06387384515417074, 0.1277476903083415, 0.03193692257708537, 0.03193692257708537, 0.03193692257708537, 0.4900899234259714, 0.2450449617129857, 0.43484120323670844, 0.6510612857327613, 0.7368997835713532, 0.5540253716938914, 0.6260502687487269, 0.7288530822100037, 0.6932018210952439, 0.21954953116144504, 0.26345943739373406, 0.11709308328610402, 0.13172971869686703, 0.07318317705381501, 0.07318317705381501, 0.029273270821526004, 0.043909906232289006, 0.014636635410763002, 0.014636635410763002, 0.43976180752538196, 0.28144755681624445, 0.035180944602030556, 0.052771416903045834, 0.017590472301015278, 0.017590472301015278, 0.035180944602030556, 0.035180944602030556, 0.052771416903045834, 0.035180944602030556, 0.3124735981239372, 0.3124735981239372, 0.4260266526226456, 0.15036234798446316, 0.06265097832685965, 0.08771136965760351, 0.05012078266148772, 0.02506039133074386, 0.06265097832685965, 0.03759058699611579, 0.06265097832685965, 0.03759058699611579, 0.3651070387356691, 0.3651070387356691, 0.6492282689186024, 0.21356372517475872, 0.21356372517475872, 0.049283936578790474, 0.09856787315758095, 0.1314238308767746, 0.0657119154383873, 0.08213989429798413, 0.0657119154383873, 0.03285595771919365, 0.0657119154383873, 0.2329041357233461, 0.13308807755619775, 0.09981605816714832, 0.13308807755619775, 0.06654403877809888, 0.1663600969452472, 0.03327201938904944, 0.03327201938904944, 0.06654403877809888, 0.03327201938904944, 0.23731400560602742, 0.23731400560602742, 0.23731400560602742, 0.38859224335300585, 0.29753989191902364, 0.3967198558920315, 0.09917996397300788, 0.09917996397300788, 0.23696575616311863, 0.47393151232623726, 0.4252427826589256, 0.7178561901602158, 0.4136314919576886, 0.14387182328963083, 0.08991988955601928, 0.07193591164481541, 0.03596795582240771, 0.07193591164481541, 0.05395193373361156, 0.08991988955601928, 0.03596795582240771, 0.017983977911203854, 0.7658349409497474, 0.2797272585025127, 0.18648483900167512, 0.09324241950083756, 0.09324241950083756, 0.2797272585025127, 0.09324241950083756, 0.09324241950083756, 0.6496166800329201, 0.051449481541655316, 0.2572474077082766, 0.051449481541655316, 0.051449481541655316, 0.3086968892499319, 0.051449481541655316, 0.20579792616662126, 0.717780301937155, 0.11691218057489998, 0.11691218057489998, 0.4676487222995999, 0.23382436114979996, 0.11691218057489998, 0.1275378385558755, 0.38261351566762647, 0.255075677111751, 0.1167526206321523, 0.4670104825286092, 0.17512893094822846, 0.05837631031607615, 0.05837631031607615, 0.05837631031607615, 0.5531499370767327, 0.18438331235891087, 0.7451402899265755, 0.30282466581520273, 0.6056493316304055, 0.5066370966335275, 0.1788130929294803, 0.029802182154913384, 0.05960436430982677, 0.05960436430982677, 0.029802182154913384, 0.029802182154913384, 0.029802182154913384, 0.029802182154913384, 0.029802182154913384, 0.36030764210913147, 0.126107674738196, 0.0720615284218263, 0.1441230568436526, 0.05404614631636972, 0.03603076421091315, 0.0720615284218263, 0.09007691052728287, 0.03603076421091315, 0.03603076421091315, 0.7658133019222626, 0.7657342883929058, 0.26347588130006994, 0.5269517626001399, 0.3279200346842457, 0.13116801387369828, 0.06558400693684914, 0.13116801387369828, 0.03279200346842457, 0.06558400693684914, 0.03279200346842457, 0.06558400693684914, 0.06558400693684914, 0.0983760104052737, 0.605021811785878, 0.11644197490185854, 0.11644197490185854, 0.05822098745092927, 0.05822098745092927, 0.05822098745092927, 0.3493259247055756, 0.05822098745092927, 0.1746629623527878, 0.291933685047357, 0.15719506117934606, 0.0898257492453406, 0.11228218655667577, 0.06736931193400546, 0.0449128746226703, 0.06736931193400546, 0.02245643731133515, 0.0449128746226703, 0.06736931193400546, 0.14326833635145916, 0.2865366727029183, 0.14326833635145916, 0.14326833635145916, 0.2865366727029183, 0.3766044347067129, 0.1673797487585391, 0.23014715454299123, 0.020922468594817386, 0.04184493718963477, 0.020922468594817386, 0.04184493718963477, 0.04184493718963477, 0.020922468594817386, 0.020922468594817386, 0.5029669496854178, 0.8041261022831024, 0.2158358150296304, 0.24666950289100617, 0.09250106358412731, 0.12333475144550309, 0.06166737572275154, 0.03083368786137577, 0.03083368786137577, 0.12333475144550309, 0.06166737572275154, 0.03083368786137577, 0.19230836205105084, 0.14957317048415064, 0.14957317048415064, 0.17094076626760074, 0.042735191566900185, 0.021367595783450093, 0.08547038313380037, 0.042735191566900185, 0.06410278735035027, 0.08547038313380037, 0.5096260877051386, 0.6397716575873109, 0.44616220445748883, 0.08923244089149776, 0.08923244089149776, 0.08923244089149776, 0.14872073481916295, 0.02974414696383259, 0.02974414696383259, 0.02974414696383259, 0.02974414696383259, 0.02974414696383259, 0.28728784333626595, 0.33264908175778163, 0.060481651228687566, 0.060481651228687566, 0.060481651228687566, 0.060481651228687566, 0.060481651228687566, 0.060481651228687566, 0.015120412807171892, 0.015120412807171892, 0.05085592205490704, 0.22037566223793054, 0.32208750634774463, 0.10171184410981408, 0.05085592205490704, 0.016951974018302347, 0.033903948036604695, 0.05085592205490704, 0.06780789607320939, 0.05085592205490704, 0.19273388046297946, 0.5782016413889384, 0.19273388046297946, 0.8517168810881498, 0.14308016145332475, 0.14308016145332475, 0.14308016145332475, 0.14308016145332475, 0.14308016145332475, 0.14308016145332475, 0.18270211967553682, 0.36540423935107363, 0.10962127180532209, 0.03654042393510736, 0.07308084787021472, 0.03654042393510736, 0.03654042393510736, 0.07308084787021472, 0.10962127180532209, 0.03654042393510736, 0.20567843565871402, 0.6170353069761421, 0.22609375154459457, 0.45218750308918915, 0.18981910809298147, 0.37963821618596294, 0.18981910809298147, 0.20571326358888403, 0.2514273221641916, 0.09142811715061512, 0.1371421757259227, 0.06857108786296134, 0.04571405857530756, 0.06857108786296134, 0.02285702928765378, 0.06857108786296134, 0.04571405857530756, 0.6972983829903923, 0.6470717150344341, 0.6500850017506524, 0.6398460941415091, 0.6494967453829006, 0.6427642882782778, 0.21425476275942593, 0.6331053570258818, 0.2348892268299113, 0.19403892651166588, 0.09191317571605225, 0.08170060063649089, 0.04085030031824544, 0.10212575079561362, 0.07148802555692953, 0.11233832587517498, 0.04085030031824544, 0.02042515015912272, 0.31272214824327443, 0.06949381072072766, 0.20848143216218298, 0.13898762144145532, 0.06949381072072766, 0.03474690536036383, 0.03474690536036383, 0.03474690536036383, 0.03474690536036383, 0.06949381072072766, 0.2465236830729094, 0.2465236830729094, 0.1232618415364547, 0.1232618415364547, 0.2465236830729094, 0.6972653732468608, 0.2748129960834239, 0.2748129960834239, 0.2748129960834239, 0.6137985765653655, 0.08671990418523602, 0.04335995209261801, 0.3035196646483261, 0.04335995209261801, 0.08671990418523602, 0.04335995209261801, 0.08671990418523602, 0.13007985627785404, 0.04335995209261801, 0.13007985627785404, 0.06862202280779531, 0.4803541596545672, 0.27448809123118123, 0.06862202280779531, 0.06862202280779531, 0.06862202280779531, 0.7639381166663978, 0.19098452916659944, 0.554498214053437, 0.23761832042297673, 0.47523664084595346, 0.11880916021148837, 0.5136879613753642, 0.7657329631530204, 0.2870994723537988, 0.16149345319901182, 0.0717748680884497, 0.08971858511056212, 0.12560601915478697, 0.0717748680884497, 0.0717748680884497, 0.0717748680884497, 0.03588743404422485, 0.03588743404422485, 0.33867701363507074, 0.12700388011315153, 0.16933850681753537, 0.04233462670438384, 0.16933850681753537, 0.04233462670438384, 0.04233462670438384, 0.04233462670438384, 0.24434380793185928, 0.6108595198296481, 0.12217190396592964, 0.18700341953223368, 0.18700341953223368, 0.37400683906446736, 0.5845355443055446, 0.19484518143518154, 0.39648369997300387, 0.39648369997300387, 0.663065168326551, 0.29767956139017204, 0.13739056679546402, 0.09159371119697601, 0.09159371119697601, 0.09159371119697601, 0.04579685559848801, 0.09159371119697601, 0.04579685559848801, 0.04579685559848801, 0.04579685559848801, 0.7191505255578171, 0.1827093199135328, 0.12180621327568855, 0.1827093199135328, 0.3654186398270656, 0.060903106637844276, 0.060903106637844276, 0.19479890141087686, 0.19479890141087686, 0.19479890141087686, 0.19479890141087686, 0.2393060190366934, 0.1675142133256854, 0.07179180571100803, 0.1196530095183467, 0.1196530095183467, 0.09572240761467736, 0.04786120380733868, 0.09572240761467736, 0.02393060190366934, 0.04786120380733868, 0.7128820112938686, 0.11892368677591894, 0.11892368677591894, 0.11892368677591894, 0.11892368677591894, 0.11892368677591894, 0.35677106032775685, 0.11892368677591894, 0.17075722295666879, 0.37566589050467136, 0.10245433377400127, 0.06830288918266751, 0.034151444591333756, 0.034151444591333756, 0.06830288918266751, 0.06830288918266751, 0.06830288918266751, 0.41242632141844954, 0.39705149559632, 0.19852574779816, 0.19852574779816, 0.19852574779816, 0.6464251395120848, 0.30110871571084624, 0.30110871571084624, 0.24815353922802783, 0.22333818530522503, 0.1488921235368167, 0.07444606176840834, 0.04963070784560557, 0.07444606176840834, 0.04963070784560557, 0.024815353922802784, 0.07444606176840834, 0.04963070784560557, 0.19603694120619714, 0.06534564706873237, 0.06534564706873237, 0.06534564706873237, 0.39207388241239427, 0.06534564706873237, 0.13069129413746475, 0.06534564706873237, 0.36729169100499776, 0.21189905250288332, 0.05650641400076889, 0.07063301750096111, 0.04237981050057667, 0.14126603500192222, 0.014126603500192222, 0.05650641400076889, 0.04237981050057667, 0.014126603500192222, 0.1914043757122652, 0.2871065635683978, 0.0957021878561326, 0.0478510939280663, 0.0478510939280663, 0.0957021878561326, 0.1435532817841989, 0.0478510939280663, 0.26416886017008145, 0.3962532902551222, 0.13208443008504073, 0.13208443008504073, 0.13208443008504073, 0.4588719055491286, 0.1402975800713585, 0.18706344009514467, 0.1402975800713585, 0.18706344009514467, 0.04676586002378617, 0.09353172004757233, 0.09353172004757233, 0.1402975800713585, 0.19280642965376515, 0.3856128593075303, 0.19280642965376515, 0.25099557713905557, 0.15059734628343335, 0.20079646171124446, 0.10039823085562223, 0.07529867314171668, 0.050199115427811115, 0.050199115427811115, 0.025099557713905558, 0.050199115427811115, 0.025099557713905558, 0.383271594688684, 0.14905006460115489, 0.04258573274318711, 0.11711076504376455, 0.07452503230057744, 0.04258573274318711, 0.08517146548637422, 0.04258573274318711, 0.03193929955739033, 0.03193929955739033, 0.697350410486311, 0.24380086780188454, 0.24380086780188454, 0.48760173560376907, 0.46905924339240296, 0.7259643911722571, 0.7258210041314582, 0.49328288021530736, 0.4909793206439791, 0.4219611798602319, 0.1406537266200773, 0.1406537266200773, 0.2813074532401546, 0.25728693881998144, 0.5145738776399629, 0.607865591299769, 0.23152076052207424, 0.19293396710172853, 0.11576038026103712, 0.13505377697120996, 0.05788019013051856, 0.05788019013051856, 0.05788019013051856, 0.07717358684069141, 0.019293396710172852, 0.038586793420345704, 0.30459267951882113, 0.20306178634588076, 0.060918535903764226, 0.0812247145383523, 0.0812247145383523, 0.060918535903764226, 0.04061235726917615, 0.12183707180752845, 0.020306178634588074, 0.020306178634588074, 0.27783742172685766, 0.1923489842724399, 0.04274421872720887, 0.04274421872720887, 0.08548843745441774, 0.17097687490883548, 0.10686054681802218, 0.04274421872720887, 0.021372109363604435, 0.021372109363604435, 0.6428089729056111, 0.41306480279331004, 0.21204628207357223, 0.21204628207357223, 0.03029232601051032, 0.18175395606306194, 0.06058465202102064, 0.06058465202102064, 0.06058465202102064, 0.06058465202102064, 0.06058465202102064, 0.03029232601051032, 0.2817209062591791, 0.1609833750052452, 0.0402458437513113, 0.0804916875026226, 0.0402458437513113, 0.0804916875026226, 0.12073753125393391, 0.1609833750052452, 0.0402458437513113, 0.0402458437513113, 0.7202124275533053, 0.464387194003681, 0.06634102771481157, 0.06634102771481157, 0.14926731235832602, 0.016585256928702892, 0.06634102771481157, 0.06634102771481157, 0.033170513857405784, 0.049755770786108676, 0.016585256928702892, 0.765663828357058, 0.1275759475007957, 0.19136392125119356, 0.2551518950015914, 0.19136392125119356, 0.1275759475007957, 0.06378797375039785, 0.7047649912292749, 0.3134143919790024, 0.13929528532400107, 0.03482382133100027, 0.06964764266200053, 0.13929528532400107, 0.03482382133100027, 0.06964764266200053, 0.1044714639930008, 0.06964764266200053, 0.03482382133100027, 0.35911337669601734, 0.35911337669601734, 0.24483603553504352, 0.48967207107008703, 0.2621847048340517, 0.3932770572510776, 0.13109235241702585, 0.13109235241702585, 0.13109235241702585, 0.4755787603305915, 0.31154624655997093, 0.1453882483946531, 0.1453882483946531, 0.10384874885332365, 0.08307899908265892, 0.06230924931199419, 0.04153949954132946, 0.06230924931199419, 0.04153949954132946, 0.02076974977066473, 0.765733722676763, 0.5973953689036041, 0.1991317896345347, 0.7248084026735764, 0.6426521311114682, 0.1686800828748249, 0.3373601657496498, 0.1686800828748249, 0.7490478201411074, 0.3149976443055526, 0.16799874362962805, 0.08399937181481403, 0.10499921476851753, 0.06299952886111052, 0.06299952886111052, 0.08399937181481403, 0.06299952886111052, 0.04199968590740701, 0.020999842953703506, 0.5520386166401331, 0.1104077233280266, 0.0552038616640133, 0.0552038616640133, 0.1656115849920399, 0.0552038616640133, 0.08195913686094677, 0.5737139580266274, 0.08195913686094677, 0.08195913686094677, 0.08195913686094677, 0.08195913686094677, 0.6315830295227187, 0.6043140623117962, 0.5096715951554511, 0.29644601261238185, 0.2635075667665617, 0.09881533753746062, 0.06587689169164042, 0.03293844584582021, 0.03293844584582021, 0.03293844584582021, 0.03293844584582021, 0.13175378338328084, 0.03293844584582021, 0.08962184640557891, 0.08962184640557891, 0.08962184640557891, 0.5377310784334735, 0.17924369281115782, 0.6973060464581784, 0.641538857325729, 0.6534716489543071, 0.1306943297908614, 0.1306943297908614, 0.72602328624127, 0.4207414179710248, 0.2103707089855124, 0.7519100017817085, 0.08517039988068241, 0.5110223992840945, 0.08517039988068241, 0.08517039988068241, 0.08517039988068241, 0.08517039988068241, 0.7262041619623878, 0.3504863310680762, 0.16920029775700232, 0.13294309109478752, 0.13294309109478752, 0.02417147110814319, 0.03625720666221478, 0.03625720666221478, 0.02417147110814319, 0.060428677770357965, 0.02417147110814319, 0.20505704710086436, 0.20505704710086436, 0.41011409420172873, 0.16286252981121693, 0.2442937947168254, 0.16286252981121693, 0.20357816226402117, 0.04071563245280423, 0.1221468973584127, 0.04071563245280423, 0.3794323052536535, 0.26700791851183026, 0.07026524171363954, 0.09837133839909536, 0.04215914502818373, 0.028106096685455818, 0.04215914502818373, 0.028106096685455818, 0.028106096685455818, 0.028106096685455818, 0.2498756378179507, 0.1362958024461549, 0.1362958024461549, 0.09086386829743662, 0.04543193414871831, 0.04543193414871831, 0.022715967074359154, 0.1362958024461549, 0.022715967074359154, 0.11357983537179576, 0.7505596901408298, 0.6273849259025861, 0.6504907400179826, 0.23938663968042156, 0.1675706477762951, 0.07181599190412648, 0.07181599190412648, 0.1675706477762951, 0.07181599190412648, 0.04787732793608431, 0.07181599190412648, 0.023938663968042156, 0.07181599190412648, 0.3518814474838324, 0.21992590467739523, 0.04398518093547905, 0.10996295233869761, 0.04398518093547905, 0.021992590467739524, 0.0879703618709581, 0.06597777140321857, 0.04398518093547905, 0.021992590467739524, 0.19991673773167318, 0.09995836886583659, 0.09995836886583659, 0.19991673773167318, 0.19991673773167318, 0.049979184432918294, 0.09995836886583659, 0.09995836886583659, 0.6496070690865178, 0.5545269273100896, 0.7463998889135831, 0.18659997222839578, 0.5109436425150826, 0.7256061945769343, 0.21673785116533345, 0.13933147574914292, 0.13933147574914292, 0.13933147574914292, 0.030962550166476206, 0.04644382524971431, 0.04644382524971431, 0.06192510033295241, 0.030962550166476206, 0.12385020066590482, 0.11888425053200265, 0.11888425053200265, 0.35665275159600796, 0.11888425053200265, 0.11888425053200265, 0.1368647139232962, 0.20529707088494428, 0.2737294278465924, 0.0684323569616481, 0.1368647139232962, 0.0684323569616481, 0.15072904724056368, 0.15072904724056368, 0.11304678543042276, 0.03768226181014092, 0.03768226181014092, 0.22609357086084553, 0.07536452362028184, 0.1884113090507046, 0.03768226181014092, 0.735765652883185, 0.3738112966427247, 0.11681603020085148, 0.16354244228119208, 0.07008961812051089, 0.04672641208034059, 0.023363206040170295, 0.07008961812051089, 0.04672641208034059, 0.04672641208034059, 0.023363206040170295, 0.29809989166040135, 0.20637684807258552, 0.11465380448476974, 0.1375845653817237, 0.022930760896953947, 0.06879228269086185, 0.06879228269086185, 0.022930760896953947, 0.022930760896953947, 0.022930760896953947, 0.2626261204988422, 0.2626261204988422, 0.7436370635408408, 0.1342306202839459, 0.20134593042591883, 0.06711531014197294, 0.1342306202839459, 0.40269186085183767, 0.03355765507098647, 0.03355765507098647, 0.7299445495036943, 0.5185310830221457, 0.25926554151107284, 0.6132473073006169, 0.09434573958471029, 0.047172869792355146, 0.07075930468853271, 0.023586434896177573, 0.047172869792355146, 0.023586434896177573, 0.023586434896177573, 0.047172869792355146, 0.023586434896177573, 0.4466732149735031, 0.1737062502674734, 0.049630357219278116, 0.049630357219278116, 0.024815178609639058, 0.049630357219278116, 0.07444553582891718, 0.024815178609639058, 0.049630357219278116, 0.024815178609639058, 0.42556679557946525, 0.24076964883056182, 0.2751653129492135, 0.13758265647460674, 0.08598916029662922, 0.06879132823730337, 0.017197832059325843, 0.034395664118651685, 0.034395664118651685, 0.034395664118651685, 0.034395664118651685, 0.6491653076697754, 0.1985986645325809, 0.2234234975991535, 0.12412416533286307, 0.09929933226629045, 0.12412416533286307, 0.07447449919971784, 0.049649666133145226, 0.049649666133145226, 0.049649666133145226, 0.024824833066572613, 0.7312032922445368, 0.4249847764952352, 0.24473244417908968, 0.24473244417908968, 0.48946488835817936, 0.29966291384703814, 0.29966291384703814, 0.17989774137373699, 0.539693224121211, 0.30683596307078315, 0.1789876451246235, 0.07670899076769579, 0.07670899076769579, 0.05113932717846385, 0.07670899076769579, 0.05113932717846385, 0.1022786543569277, 0.05113932717846385, 0.025569663589231927, 0.697397130549628, 0.28940869009465076, 0.15232036320771092, 0.10662425424539765, 0.09139221792462655, 0.06092814528308437, 0.04569610896231328, 0.10662425424539765, 0.030464072641542186, 0.04569610896231328, 0.04569610896231328, 0.409698252246547, 0.21350577671682103, 0.18300495147156087, 0.09150247573578044, 0.06100165049052029, 0.06100165049052029, 0.15250412622630072, 0.06100165049052029, 0.06100165049052029, 0.030500825245260144, 0.030500825245260144, 0.7036163403798141, 0.7259736590173603, 0.3696295301386768, 0.23272970416138908, 0.054759930390915076, 0.08213989558637262, 0.027379965195457538, 0.04106994779318631, 0.04106994779318631, 0.027379965195457538, 0.08213989558637262, 0.054759930390915076, 0.1929987387498461, 0.5789962162495383, 0.639775838130099, 0.7383640270276839, 0.5197326344020912, 0.7268279004342045, 0.5098433769220861, 0.6971827856083491, 0.40932248516243436, 0.4754395519874416, 0.2377197759937208, 0.5415202245394516, 0.44722472504732264, 0.10098622823649221, 0.10098622823649221, 0.144266040337846, 0.028853208067569202, 0.04327981210135381, 0.014426604033784601, 0.028853208067569202, 0.057706416135138404, 0.04327981210135381, 0.6277331468347328, 0.10462219113912213, 0.10462219113912213, 0.10462219113912213, 0.14438179373521726, 0.24063632289202877, 0.0962545291568115, 0.2887635874704345, 0.0962545291568115, 0.0962545291568115, 0.04812726457840575, 0.04812726457840575, 0.1239917371763646, 0.18598760576454687, 0.15498967147045573, 0.2789814086468203, 0.03099793429409115, 0.03099793429409115, 0.09299380288227344, 0.03099793429409115, 0.0619958685881823, 0.03099793429409115, 0.5557359265550035, 0.10420048622906317, 0.10420048622906317, 0.03473349540968772, 0.03473349540968772, 0.03473349540968772, 0.03473349540968772, 0.03473349540968772, 0.03473349540968772, 0.2559240017207395, 0.2735739328738939, 0.08824965576577222, 0.08824965576577222, 0.07059972461261778, 0.04412482788288611, 0.02647489672973167, 0.05294979345946334, 0.04412482788288611, 0.06177475903604056, 0.4576576553725647, 0.21688635105416815, 0.21688635105416815, 0.4337727021083363, 0.6518237441108166, 0.6206588291465641, 0.12413176582931282, 0.12413176582931282, 0.48827927472568905, 0.3243810599819763, 0.16219052999098815, 0.09268030285199323, 0.11585037856499153, 0.06951022713899492, 0.046340151425996616, 0.023170075712998308, 0.11585037856499153, 0.023170075712998308, 0.023170075712998308, 0.2782100848262711, 0.22256806786101688, 0.08346302544788133, 0.08346302544788133, 0.02782100848262711, 0.02782100848262711, 0.08346302544788133, 0.02782100848262711, 0.08346302544788133, 0.08346302544788133, 0.19973253651931686, 0.16644378043276403, 0.03328875608655281, 0.06657751217310562, 0.03328875608655281, 0.16644378043276403, 0.09986626825965843, 0.13315502434621124, 0.03328875608655281, 0.06657751217310562, 0.7128566804234387, 0.3106180337077752, 0.2070786891385168, 0.06212360674155504, 0.08283147565540672, 0.02070786891385168, 0.06212360674155504, 0.04141573782770336, 0.04141573782770336, 0.1035393445692584, 0.04141573782770336, 0.5163369583612023, 0.7247310274390076, 0.284845120871069, 0.129475054941395, 0.129475054941395, 0.07768503296483699, 0.07768503296483699, 0.07768503296483699, 0.103580043953116, 0.051790021976558, 0.051790021976558, 0.025895010988279, 0.7262095113473993, 0.5224195238096956, 0.7112705031518037, 0.24056370518387513, 0.14433822311032507, 0.09622548207355006, 0.09622548207355006, 0.09622548207355006, 0.04811274103677503, 0.14433822311032507, 0.09622548207355006, 0.04811274103677503, 0.703731738306185, 0.2750487187618064, 0.2750487187618064, 0.2750487187618064, 0.19165928363831966, 0.3833185672766393, 0.19165928363831966, 0.31752986321207566, 0.31752986321207566, 0.31752986321207566, 0.5539685902092402, 0.4588486582792995, 0.49536256299496456, 0.5155214253013557, 0.08841693077920262, 0.08841693077920262, 0.04420846538960131, 0.08841693077920262, 0.4862931192856144, 0.04420846538960131, 0.04420846538960131, 0.35086744433469724, 0.11695581477823241, 0.05847790738911621, 0.292389536945581, 0.05847790738911621, 0.05847790738911621, 0.05847790738911621, 0.05847790738911621, 0.05847790738911621, 0.7870690577619697, 0.5226387326390283, 0.3139302210725804, 0.40362456995046053, 0.04484717443894006, 0.04484717443894006, 0.08969434887788012, 0.04484717443894006, 0.04484717443894006, 0.7604478533804818, 0.6916498756090351, 0.1339496779819967, 0.16743709747749588, 0.23441193646849423, 0.10046225848649752, 0.1339496779819967, 0.033487419495499174, 0.033487419495499174, 0.033487419495499174, 0.033487419495499174, 0.033487419495499174, 0.23318651282905312, 0.23318651282905312, 0.43971798806002677, 0.7101902046356668, 0.13781900438528907, 0.13781900438528907, 0.4134570131558672, 0.25524272091164085, 0.25524272091164085, 0.25524272091164085, 0.127106490067928, 0.32482769684026047, 0.09886060338616623, 0.09886060338616623, 0.127106490067928, 0.07061471670440445, 0.02824588668176178, 0.04236883002264267, 0.04236883002264267, 0.02824588668176178, 0.22523002737518044, 0.22523002737518044, 0.5146927673089883, 0.7595534247468443, 0.7431469097894935, 0.6397831698296654, 0.3131453535540381, 0.35228852274829286, 0.039143169194254764, 0.07828633838850953, 0.039143169194254764, 0.039143169194254764, 0.07828633838850953, 0.039143169194254764, 0.039143169194254764, 0.1415249626348055, 0.17690620329350687, 0.10614372197610412, 0.07076248131740275, 0.07076248131740275, 0.24766868461090963, 0.03538124065870137, 0.1415249626348055, 0.03538124065870137, 0.3223026484412649, 0.3223026484412649, 0.328981562590577, 0.2600405733712281, 0.07861691753083641, 0.07135997129722074, 0.04837964155743779, 0.04475116844062996, 0.05321760571318157, 0.049589132596373736, 0.0350752401291424, 0.03023727597339862, 0.693465374887057, 0.5544087880849953, 0.5638539671036096, 0.08674676416978609, 0.06506007312733957, 0.06506007312733957, 0.043373382084893046, 0.043373382084893046, 0.043373382084893046, 0.021686691042446523, 0.043373382084893046, 0.043373382084893046, 0.2800252875919262, 0.5600505751838524, 0.5384573290206363, 0.2692286645103181, 0.7190818404451618, 0.2169521510295389, 0.4339043020590778, 0.05423803775738473, 0.05423803775738473, 0.05423803775738473, 0.05423803775738473, 0.05423803775738473, 0.05423803775738473, 0.05423803775738473, 0.05423803775738473, 0.8323926755313839, 0.2210045677327133, 0.16575342579953498, 0.05525114193317832, 0.11050228386635665, 0.05525114193317832, 0.05525114193317832, 0.2210045677327133, 0.05525114193317832, 0.05525114193317832, 0.05525114193317832, 0.6508178327968943, 0.36013922236599766, 0.36013922236599766, 0.15520912969852768, 0.15520912969852768, 0.15520912969852768, 0.46562738909558304, 0.3650672336565832, 0.1825336168282916, 0.3650672336565832, 0.7391304410868641, 0.7261599626749897, 0.6138421672281061, 0.11311586165097062, 0.2827896541274265, 0.05655793082548531, 0.16967379247645592, 0.05655793082548531, 0.05655793082548531, 0.05655793082548531, 0.05655793082548531, 0.16967379247645592, 0.05655793082548531, 0.10125203870580646, 0.10125203870580646, 0.10125203870580646, 0.40500815482322583, 0.20250407741161291, 0.10125203870580646, 0.4075593348177836, 0.19934832892927767, 0.7973933157171107, 0.698415565646791, 0.4117267564466846, 0.14862134463811907, 0.14862134463811907, 0.44586403391435725, 0.14862134463811907, 0.22659451987416807, 0.16185322848154862, 0.19422387417785836, 0.1294825827852389, 0.03237064569630972, 0.06474129139261944, 0.06474129139261944, 0.03237064569630972, 0.06474129139261944, 0.26928062683729787, 0.10771225073491915, 0.10771225073491915, 0.08078418805118937, 0.08078418805118937, 0.10771225073491915, 0.053856125367459574, 0.08078418805118937, 0.026928062683729787, 0.08078418805118937, 0.23217867062335426, 0.1547857804155695, 0.10319052027704634, 0.07739289020778475, 0.10319052027704634, 0.12898815034630792, 0.05159526013852317, 0.10319052027704634, 0.025797630069261585, 0.05159526013852317, 0.4996021787408706, 0.07686187365244163, 0.07686187365244163, 0.07686187365244163, 0.07686187365244163, 0.03843093682622081, 0.07686187365244163, 0.03843093682622081, 0.03843093682622081, 0.03843093682622081, 0.17759151963370676, 0.13319363972528006, 0.04439787990842669, 0.22198939954213343, 0.13319363972528006, 0.13319363972528006, 0.08879575981685338, 0.04439787990842669, 0.04439787990842669, 0.18784529839638073, 0.28176794759457113, 0.23480662299547592, 0.09392264919819036, 0.04696132459909518, 0.04696132459909518, 0.04696132459909518, 0.04696132459909518, 0.04696132459909518, 0.71043020631858, 0.5124866663589805, 0.7434316916197827, 0.29981117056782147, 0.5246695484936875, 0.07495279264195537, 0.2791312000449581, 0.13956560002247906, 0.13956560002247906, 0.13956560002247906, 0.2791312000449581, 0.7656785432886156, 0.13627984492206857, 0.13627984492206857, 0.13627984492206857, 0.4088395347662057, 0.28247002247785, 0.13181934382299668, 0.05649400449557001, 0.09415667415928335, 0.07532533932742667, 0.09415667415928335, 0.11298800899114002, 0.07532533932742667, 0.05649400449557001, 0.03766266966371334, 0.3087332844016631, 0.5145554740027718, 0.10291109480055435, 0.7132625104045276, 0.27399081425951044, 0.2602912735465349, 0.13699540712975522, 0.12329586641677968, 0.05479816285190208, 0.01369954071297552, 0.04109862213892656, 0.02739908142595104, 0.06849770356487761, 0.02739908142595104, 0.14369838866809814, 0.07184919433404907, 0.07184919433404907, 0.3592459716702453, 0.1077737915010736, 0.14369838866809814, 0.035924597167024536, 0.035924597167024536, 0.7211100427898979, 0.3979803985115046, 0.1492426494418142, 0.033165033209292046, 0.04974754981393807, 0.08291258302323011, 0.06633006641858409, 0.04974754981393807, 0.06633006641858409, 0.033165033209292046, 0.06633006641858409, 0.6345125909772625, 0.3701863476679531, 0.13326708516046312, 0.11845963125374499, 0.08884472344030873, 0.059229815626872497, 0.059229815626872497, 0.07403726953359062, 0.04442236172015437, 0.04442236172015437, 0.014807453906718124, 0.19109881983885954, 0.22294862314533614, 0.09554940991942977, 0.11147431157266807, 0.09554940991942977, 0.03184980330647659, 0.03184980330647659, 0.09554940991942977, 0.03184980330647659, 0.06369960661295318, 0.6398135282771343, 0.4807238799310287, 0.10301225998522044, 0.03433741999507348, 0.13734967998029393, 0.03433741999507348, 0.06867483999014697, 0.06867483999014697, 0.03433741999507348, 0.03433741999507348, 0.03433741999507348, 0.43686399718781366, 0.15290239901573477, 0.08737279943756274, 0.10921599929695341, 0.06552959957817205, 0.04368639971878137, 0.021843199859390684, 0.04368639971878137, 0.021843199859390684, 0.04368639971878137, 0.7263684101559147, 0.5161642050316629, 0.4370896022009792, 0.2185448011004896, 0.2185448011004896, 0.10087715215831461, 0.27741216843536515, 0.025219288039578652, 0.22697359235620787, 0.07565786411873596, 0.07565786411873596, 0.12609644019789326, 0.07565786411873596, 0.5141690567688306, 0.43417118873517274, 0.19360682253741285, 0.5808204676122386, 0.5152513625654267, 0.28997642666457496, 0.12365665340667767, 0.6182832670333883, 0.12365665340667767, 0.12365665340667767, 0.4305135242803648, 0.10528555251384714, 0.42114221005538854, 0.21057110502769427, 0.21057110502769427, 0.24512156431567309, 0.2941458771788077, 0.07353646929470192, 0.09804862572626924, 0.02451215643156731, 0.07353646929470192, 0.04902431286313462, 0.07353646929470192, 0.02451215643156731, 0.04902431286313462, 0.47639115728256043, 0.15879705242752015, 0.03175941048550403, 0.06351882097100806, 0.03175941048550403, 0.06351882097100806, 0.06351882097100806, 0.03175941048550403, 0.03175941048550403, 0.03175941048550403, 0.6972927627437318, 0.4604946341044988, 0.06815408291817851, 0.06815408291817851, 0.3407704145908925, 0.06815408291817851, 0.06815408291817851, 0.13630816583635702, 0.06815408291817851, 0.06815408291817851, 0.06815408291817851, 0.11113370895614914, 0.05556685447807457, 0.05556685447807457, 0.5001016903026712, 0.05556685447807457, 0.1667005634342237, 0.7863611561088139, 0.13495124079556395, 0.13495124079556395, 0.05398049631822558, 0.13495124079556395, 0.2429122334320151, 0.05398049631822558, 0.08097074447733836, 0.13495124079556395, 0.02699024815911279, 0.02699024815911279, 0.08194551333004699, 0.20486378332511748, 0.245836539990141, 0.08194551333004699, 0.1229182699950705, 0.08194551333004699, 0.040972756665023494, 0.1229182699950705, 0.040972756665023494, 0.6398588331683972, 0.11631921142245238, 0.23263842284490477, 0.23263842284490477, 0.05815960571122619, 0.17447881713367858, 0.05815960571122619, 0.05815960571122619, 0.2310473547517794, 0.1925394622931495, 0.1155236773758897, 0.1540315698345196, 0.0385078924586299, 0.0385078924586299, 0.0770157849172598, 0.09626973114657475, 0.01925394622931495, 0.01925394622931495, 0.10347560222956319, 0.44839427632810713, 0.06898373481970879, 0.172459337049272, 0.034491867409854396, 0.06898373481970879, 0.034491867409854396, 0.06898373481970879, 0.24494122413223615, 0.26943534654545975, 0.07348236723967085, 0.04898824482644723, 0.1714588568925653, 0.09797648965289446, 0.024494122413223615, 0.024494122413223615, 0.024494122413223615, 0.04898824482644723, 0.3422437666957411, 0.12351532925583394, 0.06175766462791697, 0.12351532925583394, 0.5558189816512528, 0.06175766462791697, 0.23501101637128646, 0.20296405959338376, 0.07477623248177297, 0.10682318925967567, 0.14955246496354593, 0.053411594629837834, 0.0961408703337081, 0.0320469567779027, 0.021364637851935132, 0.0320469567779027, 0.1893861532032339, 0.28407922980485084, 0.09469307660161695, 0.09469307660161695, 0.07101980745121271, 0.09469307660161695, 0.07101980745121271, 0.047346538300808476, 0.023673269150404238, 0.023673269150404238], \"Term\": [\" \", \" \", \" \", \" \", \" \", \" \", \" \", \" \", \" \", \" \", \"$\", \"$\", \"$\", \"$\", \"$\", \"$\", \"$\", \"$\", \"$\", \"$\", \"11:55am\", \"ABC\", \"ABC\", \"ACA\", \"ACCC\", \"AMWU\", \"AMWU\", \"ASIC\", \"ASIC\", \"ASIC\", \"ASIC\", \"Abbott\", \"Abdel\", \"Adelaide\", \"Adelaide\", \"Adelaide\", \"Adelaide\", \"Adelaide\", \"Adelaide\", \"Adelaide\", \"Adelaide\", \"Adelaide\", \"Adventure_World\", \"Adventure_World\", \"Adventure_World\", \"Adventure_World\", \"Adventure_World\", \"Adventure_World\", \"Afghanistan\", \"Afghanistan\", \"Afghanistan\", \"Afghanistan\", \"Afghanistan\", \"Afghanistan\", \"Afghanistan\", \"Afghanistan\", \"Afghanistan\", \"Ahmed\", \"Al_Qaeda\", \"Al_Qaeda\", \"Al_Qaeda\", \"Al_Qaeda\", \"Al_Qaeda\", \"Al_Qaeda\", \"Al_Qaeda\", \"Al_Qaeda\", \"Al_Qaeda\", \"Al_Qaeda\", \"Albarran\", \"Allianz\", \"Andy_Bichel\", \"Andy_Bichel\", \"Andy_Bichel\", \"Assa_Abloy\", \"Assa_Abloy\", \"Assa_Abloy\", \"Atlanta\", \"Austar\", \"Austar\", \"Austar\", \"Australia\", \"Australia\", \"Australia\", \"Australia\", \"Australia\", \"Australia\", \"Australia\", \"Australia\", \"Australia\", \"Australia\", \"Australian\", \"Australian\", \"Australian\", \"Australian\", \"Australian\", \"Australian\", \"Australian\", \"Australian\", \"Australian\", \"Australian\", \"Aziz\", \"BankSA\", \"Belgium\", \"Bichel\", \"Bichel\", \"Bichel\", \"Blue\", \"Blue\", \"Blue_Mountains\", \"Blue_Mountains\", \"Blue_Mountains\", \"Blue_Mountains\", \"Blue_Mountains\", \"Boje\", \"Boston\", \"Boston\", \"Bourne\", \"Brad\", \"Bradstreet\", \"Bradstreet\", \"Bronwyn\", \"Bumblebee\", \"Bush\", \"Bush\", \"Bush\", \"Cameron\", \"Cameron\", \"Campbell\", \"Campbell\", \"Cancer\", \"Catt\", \"Caucuses\", \"Chechen\", \"Coast\", \"Coast\", \"Coast\", \"Coast\", \"Collingwood\", \"Competition\", \"Consumer\", \"Consumers\", \"Corowa\", \"Cronin\", \"DFAT\", \"Dagestan\", \"Darwin\", \"Darwin\", \"Dein\", \"Democrats\", \"Dickie\", \"Dickie\", \"Dixon\", \"Dixon\", \"Doug\", \"Doug\", \"Doug\", \"Downer\", \"Downer\", \"Dun\", \"Dun\", \"East_Timor\", \"East_Timor\", \"East_Timor\", \"East_Timor\", \"East_Timor\", \"East_Timor\", \"East_Timor\", \"Eddystone\", \"England\", \"F\", \"FM\", \"Ferguson\", \"Fitzgibbon\", \"Food\", \"Franklin\", \"Friedli\", \"Friedli\", \"Friedli\", \"GM\", \"Gaza_Strip\", \"Gaza_Strip\", \"Gaza_Strip\", \"Gaza_Strip\", \"Gaza_Strip\", \"Gaza_Strip\", \"Gaza_Strip\", \"Gaza_Strip\", \"Gerber\", \"Gerber\", \"Gibbons\", \"Gibbons\", \"Gibbs\", \"Giuliani\", \"Giuliani\", \"Giuliani\", \"Glenn_McGrath\", \"Glenn_McGrath\", \"Glenn_McGrath\", \"Glenn_McGrath\", \"Government\", \"Government\", \"Government\", \"Government\", \"Government\", \"Government\", \"Government\", \"Government\", \"Government\", \"Government\", \"Governor_General\", \"Governor_General\", \"Governor_General\", \"Governor_General\", \"Governor_General\", \"Governor_General\", \"Greens\", \"Grocery\", \"Guard\", \"Guglielmo\", \"HIH\", \"HIH\", \"HIH\", \"HIH\", \"HIH\", \"HIH\", \"Hamas\", \"Hamas\", \"Hamas\", \"Hamas\", \"Hamas\", \"Hamas\", \"Hamas\", \"Hamas\", \"Hamas\", \"Hamas\", \"Hayden\", \"Hayden\", \"Hayden\", \"Helens\", \"Henderson\", \"Henderson\", \"High\", \"High\", \"Hooke\", \"India\", \"India\", \"India\", \"India\", \"India\", \"India\", \"India\", \"Inspector\", \"Interlaken\", \"Interlaken\", \"Interlaken\", \"Interlaken\", \"Investments\", \"Ismail\", \"Ismail\", \"Israel\", \"Israel\", \"Israel\", \"Israel\", \"Israel\", \"Israel\", \"Israel\", \"Israel\", \"Israel\", \"Israel\", \"Jacques_Kallis\", \"Jacques_Kallis\", \"Japan\", \"Japan\", \"Japan\", \"Judith\", \"K\", \"Kabul\", \"Kabul\", \"Kabul\", \"Kabul\", \"Kabul\", \"Kabul\", \"Kabul\", \"Kabul\", \"Kashmir\", \"Kashmir\", \"Kashmir\", \"Katherine\", \"Kemp\", \"Kentucky\", \"Kentucky\", \"Kerry\", \"Killmier\", \"Kirsten\", \"Klim\", \"Lance\", \"Larrakia\", \"Liberator\", \"Local\", \"Lombe\", \"Lubbers\", \"MacGill\", \"MacGill\", \"MacGill\", \"MacGill\", \"Magistrate\", \"Manufacturing\", \"Manufacturing\", \"Manufacturing\", \"Marathon\", \"Marconi\", \"McMenamin\", \"McMenamin\", \"Melbourne\", \"Melbourne\", \"Melbourne\", \"Melbourne\", \"Melbourne\", \"Melbourne\", \"Melbourne\", \"Melbourne\", \"Melbourne\", \"Melbourne\", \"Memphis\", \"Mentha\", \"Miami\", \"Miami\", \"Mitch\", \"Mitsubishi\", \"Mount\", \"Mr\", \"Mr\", \"Mr\", \"Mr\", \"Mr\", \"Mr\", \"Mr\", \"Mr\", \"Mr\", \"Mr\", \"Mr_Arafat\", \"Mr_Arafat\", \"Mr_Arafat\", \"Mr_Arafat\", \"Mr_Arafat\", \"Mr_Arafat\", \"Mr_Arafat\", \"Mr_Arafat\", \"Mr_Arafat\", \"Musharraf\", \"Musharraf\", \"Musharraf\", \"Neil_McKenzie\", \"Neil_McKenzie\", \"Nettle\", \"New_Delhi\", \"New_Delhi\", \"New_South\", \"New_South\", \"New_South\", \"New_South\", \"New_South\", \"New_South\", \"New_South\", \"New_South\", \"New_South\", \"NewsRadio\", \"Nicky\", \"Office\", \"Pakistan\", \"Pakistan\", \"Pakistan\", \"Pakistan\", \"Pakistan\", \"Pakistan\", \"Pakistan\", \"Pakistan\", \"Pakistan\", \"Pakistan\", \"Palmerston\", \"Paris\", \"Paris\", \"Paris\", \"Paris\", \"Peru\", \"Peru\", \"Pervez\", \"Phillip\", \"Phillips\", \"Phillips\", \"Picton\", \"Qantas\", \"Qantas\", \"Qantas\", \"Qantas\", \"Qantas\", \"Qantas\", \"Radio\", \"Radio\", \"Raduyev\", \"Rantissi\", \"Refugees\", \"Refugees\", \"Reid\", \"Reid\", \"Reid\", \"River\", \"River\", \"River\", \"River\", \"River\", \"River\", \"River\", \"River\", \"Road\", \"Road\", \"Road\", \"Rodriguez\", \"Romaszko\", \"Rosebury\", \"Salman\", \"Sea\", \"Sea\", \"Senate\", \"Senate\", \"Senator\", \"Senator_Hill\", \"Senator_Hill\", \"Senator_Hill\", \"Senator_Hill\", \"Senator_Hill\", \"Senator_Hill\", \"Shane_Warne\", \"Shane_Warne\", \"Sheikh\", \"Smith\", \"South_Africa\", \"South_Africa\", \"South_Africa\", \"South_Africa\", \"South_Africa\", \"South_Africa\", \"South_Africa\", \"Steve_Waugh\", \"Steve_Waugh\", \"Stringer\", \"Stringer\", \"Swan\", \"Sydney\", \"Sydney\", \"Sydney\", \"Sydney\", \"Sydney\", \"Sydney\", \"Sydney\", \"Sydney\", \"Sydney\", \"Sydney\", \"Sydney_Hobart\", \"Sydney_Hobart\", \"Sydney_Hobart\", \"Sydney_Hobart\", \"TATP\", \"Taliban\", \"Taliban\", \"Taliban\", \"Taliban\", \"Taliban\", \"Taliban\", \"Taliban\", \"Taliban\", \"Taliban\", \"Taliban\", \"Templeton\", \"Territory\", \"Territory\", \"Test\", \"Test\", \"Test\", \"Test\", \"Test\", \"Tora_Bora\", \"Tora_Bora\", \"Tora_Bora\", \"Tora_Bora\", \"Tora_Bora\", \"Tora_Bora\", \"Tora_Bora\", \"Track\", \"Triple\", \"Truss\", \"Truss\", \"Tyco\", \"Undan\", \"United_Nations\", \"United_Nations\", \"United_Nations\", \"United_Nations\", \"United_Nations\", \"United_Nations\", \"United_Nations\", \"United_Nations\", \"United_States\", \"United_States\", \"United_States\", \"United_States\", \"United_States\", \"United_States\", \"United_States\", \"United_States\", \"United_States\", \"United_States\", \"Vicki\", \"Virgin\", \"Virgin\", \"Virgin\", \"Virgin\", \"Wales\", \"Wales\", \"Wales\", \"Wales\", \"Wales\", \"Wales\", \"Wales\", \"Wales\", \"Wales\", \"Warne\", \"Warne\", \"Waugh\", \"Waugh\", \"Waugh\", \"Waugh\", \"Waugh\", \"Welsh\", \"Welsh\", \"Welsh\", \"Wolthuizen\", \"World\", \"World\", \"World\", \"World\", \"World\", \"World\", \"World\", \"World\", \"Yarrawonga\", \"Yasser_Arafat\", \"Yasser_Arafat\", \"Yasser_Arafat\", \"Yasser_Arafat\", \"Yasser_Arafat\", \"Yasser_Arafat\", \"Yasser_Arafat\", \"Yasser_Arafat\", \"Yasser_Arafat\", \"Yasser_Arafat\", \"Yassin\", \"Zeus\", \"abruptly\", \"accountancy\", \"accountancy\", \"accounting\", \"achievement\", \"acquisition\", \"adjourn\", \"afghan\", \"afghan\", \"afghan\", \"afghan\", \"afghan\", \"afghan\", \"afghan\", \"afghan\", \"afghan\", \"airspace\", \"airspace\", \"alarm\", \"alternative\", \"amalgamation\", \"amend\", \"apra\", \"arbitrate\", \"archaic\", \"area\", \"area\", \"area\", \"area\", \"area\", \"area\", \"area\", \"area\", \"area\", \"area\", \"arrest\", \"arrest\", \"arrest\", \"arrest\", \"arrest\", \"arrest\", \"arrest\", \"arrest\", \"arrest\", \"arrest\", \"assume\", \"assume\", \"attack\", \"attack\", \"attack\", \"attack\", \"attack\", \"attack\", \"attack\", \"attack\", \"attack\", \"attack\", \"attendant\", \"attendant\", \"audio\", \"australian\", \"australian\", \"australian\", \"australian\", \"australian\", \"australian\", \"australian\", \"australian\", \"australian\", \"australian\", \"authority\", \"authority\", \"authority\", \"authority\", \"authority\", \"authority\", \"authority\", \"authority\", \"authority\", \"authority\", \"aware\", \"aware\", \"aware\", \"bail\", \"ball\", \"ball\", \"ball\", \"ball\", \"bat\", \"bat\", \"battlefield\", \"beckon\", \"believe\", \"believe\", \"believe\", \"believe\", \"believe\", \"believe\", \"believe\", \"believe\", \"believe\", \"believe\", \"better\", \"bill\", \"bill\", \"bill\", \"bill\", \"bill\", \"bill\", \"bill\", \"birth\", \"boat\", \"boat\", \"boat\", \"boat\", \"boat\", \"boat\", \"boat\", \"bouncy\", \"bowler\", \"bowler\", \"bowler\", \"bowler\", \"bowler\", \"bowling\", \"bowling\", \"bowling\", \"boy\", \"boy\", \"boy\", \"boy\", \"boy\", \"boy\", \"brain\", \"brain\", \"brandish\", \"broadcast\", \"broadcast\", \"building\", \"building\", \"building\", \"building\", \"building\", \"building\", \"building\", \"building\", \"building\", \"building\", \"call\", \"call\", \"call\", \"call\", \"call\", \"call\", \"call\", \"call\", \"call\", \"call\", \"canoe\", \"canoeist\", \"card\", \"card\", \"carry\", \"carry\", \"carry\", \"carry\", \"carry\", \"carry\", \"carry\", \"carry\", \"carry\", \"carry\", \"casino\", \"catch\", \"catch\", \"catch\", \"catch\", \"catch\", \"catch\", \"catch\", \"catch\", \"cent\", \"cent\", \"cent\", \"cent\", \"cent\", \"cent\", \"cent\", \"cent\", \"cent\", \"cent\", \"challenge\", \"challenge\", \"challenge\", \"challenge\", \"challenge\", \"child\", \"child\", \"child\", \"child\", \"child\", \"child\", \"child\", \"child\", \"child\", \"child\", \"cigarette\", \"citizen\", \"city\", \"city\", \"city\", \"city\", \"city\", \"city\", \"city\", \"city\", \"city\", \"city\", \"claim\", \"claim\", \"claim\", \"claim\", \"claim\", \"claim\", \"claim\", \"claim\", \"claim\", \"claim\", \"clap\", \"clinch\", \"close\", \"close\", \"close\", \"close\", \"close\", \"close\", \"close\", \"close\", \"close\", \"close\", \"come\", \"come\", \"come\", \"come\", \"come\", \"come\", \"come\", \"come\", \"come\", \"come\", \"company\", \"company\", \"company\", \"company\", \"company\", \"company\", \"company\", \"company\", \"company\", \"company\", \"computer\", \"computer\", \"computer\", \"conceal\", \"conference\", \"conference\", \"conference\", \"conference\", \"conference\", \"conference\", \"confirm\", \"confirm\", \"confirm\", \"confirm\", \"confirm\", \"confirm\", \"confirm\", \"confirm\", \"confirm\", \"confirm\", \"consumer\", \"consumer\", \"containment\", \"containment\", \"contest\", \"contest\", \"contest\", \"continue\", \"continue\", \"continue\", \"continue\", \"continue\", \"continue\", \"continue\", \"continue\", \"continue\", \"continue\", \"corner\", \"coroner\", \"coverage\", \"coveted\", \"cow\", \"creditor\", \"creditor\", \"crop\", \"day\", \"day\", \"day\", \"day\", \"day\", \"day\", \"day\", \"day\", \"day\", \"day\", \"death\", \"death\", \"death\", \"death\", \"death\", \"death\", \"death\", \"death\", \"death\", \"death\", \"debt\", \"debt\", \"debt\", \"debt\", \"debt\", \"destabilise\", \"device\", \"device\", \"device\", \"devour\", \"director\", \"director\", \"director\", \"director\", \"director\", \"director\", \"director\", \"director\", \"director\", \"director\", \"dispute\", \"dispute\", \"dispute\", \"dispute\", \"dispute\", \"dispute\", \"disturbance\", \"disturbance\", \"donor\", \"double\", \"double\", \"double\", \"driver\", \"dusty\", \"early\", \"early\", \"early\", \"early\", \"early\", \"early\", \"early\", \"early\", \"early\", \"early\", \"economy\", \"economy\", \"economy\", \"economy\", \"economy\", \"economy\", \"economy\", \"economy\", \"elder\", \"elder\", \"elder\", \"email\", \"email\", \"email\", \"embassy\", \"embassy\", \"emission\", \"emission\", \"encourage\", \"end\", \"end\", \"end\", \"end\", \"end\", \"end\", \"end\", \"end\", \"end\", \"end\", \"enlarge\", \"event\", \"event\", \"event\", \"event\", \"event\", \"event\", \"exchange\", \"exchange\", \"exchange\", \"exchange\", \"expect\", \"expect\", \"expect\", \"expect\", \"expect\", \"expect\", \"expect\", \"expect\", \"expect\", \"expect\", \"expense\", \"explosive\", \"explosive\", \"explosive\", \"explosive\", \"explosive\", \"explosive\", \"explosive\", \"family\", \"family\", \"family\", \"family\", \"family\", \"family\", \"family\", \"family\", \"family\", \"fare\", \"farmer\", \"farmer\", \"farmer\", \"farmer\", \"fielder\", \"finalise\", \"finalise\", \"find\", \"find\", \"find\", \"find\", \"find\", \"find\", \"find\", \"find\", \"find\", \"find\", \"finish\", \"finish\", \"finish\", \"finish\", \"finish\", \"finish\", \"finish\", \"finish\", \"fire\", \"fire\", \"fire\", \"fire\", \"fire\", \"fire\", \"fire\", \"fire\", \"fire\", \"fire\", \"firefighter\", \"firefighter\", \"firefighter\", \"firefighter\", \"firefighter\", \"firefighter\", \"firefighter\", \"firefighter\", \"firm\", \"firm\", \"firm\", \"firm\", \"firm\", \"flare\", \"flight\", \"flight\", \"flight\", \"flight\", \"flight\", \"flight\", \"flight\", \"flight\", \"flood\", \"flood\", \"flood\", \"follow\", \"follow\", \"follow\", \"follow\", \"follow\", \"follow\", \"follow\", \"follow\", \"follow\", \"follow\", \"force\", \"force\", \"force\", \"force\", \"force\", \"force\", \"force\", \"force\", \"force\", \"force\", \"forefront\", \"freestyle\", \"freestyle\", \"freestyle\", \"frontbencher\", \"functioning\", \"fuselage\", \"gambling\", \"gaming\", \"gas\", \"gas\", \"gas\", \"gas\", \"generous\", \"generous\", \"genetically\", \"give\", \"give\", \"give\", \"give\", \"give\", \"give\", \"give\", \"give\", \"give\", \"give\", \"go\", \"go\", \"go\", \"go\", \"go\", \"go\", \"go\", \"go\", \"go\", \"go\", \"good\", \"good\", \"good\", \"good\", \"good\", \"good\", \"good\", \"good\", \"good\", \"good\", \"goodwill\", \"gorge\", \"government\", \"government\", \"government\", \"government\", \"government\", \"government\", \"government\", \"government\", \"government\", \"government\", \"great\", \"great\", \"great\", \"great\", \"great\", \"great\", \"great\", \"great\", \"great\", \"great\", \"greeting\", \"group\", \"group\", \"group\", \"group\", \"group\", \"group\", \"group\", \"group\", \"group\", \"group\", \"gruelle\", \"guide\", \"guide\", \"guide\", \"guide\", \"guide\", \"guide\", \"haitian\", \"head\", \"head\", \"head\", \"head\", \"head\", \"head\", \"head\", \"head\", \"head\", \"head\", \"hectare\", \"hectare\", \"heritage\", \"heritage\", \"holiday\", \"holiday\", \"holiday\", \"holiday\", \"holiday\", \"hostage\", \"hour\", \"hour\", \"hour\", \"hour\", \"hour\", \"hour\", \"hour\", \"hour\", \"hour\", \"hour\", \"huegill\", \"idea\", \"idea\", \"improvise\", \"inadequate\", \"inappropriate\", \"inappropriate\", \"inappropriate\", \"incinerate\", \"include\", \"include\", \"include\", \"include\", \"include\", \"include\", \"include\", \"include\", \"include\", \"include\", \"indian\", \"indian\", \"indian\", \"indian\", \"indian\", \"indian\", \"industrial_action\", \"industrial_action\", \"industrial_action\", \"industrial_action\", \"industrial_action\", \"industrial_action\", \"ingredient\", \"initially\", \"initiate\", \"injure\", \"injure\", \"injure\", \"injure\", \"injure\", \"injure\", \"injure\", \"injure\", \"injure\", \"injure\", \"innings\", \"innings\", \"innings\", \"innings\", \"innings\", \"insurgency\", \"intangible\", \"intelligence\", \"intelligence\", \"intelligence\", \"interfere\", \"internet\", \"internet\", \"interrogate\", \"investigate\", \"investigate\", \"investigate\", \"investigate\", \"investigate\", \"investigate\", \"investigator\", \"israeli\", \"israeli\", \"israeli\", \"israeli\", \"israeli\", \"israeli\", \"israeli\", \"israeli\", \"israeli\", \"israeli\", \"japanese\", \"japanese\", \"japanese\", \"job\", \"job\", \"job\", \"job\", \"job\", \"job\", \"job\", \"kill\", \"kill\", \"kill\", \"kill\", \"kill\", \"kill\", \"kill\", \"kill\", \"kill\", \"kill\", \"know\", \"know\", \"know\", \"know\", \"know\", \"know\", \"know\", \"know\", \"know\", \"know\", \"korean\", \"label\", \"landing\", \"lead\", \"lead\", \"lead\", \"lead\", \"lead\", \"lead\", \"lead\", \"lead\", \"lead\", \"lead\", \"leader\", \"leader\", \"leader\", \"leader\", \"leader\", \"leader\", \"leader\", \"leader\", \"leader\", \"leader\", \"line\", \"line\", \"line\", \"line\", \"line\", \"line\", \"line\", \"line\", \"listener\", \"liver\", \"lung_cancer\", \"lung_cancer\", \"mad\", \"malaysian\", \"man\", \"man\", \"man\", \"man\", \"man\", \"man\", \"man\", \"man\", \"man\", \"man\", \"manager\", \"manager\", \"manager\", \"manager\", \"manager\", \"market\", \"market\", \"market\", \"market\", \"market\", \"market\", \"match\", \"match\", \"match\", \"match\", \"match\", \"match\", \"match\", \"match\", \"match\", \"meat\", \"meeting\", \"meeting\", \"meeting\", \"meeting\", \"meeting\", \"meeting\", \"meeting\", \"meeting\", \"meeting\", \"meeting\", \"member\", \"member\", \"member\", \"member\", \"member\", \"member\", \"member\", \"member\", \"member\", \"member\", \"memory\", \"memory\", \"metal\", \"metre\", \"metre\", \"metre\", \"metre\", \"metre\", \"metre\", \"metre\", \"midwife\", \"mile\", \"mile\", \"militant\", \"militant\", \"militant\", \"militant\", \"militant\", \"militant\", \"militant\", \"militant\", \"militant\", \"militant\", \"military\", \"military\", \"military\", \"military\", \"military\", \"military\", \"military\", \"military\", \"military\", \"military\", \"modify\", \"month\", \"month\", \"month\", \"month\", \"month\", \"month\", \"month\", \"month\", \"month\", \"month\", \"moon\", \"morning\", \"morning\", \"morning\", \"morning\", \"morning\", \"morning\", \"morning\", \"morning\", \"morning\", \"morning\", \"motorist\", \"motorway\", \"nail\", \"nail\", \"nail\", \"native\", \"native\", \"necessary\", \"necessary\", \"need\", \"need\", \"need\", \"need\", \"need\", \"need\", \"need\", \"need\", \"need\", \"need\", \"neighbouring\", \"new\", \"new\", \"new\", \"new\", \"new\", \"new\", \"new\", \"new\", \"new\", \"new\", \"nitrous\", \"north\", \"north\", \"north\", \"north\", \"north\", \"north\", \"north\", \"north\", \"north\", \"north\", \"nurse\", \"offense\", \"official\", \"official\", \"official\", \"official\", \"official\", \"official\", \"official\", \"official\", \"official\", \"official\", \"oil\", \"oil\", \"onboard\", \"organ\", \"organise\", \"outer\", \"outlaw\", \"outperform\", \"oxide\", \"pace\", \"pace\", \"paddle\", \"palestinian\", \"palestinian\", \"palestinian\", \"palestinian\", \"palestinian\", \"palestinian\", \"palestinian\", \"palestinian\", \"palestinian\", \"palestinian\", \"palestinian_police\", \"palestinian_police\", \"palestinian_police\", \"palestinian_police\", \"party\", \"party\", \"party\", \"party\", \"party\", \"party\", \"party\", \"party\", \"pay\", \"pay\", \"pay\", \"pay\", \"pay\", \"pay\", \"pay\", \"pay\", \"pay\", \"pay\", \"peace\", \"peace\", \"peace\", \"peace\", \"peace\", \"peace\", \"peace\", \"peace\", \"peace\", \"people\", \"people\", \"people\", \"people\", \"people\", \"people\", \"people\", \"people\", \"people\", \"people\", \"perturb\", \"petrol\", \"petrol\", \"petrol\", \"phone\", \"pilot\", \"pilot\", \"pilot\", \"pitch\", \"place\", \"place\", \"place\", \"place\", \"place\", \"place\", \"place\", \"place\", \"place\", \"place\", \"plan\", \"plan\", \"plan\", \"plan\", \"plan\", \"plan\", \"plan\", \"plan\", \"plan\", \"plan\", \"play\", \"play\", \"play\", \"play\", \"play\", \"play\", \"play\", \"play\", \"play\", \"play\", \"poker\", \"police\", \"police\", \"police\", \"police\", \"police\", \"police\", \"police\", \"police\", \"police\", \"police\", \"pollutant\", \"possession\", \"power\", \"power\", \"power\", \"power\", \"power\", \"power\", \"power\", \"power\", \"power\", \"power\", \"powerful\", \"preventable\", \"procedural\", \"process\", \"process\", \"process\", \"process\", \"process\", \"process\", \"process\", \"process\", \"process\", \"product\", \"professional\", \"professional\", \"professional\", \"profit\", \"profit\", \"profit\", \"projection\", \"projection\", \"projection\", \"proper\", \"prosecution\", \"punt\", \"queue\", \"race\", \"race\", \"race\", \"race\", \"race\", \"race\", \"race\", \"radio\", \"radio\", \"radio\", \"radio\", \"radio\", \"radio\", \"radio\", \"radio\", \"radio\", \"raft\", \"random\", \"rate\", \"rate\", \"rate\", \"rate\", \"rate\", \"rate\", \"rate\", \"ratify\", \"rebuild\", \"receive\", \"receive\", \"receive\", \"receive\", \"receive\", \"receive\", \"receive\", \"receive\", \"receive\", \"receive\", \"recover\", \"recover\", \"redundant\", \"reference\", \"refugee\", \"refugee\", \"refugee\", \"reply\", \"reply\", \"reply\", \"report\", \"report\", \"report\", \"report\", \"report\", \"report\", \"report\", \"report\", \"report\", \"report\", \"republic\", \"republic\", \"resemble\", \"revenue\", \"rough\", \"rudder\", \"rule\", \"rule\", \"rule\", \"rule\", \"rule\", \"rule\", \"rule\", \"rule\", \"rule\", \"run\", \"run\", \"run\", \"run\", \"run\", \"run\", \"run\", \"run\", \"run\", \"sail\", \"sail\", \"say\", \"say\", \"say\", \"say\", \"say\", \"say\", \"say\", \"say\", \"say\", \"say\", \"scrapping\", \"scrub\", \"security\", \"security\", \"security\", \"security\", \"security\", \"security\", \"security\", \"security\", \"security\", \"security\", \"selector\", \"selector\", \"shoe\", \"shoe\", \"shoulder\", \"show\", \"show\", \"show\", \"show\", \"show\", \"show\", \"show\", \"show\", \"show\", \"show\", \"sidestep\", \"sign\", \"sign\", \"sign\", \"sign\", \"sign\", \"sign\", \"sign\", \"sign\", \"sign\", \"sign\", \"simulcast\", \"sink\", \"sink\", \"skipper\", \"skipper\", \"skipper\", \"skipper\", \"slip\", \"slip\", \"slip\", \"smuggle\", \"sneaker\", \"solvency\", \"source\", \"source\", \"source\", \"source\", \"source\", \"source\", \"source\", \"source\", \"source\", \"source\", \"south_african\", \"south_african\", \"south_african\", \"south_african\", \"south_african\", \"south_african\", \"southerly\", \"spill\", \"spill\", \"spinner\", \"split\", \"squad\", \"squad\", \"squad\", \"squad\", \"staff\", \"staff\", \"staff\", \"staff\", \"staff\", \"staff\", \"staff\", \"staff\", \"staff\", \"start\", \"start\", \"start\", \"start\", \"start\", \"start\", \"start\", \"start\", \"start\", \"start\", \"state\", \"state\", \"state\", \"state\", \"state\", \"state\", \"state\", \"state\", \"state\", \"state\", \"statement\", \"statement\", \"statement\", \"statement\", \"statement\", \"statement\", \"statement\", \"statement\", \"statement\", \"statement\", \"storm\", \"storm\", \"storm\", \"storm\", \"storm\", \"storm\", \"storm\", \"storm\", \"storm\", \"strong\", \"strong\", \"strong\", \"strong\", \"strong\", \"strong\", \"strong\", \"strong\", \"strong\", \"subpoena\", \"suitcase\", \"summit\", \"surrender\", \"surrender\", \"surrender\", \"survey\", \"survey\", \"survey\", \"survey\", \"survey\", \"swim\", \"tailender\", \"tailender\", \"tailender\", \"tailender\", \"take\", \"take\", \"take\", \"take\", \"take\", \"take\", \"take\", \"take\", \"take\", \"take\", \"tape\", \"tape\", \"tape\", \"taxis\", \"tell\", \"tell\", \"tell\", \"tell\", \"tell\", \"tell\", \"tell\", \"tell\", \"tell\", \"tell\", \"test\", \"test\", \"test\", \"test\", \"test\", \"test\", \"test\", \"test\", \"theirs\", \"think\", \"think\", \"think\", \"think\", \"think\", \"think\", \"think\", \"think\", \"think\", \"think\", \"tight\", \"time\", \"time\", \"time\", \"time\", \"time\", \"time\", \"time\", \"time\", \"time\", \"time\", \"today\", \"today\", \"today\", \"today\", \"today\", \"today\", \"today\", \"today\", \"today\", \"today\", \"tow\", \"troop\", \"troop\", \"troop\", \"troop\", \"troop\", \"troop\", \"troop\", \"troop\", \"troop\", \"troop\", \"try\", \"try\", \"try\", \"try\", \"try\", \"try\", \"try\", \"try\", \"try\", \"try\", \"underfoot\", \"unforeseeable\", \"unidentified\", \"unidentified\", \"unidentified\", \"union\", \"union\", \"union\", \"union\", \"union\", \"union\", \"union\", \"union\", \"unwrapped\", \"upside\", \"user\", \"user\", \"venture\", \"vessel\", \"virus\", \"virus\", \"virus\", \"virus\", \"voracity\", \"wage_freeze\", \"wage_freeze\", \"wage_freeze\", \"wage_freeze\", \"want\", \"want\", \"want\", \"want\", \"want\", \"want\", \"want\", \"want\", \"want\", \"want\", \"war\", \"war\", \"war\", \"war\", \"war\", \"war\", \"war\", \"war\", \"war\", \"war\", \"warlord\", \"warm\", \"weather\", \"weather\", \"weather\", \"weather\", \"weather\", \"weather\", \"weather\", \"weather\", \"weather\", \"wicket\", \"wicket\", \"wicket\", \"wicket\", \"wicket\", \"wicket\", \"willingness\", \"win\", \"win\", \"win\", \"win\", \"win\", \"win\", \"win\", \"win\", \"win\", \"win\", \"wind\", \"wind\", \"wind\", \"wind\", \"wind\", \"wind\", \"wind\", \"wind\", \"wind\", \"wine\", \"woman\", \"woman\", \"woman\", \"woman\", \"woman\", \"woman\", \"woman\", \"work\", \"work\", \"work\", \"work\", \"work\", \"work\", \"work\", \"work\", \"work\", \"work\", \"worker\", \"worker\", \"worker\", \"worker\", \"worker\", \"worker\", \"worker\", \"worker\", \"world\", \"world\", \"world\", \"world\", \"world\", \"world\", \"world\", \"world\", \"world\", \"world\", \"worm\", \"yacht\", \"yacht\", \"yacht\", \"yacht\", \"yacht\", \"year\", \"year\", \"year\", \"year\", \"year\", \"year\", \"year\", \"year\", \"year\", \"year\", \"yesterday\", \"yesterday\", \"yesterday\", \"yesterday\", \"yesterday\", \"yesterday\", \"yesterday\", \"yesterday\", \"yesterday\", \"yesterday\"]}, \"R\": 30, \"lambda.step\": 0.01, \"plot.opts\": {\"xlab\": \"PC1\", \"ylab\": \"PC2\"}, \"topic.order\": [3, 1, 9, 6, 8, 5, 2, 4, 7, 10]};\n",
       "\n",
       "function LDAvis_load_lib(url, callback){\n",
       "  var s = document.createElement('script');\n",
       "  s.src = url;\n",
       "  s.async = true;\n",
       "  s.onreadystatechange = s.onload = callback;\n",
       "  s.onerror = function(){console.warn(\"failed to load library \" + url);};\n",
       "  document.getElementsByTagName(\"head\")[0].appendChild(s);\n",
       "}\n",
       "\n",
       "if(typeof(LDAvis) !== \"undefined\"){\n",
       "   // already loaded: just create the visualization\n",
       "   !function(LDAvis){\n",
       "       new LDAvis(\"#\" + \"ldavis_el1597051404834599298083652207017\", ldavis_el1597051404834599298083652207017_data);\n",
       "   }(LDAvis);\n",
       "}else if(typeof define === \"function\" && define.amd){\n",
       "   // require.js is available: use it to load d3/LDAvis\n",
       "   require.config({paths: {d3: \"https://d3js.org/d3.v5\"}});\n",
       "   require([\"d3\"], function(d3){\n",
       "      window.d3 = d3;\n",
       "      LDAvis_load_lib(\"https://cdn.jsdelivr.net/gh/bmabey/pyLDAvis@3.3.1/pyLDAvis/js/ldavis.v3.0.0.js\", function(){\n",
       "        new LDAvis(\"#\" + \"ldavis_el1597051404834599298083652207017\", ldavis_el1597051404834599298083652207017_data);\n",
       "      });\n",
       "    });\n",
       "}else{\n",
       "    // require.js not available: dynamically load d3 & LDAvis\n",
       "    LDAvis_load_lib(\"https://d3js.org/d3.v5.js\", function(){\n",
       "         LDAvis_load_lib(\"https://cdn.jsdelivr.net/gh/bmabey/pyLDAvis@3.3.1/pyLDAvis/js/ldavis.v3.0.0.js\", function(){\n",
       "                 new LDAvis(\"#\" + \"ldavis_el1597051404834599298083652207017\", ldavis_el1597051404834599298083652207017_data);\n",
       "            })\n",
       "         });\n",
       "}\n",
       "</script>"
      ],
      "text/plain": [
       "PreparedData(topic_coordinates=              x         y  topics  cluster       Freq\n",
       "topic                                                \n",
       "2     -0.010791 -0.034219       1        1  26.613268\n",
       "0     -0.015541  0.000296       2        1  18.954718\n",
       "8     -0.034042  0.017552       3        1   9.773784\n",
       "5     -0.023995 -0.002734       4        1   9.750906\n",
       "7     -0.015988  0.075985       5        1   7.447208\n",
       "4      0.086460  0.001148       6        1   6.638744\n",
       "1      0.026858 -0.020469       7        1   6.235847\n",
       "3      0.039693  0.011706       8        1   5.844563\n",
       "6     -0.028153 -0.044082       9        1   4.629119\n",
       "9     -0.024501 -0.005183      10        1   4.111842, topic_info=             Term        Freq       Total Category  logprob  loglift\n",
       "90            say  826.000000  826.000000  Default  30.0000  30.0000\n",
       "310     Australia  108.000000  108.000000  Default  29.0000  29.0000\n",
       "1015          man   64.000000   64.000000  Default  28.0000  28.0000\n",
       "2341      company   58.000000   58.000000  Default  27.0000  27.0000\n",
       "219           day   97.000000   97.000000  Default  26.0000  26.0000\n",
       "...           ...         ...         ...      ...      ...      ...\n",
       "843   palestinian    2.987685   69.316382  Topic10  -6.0174   0.0471\n",
       "225           end    2.436853   43.671121  Topic10  -6.2212   0.3053\n",
       "129        attack    2.661238   79.807213  Topic10  -6.1331  -0.2095\n",
       "882        report    2.455044   70.806770  Topic10  -6.2138  -0.1705\n",
       "219           day    2.438089   97.918497  Topic10  -6.2207  -0.5016\n",
       "\n",
       "[796 rows x 6 columns], token_table=      Topic      Freq       Term\n",
       "term                            \n",
       "635       1  0.320337           \n",
       "635       2  0.149491           \n",
       "635       3  0.042712           \n",
       "635       4  0.149491           \n",
       "635       5  0.064067           \n",
       "...     ...       ...        ...\n",
       "178       6  0.094693  yesterday\n",
       "178       7  0.071020  yesterday\n",
       "178       8  0.047347  yesterday\n",
       "178       9  0.023673  yesterday\n",
       "178      10  0.023673  yesterday\n",
       "\n",
       "[2118 rows x 3 columns], R=30, lambda_step=0.01, plot_opts={'xlab': 'PC1', 'ylab': 'PC2'}, topic_order=[3, 1, 9, 6, 8, 5, 2, 4, 7, 10])"
      ]
     },
     "execution_count": 66,
     "metadata": {},
     "output_type": "execute_result"
    }
   ],
   "source": [
    "lda_viz = gensimvis.prepare(ldamodel, corpus, dictionary)\n",
    "lda_viz"
   ]
  },
  {
   "cell_type": "markdown",
   "metadata": {},
   "source": [
    "Podemos ver que palabras como `say`, `Mr`, `said`, `says` y `saying` aparecen en casi todos los topicos, asi que podriamos agregarlas a las stopwords y hacer una nueva iteracion"
   ]
  }
 ],
 "metadata": {
  "kernelspec": {
   "display_name": "env-text-mining-ort",
   "language": "python",
   "name": "env-text-mining-ort"
  },
  "language_info": {
   "codemirror_mode": {
    "name": "ipython",
    "version": 3
   },
   "file_extension": ".py",
   "mimetype": "text/x-python",
   "name": "python",
   "nbconvert_exporter": "python",
   "pygments_lexer": "ipython3",
   "version": "3.8.11"
  }
 },
 "nbformat": 4,
 "nbformat_minor": 4
}
