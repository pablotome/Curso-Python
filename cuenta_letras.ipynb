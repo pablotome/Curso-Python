{
  "nbformat": 4,
  "nbformat_minor": 0,
  "metadata": {
    "colab": {
      "name": "cuenta_letras.ipynb",
      "provenance": []
    },
    "kernelspec": {
      "name": "python3",
      "display_name": "Python 3"
    },
    "language_info": {
      "name": "python"
    }
  },
  "cells": [
    {
      "cell_type": "code",
      "metadata": {
        "colab": {
          "base_uri": "https://localhost:8080/"
        },
        "id": "XUtEzKY2MbOw",
        "outputId": "f6b067e9-bb8c-475f-ceb1-5ed014a5cac3"
      },
      "source": [
        "import string\n",
        "\n",
        "archivo = 'drive/MyDrive/Colab Notebooks/english_sample.txt'\n",
        "\n",
        "texto=''\n",
        "with open(archivo) as q:\n",
        "\tfor linea in q:\n",
        "\t\ttexto += linea\n",
        "# print(texto)\n",
        "\n",
        "# mis_letras = ('a','b','c','d','e')\n",
        "mis_letras = string.ascii_lowercase\n",
        "total = 0\n",
        "\n",
        "letras = {}.fromkeys((x for x in mis_letras ),0)\n",
        "for l in mis_letras:\n",
        "  letras[l]=texto.count(l)\n",
        "  total+=letras[l]\n",
        "\n",
        "print(letras)\n",
        "print(total)\n",
        "\n",
        "frecuencias = {}.fromkeys((x for x in mis_letras ),0.0)\n",
        "for l in mis_letras:\n",
        "  frecuencias[l]=letras[l]/total\n",
        "\n",
        "print(sorted(frecuencias.items(), key=lambda item:item[1],reverse=True))"
      ],
      "execution_count": null,
      "outputs": [
        {
          "output_type": "stream",
          "name": "stdout",
          "text": [
            "{'a': 108, 'b': 20, 'c': 56, 'd': 48, 'e': 183, 'f': 48, 'g': 27, 'h': 67, 'i': 95, 'j': 2, 'k': 15, 'l': 48, 'm': 39, 'n': 125, 'o': 146, 'p': 36, 'q': 0, 'r': 86, 's': 103, 't': 145, 'u': 49, 'v': 15, 'w': 19, 'x': 4, 'y': 37, 'z': 2}\n",
            "1523\n",
            "[('e', 0.12015758371634931), ('o', 0.0958634274458306), ('t', 0.09520682862770848), ('n', 0.08207485226526592), ('a', 0.07091267235718976), ('s', 0.06762967826657912), ('i', 0.0623768877216021), ('r', 0.056467498358502954), ('h', 0.043992120814182537), ('c', 0.036769533814839134), ('u', 0.03217334208798424), ('d', 0.03151674326986211), ('f', 0.03151674326986211), ('l', 0.03151674326986211), ('m', 0.025607353906762966), ('y', 0.024294156270518712), ('p', 0.023637557452396585), ('g', 0.01772816808929744), ('b', 0.013131976362442548), ('w', 0.01247537754432042), ('k', 0.00984898227183191), ('v', 0.00984898227183191), ('x', 0.0026263952724885093), ('j', 0.0013131976362442547), ('z', 0.0013131976362442547), ('q', 0.0)]\n"
          ]
        }
      ]
    }
  ]
}