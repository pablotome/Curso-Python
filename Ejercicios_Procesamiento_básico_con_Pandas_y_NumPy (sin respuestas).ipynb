{
  "nbformat": 4,
  "nbformat_minor": 0,
  "metadata": {
    "anaconda-cloud": {},
    "kernelspec": {
      "display_name": "Python 3",
      "language": "python",
      "name": "python3"
    },
    "language_info": {
      "codemirror_mode": {
        "name": "ipython",
        "version": 3
      },
      "file_extension": ".py",
      "mimetype": "text/x-python",
      "name": "python",
      "nbconvert_exporter": "python",
      "pygments_lexer": "ipython3",
      "version": "3.6.4"
    },
    "colab": {
      "name": "Ejercicios - Procesamiento básico con Pandas y NumPy.ipynb",
      "provenance": [],
      "collapsed_sections": []
    }
  },
  "cells": [
    {
      "cell_type": "markdown",
      "metadata": {
        "id": "Fmm0PBs2RNbb"
      },
      "source": [
        "<center>\n",
        "    <img src=\"https://aulavirtual.instituto.ort.edu.ar/pluginfile.php/1/theme_institutort37/logo/1631673648/logo.png\"/>\n",
        "<h1>Tech Program<br/><b>Data Science con Python</b></h1>\n",
        "</center>\n"
      ]
    },
    {
      "cell_type": "markdown",
      "metadata": {
        "id": "Mlt88-DO8rzV"
      },
      "source": [
        "## Ejercicios - Procesamiento básico con Pandas y NumPy\n",
        "\n",
        "A continuación se detalla una serie de ejercicios a resolver en relación a los temas enumerados. Cada uno cuenta con un espacio preparado para completar con la solución, en algunos se incluyen tips o una introducción con información adicional de guía o referencia didáctica.\n",
        "\n",
        "### Objetivos\n",
        "\n",
        "* Manipulación de DataFrames, Series y Arrays\n",
        "* Consulta e indexación de DataFrames y Series\n",
        "* Selección con boolean masking\n",
        "* Operaciones algebraicas\n",
        "* Carga de datasets con archivos CSV\n",
        "* Insights de los datos\n",
        "\n"
      ]
    },
    {
      "cell_type": "markdown",
      "metadata": {
        "id": "OK9BeaIESP4P"
      },
      "source": [
        "Para trabajar con las librerías en las jupyter nootebooks lo primero que necesitamos es importarlas en nuestra nootebook con:\n"
      ]
    },
    {
      "cell_type": "code",
      "metadata": {
        "id": "1aVeD_-PI-o2"
      },
      "source": [
        "# import pandas library\n",
        "import pandas as pd\n",
        "import numpy as np"
      ],
      "execution_count": null,
      "outputs": []
    },
    {
      "cell_type": "markdown",
      "metadata": {
        "id": "jWzfkZS3Z57p"
      },
      "source": [
        "## **Ejercicios con Arrays**\n",
        "\n"
      ]
    },
    {
      "cell_type": "markdown",
      "metadata": {
        "id": "s7YvXQcG9y5b"
      },
      "source": [
        "### **Ejercicio 1**\n",
        "\n",
        "Crear un array con 20 valores aleatoreos enteros con un shape de 4x5, luego: \n",
        "\n",
        "1. Imprimir el valor mínimo, máximo, promedio, la suma y el tamaño\n",
        "1. Imprimir el valor de la tercer fila y segunda columna\n",
        "1. Imprimir los valores de la segunda fila\n",
        "1. Imprimir los valores de la última columna\n",
        "1. Imprimir los valores en las filas pares y columnas impares\n",
        "\n",
        "> *Tip: usar idexación, slicing y funciones de numpy*\n"
      ]
    },
    {
      "cell_type": "code",
      "metadata": {
        "id": "XsM9IAOrde3r"
      },
      "source": [
        "## Espacio para resolución del eejercicio 1\n",
        "\n",
        "\n",
        "\n",
        "# Fin resolución del ejercicio 1"
      ],
      "execution_count": null,
      "outputs": []
    },
    {
      "cell_type": "markdown",
      "metadata": {
        "id": "yfg7oBLSP5c0"
      },
      "source": [
        "### **Ejercicio 2**\n",
        "Crear un array de 4x4 inicializado en 0 con data type int\n",
        "\n",
        "1. Asignar 1 en las posiciones pares de cada fila\n",
        "1. Asignar -1 en las posiciones impares de cada fila\n",
        "1. Multiplicar todos los elementos por un valor aleatoreo entre -5 y 5 e imprimir\n",
        "1. Imprimir la suma de los valores de cada fila\n",
        "1. Imprimir la suma de los valores de cada columna\n"
      ]
    },
    {
      "cell_type": "code",
      "metadata": {
        "id": "Cafep7VdbmAH"
      },
      "source": [
        "# Espacio para resolver Ejercicio 2\n",
        "\n",
        "\n",
        "\n",
        "\n",
        "# Fin resolución Ejercicio 2"
      ],
      "execution_count": null,
      "outputs": []
    },
    {
      "cell_type": "markdown",
      "metadata": {
        "id": "ml2rMh-m9WK7"
      },
      "source": [
        "### **Ejercicio 3**\n",
        "\n",
        "Crear un array que tenga 50 valores entre 0 y 2 pi"
      ]
    },
    {
      "cell_type": "code",
      "metadata": {
        "id": "YoJZIbB-briQ"
      },
      "source": [
        "# Espacio para resolver Ejercicio 3\n",
        "\n",
        "\n",
        "\n",
        "\n",
        "# Fin resolución Ejercicio 3"
      ],
      "execution_count": null,
      "outputs": []
    },
    {
      "cell_type": "markdown",
      "metadata": {
        "id": "IsLdKX7E3SWE"
      },
      "source": [
        "## **Ejercicios con Pandas Series**"
      ]
    },
    {
      "cell_type": "markdown",
      "metadata": {
        "collapsed": true,
        "id": "cIfoqLkA5W9l"
      },
      "source": [
        "### **Ejercicio 4**\n",
        "\n",
        "Crear un objeto Series partir de un array de numpy con 30 números aleatorios entre 20 y 50.\n",
        "\n",
        "1. Imprimir los valores mayores a 40\n",
        "1. Imprimir los duplicados\n",
        "1. Eliminar los duplicados\n",
        "1. Imprimir nuevamente los mayores a 40\n"
      ]
    },
    {
      "cell_type": "code",
      "metadata": {
        "id": "OpWn_y7tsdN9"
      },
      "source": [
        "# Espacio para resolución del Ejercicio 4\n",
        "\n",
        "\n",
        "\n",
        "# Fin resolución del ejercicio 4"
      ],
      "execution_count": null,
      "outputs": []
    },
    {
      "cell_type": "markdown",
      "metadata": {
        "id": "J6IrZfzMTQ4P"
      },
      "source": [
        "### **Ejercicio 5**\n",
        "\n",
        "Crear un objeto Series a partir de un diccionario con los nombres (distintos) de los alumnos como clave y las notas que obtuvieron en un exámen, luego sobre el objeto Series realizar:\n",
        "\n",
        "1. Mostrar la nota promedio\n",
        "1. Mostrar alumnos que obtuvieron una nota mayor o igual al promedio en orden descendente\n",
        "1. Mostrar los alumnos que obtuvieron la mejor nota\n",
        "1. Mostrar los alumnos que no aprobaron (nota menor a 4)\n",
        "\n",
        "Alumno |Nota\n",
        "-------|----\n",
        "Mickie|8\n",
        "Milan|4\n",
        "Isabella|5\n",
        "Vernice|9\n",
        "Fanny|6\n",
        "Leigha|8\n",
        "Melvina|4\n",
        "Adina|2\n",
        "Fairy|2\n",
        "Loraine|8\n",
        "Rodolfo|6\n",
        "Iola|2\n",
        "Carrol|9\n",
        "Lacy|4\n"
      ]
    },
    {
      "cell_type": "code",
      "metadata": {
        "id": "hiUfKVILipSP"
      },
      "source": [
        "# Espacio para resolución del Ejercicio 5\n",
        "\n",
        "\n",
        "\n",
        "\n",
        "\n",
        "\n",
        "# Fin resolución del ejercicio 5"
      ],
      "execution_count": null,
      "outputs": []
    },
    {
      "cell_type": "markdown",
      "metadata": {
        "id": "uxalci4kzQU0"
      },
      "source": [
        "## **Ejercicios con Pandas DataFrames**"
      ]
    },
    {
      "cell_type": "markdown",
      "metadata": {
        "id": "KXliBtbQzy_0"
      },
      "source": [
        "### **Lectura de datos con Pandas**\n",
        "\n",
        "Usamos la función `pandas.read_csv()` para leer archivos csv. Entre paréntesis, colocamos la ruta del archivo para que pandas lea el archivo DataFrame desde esa dirección. La ruta del archivo puede ser una URL o la de un archivo local.\n",
        "\n",
        "A veces los datasets no incluyen una primer fila con el encabezado, cuando es así podemos agregar el argumento `headers = None` dentro de la función `read_csv()` para que pandas no asuma la primera fila como el encabezado y posteriormente establecer la cabecera manualmente al DataFrame\n",
        "\n",
        "**Dataset a utilizar en el siguiente ejercicio**\n",
        "\n",
        "> URL: https://people.sc.fsu.edu/~jburkardt/data/csv/homes.csv\n",
        ">\n",
        "> *Home sale statistics. Fifty home sales, with selling price, asking price, living space, rooms, bedrooms, bathrooms, age, acreage, taxes There is also an initial header line*\n",
        "\n",
        "Luego de leer el conjunto de datos, podemos usar el método `DataFrame.head(n)` para revisar las n filas superiores del DataFrame, donde n es un número entero. Al contrario de DataFrame.head(n), `DataFrame.tail(n)` muestra las n filas inferiores del DataFrame.\n",
        "\n",
        "**Ejemplo:**\n",
        "\n",
        "```python\n",
        "url = \"https://people.sc.fsu.edu/~jburkardt/data/csv/homes.csv\"\n",
        "\n",
        "# se lee el archivo en un dataframe, el argumento skipinitialspace sirve para\n",
        "# ignorar los espacios luego del separador.  \n",
        "sells_df = pd.read_csv(url, skipinitialspace=True)\n",
        "\n",
        "\n",
        "# con head vemos los 10 primeros registros con todas las columnas\n",
        "sells_df.head(10)\n",
        "```"
      ]
    },
    {
      "cell_type": "markdown",
      "metadata": {
        "collapsed": true,
        "id": "fFVTNT7ZzQU0"
      },
      "source": [
        "### **Ejercicio 6**\n",
        "\n",
        "Crear un objeto DataFrame a partir del dataset de estadísticas de ventas de hogares previamente indicado con la función read_csv(), luego realizar las siguientes operaciones con el DataFrame:\n",
        "\n",
        "1. Generar la salida con la función info() del DataFrame y analizar el resultado.\n",
        "1. Imprimir el shape del data frame\n",
        "1. Mostrar las últimas 10 operaciones usando la función tail(n)\n",
        "1. Mostrar el resumen descriptivo del DataFrame usando la función describe()\n",
        "1. Crear una función que reciba la cantidad de habitaciones (Beds) y baños (Baths) y devuelva un diccionario con la cantidad de ventas que coincidan, el precio promedio venta y el precio promedio de lista, y en caso de no encontrar coincidencias un mensaje informativo.\n",
        "1. Mostrar los años, la cantidad de ambientes y el precio de venta de las ventas de hasta 10 años de antigüedad ordenadas por precio de venta (decreciente)\n",
        "1. Crear una nueva columna con el porcentaje de la diferencia del precio de venta con el precio de lista (Discount) (List-Sell)/List\n",
        "1. Mostrar las 5 operaciones que mayor rebaja hicieron en el precio\n",
        "1. Seleccionar las ventas de de viviendas con mas de 8 rooms y mostrar un resumen descriptivo de las mismas\n"
      ]
    },
    {
      "cell_type": "code",
      "metadata": {
        "id": "YlAj44_8zQU1"
      },
      "source": [
        "# Espacio para resolución del Ejercicio 6\n",
        "\n",
        "\n",
        "\n",
        "# Fin resolución del ejercicio 6"
      ],
      "execution_count": null,
      "outputs": []
    }
  ]
}